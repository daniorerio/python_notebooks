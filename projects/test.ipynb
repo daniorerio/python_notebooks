{
 "metadata": {
  "name": "",
  "signature": "sha256:8f7833b47b1659926462ed1cb4f2832b54ecf019c1dd50221f5cd47ebb4aa05e"
 },
 "nbformat": 3,
 "nbformat_minor": 0,
 "worksheets": [
  {
   "cells": [
    {
     "cell_type": "markdown",
     "metadata": {},
     "source": [
      "Test notebook original"
     ]
    },
    {
     "cell_type": "code",
     "collapsed": false,
     "input": [],
     "language": "python",
     "metadata": {},
     "outputs": []
    }
   ],
   "metadata": {}
  }
 ]
}