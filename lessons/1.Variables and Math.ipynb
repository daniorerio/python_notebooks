{
 "metadata": {
  "name": "",
  "signature": "sha256:0d79cef8a55a9bcc905826acee844b544d3574aaf0f3fe931f1fcb6bc0ca8835"
 },
 "nbformat": 3,
 "nbformat_minor": 0,
 "worksheets": [
  {
   "cells": [
    {
     "cell_type": "heading",
     "level": 1,
     "metadata": {},
     "source": [
      "Introduction to Python Programming: Variables and Math"
     ]
    },
    {
     "cell_type": "heading",
     "level": 3,
     "metadata": {},
     "source": [
      "Functions"
     ]
    },
    {
     "cell_type": "markdown",
     "metadata": {},
     "source": [
      "Like mathematical functions, Python functions do something using the objects in the parentheses.  "
     ]
    },
    {
     "cell_type": "code",
     "collapsed": false,
     "input": [
      "print(\"Hello world!\")"
     ],
     "language": "python",
     "metadata": {},
     "outputs": []
    },
    {
     "cell_type": "heading",
     "level": 3,
     "metadata": {},
     "source": [
      "Comments"
     ]
    },
    {
     "cell_type": "markdown",
     "metadata": {},
     "source": [
      "Comments are text used to annotate code. "
     ]
    },
    {
     "cell_type": "code",
     "collapsed": false,
     "input": [
      "#Comments are defined by the number/pound sign.\n",
      "\n",
      "\"\"\"Three quotation marks can be used to define descriptions of following code.  \n",
      "They are only ignored by the Python interpreter if found at the beginning of the code block.\"\"\""
     ],
     "language": "python",
     "metadata": {},
     "outputs": []
    },
    {
     "cell_type": "heading",
     "level": 3,
     "metadata": {},
     "source": [
      "Variables"
     ]
    },
    {
     "cell_type": "markdown",
     "metadata": {},
     "source": [
      "Variables can be considered containers for values, assigned using the equal sign.  \n",
      "\n",
      "A value is assigned to a variable name using the equals sign.  On the left hand side of the equals is the name of the variable. On the right hand side is that value that is assigned to it.  The variable name then works just like typing its value."
     ]
    },
    {
     "cell_type": "code",
     "collapsed": false,
     "input": [
      "a = 2\n",
      "print a"
     ],
     "language": "python",
     "metadata": {},
     "outputs": []
    },
    {
     "cell_type": "markdown",
     "metadata": {},
     "source": [
      "The value of one variable can also be assigned to another variable."
     ]
    },
    {
     "cell_type": "code",
     "collapsed": false,
     "input": [
      "a=2\n",
      "b=a\n",
      "print b"
     ],
     "language": "python",
     "metadata": {},
     "outputs": []
    },
    {
     "cell_type": "heading",
     "level": 3,
     "metadata": {},
     "source": [
      "Types of variables"
     ]
    },
    {
     "cell_type": "markdown",
     "metadata": {},
     "source": [
      "Number varibles include integers and floating point numbers.  Boolean variables are True and False.  Text variables are called strings.  The type( ) function returns the type of variable."
     ]
    },
    {
     "cell_type": "code",
     "collapsed": false,
     "input": [
      "a = 2\n",
      "b = 1e9\n",
      "c = False\n",
      "d = \"A string\"\n",
      "\n",
      "print (a)\n",
      "print (b)\n",
      "print (c)\n",
      "print (d)\n",
      "\n",
      "print type(a),\n",
      "print type(b),\n",
      "print type(c),\n",
      "print type(d)"
     ],
     "language": "python",
     "metadata": {},
     "outputs": []
    },
    {
     "cell_type": "markdown",
     "metadata": {},
     "source": [
      "Null values are often used in coding.  The Python null variable is None."
     ]
    },
    {
     "cell_type": "code",
     "collapsed": false,
     "input": [
      "value = None\n",
      "print value"
     ],
     "language": "python",
     "metadata": {},
     "outputs": []
    },
    {
     "cell_type": "heading",
     "level": 3,
     "metadata": {},
     "source": [
      "Variable assignment"
     ]
    },
    {
     "cell_type": "markdown",
     "metadata": {},
     "source": [
      "In Python, variables gain their type automatically by assignment.  Variables can change value by reassignment, as well as change type."
     ]
    },
    {
     "cell_type": "code",
     "collapsed": false,
     "input": [
      "five = 5\n",
      "six = 6\n",
      "print(five)\n",
      "print type(five)\n",
      "five = 'five'\n",
      "print(five)\n",
      "print type(five)\n",
      "five = 'seven'\n",
      "print(five)"
     ],
     "language": "python",
     "metadata": {},
     "outputs": []
    },
    {
     "cell_type": "heading",
     "level": 3,
     "metadata": {},
     "source": [
      "Math"
     ]
    },
    {
     "cell_type": "markdown",
     "metadata": {},
     "source": [
      "Integer math is straightforward for addition, subtraction and multiplication.  Guess what the '**' operator does."
     ]
    },
    {
     "cell_type": "code",
     "collapsed": false,
     "input": [
      "five = 5\n",
      "two = 2\n",
      "six = 6\n",
      "print(five+two)\n",
      "print(five-two)\n",
      "print(five*six)\n",
      "print(five**two)"
     ],
     "language": "python",
     "metadata": {},
     "outputs": []
    },
    {
     "cell_type": "markdown",
     "metadata": {},
     "source": [
      "In a block of code, reassigning the value of a variable does not change the result of steps already executed. It only changes steps that happen after the reassignment."
     ]
    },
    {
     "cell_type": "code",
     "collapsed": false,
     "input": [
      "a = 5\n",
      "b = 2\n",
      "product = a*b\n",
      "print product\n",
      "a = 2\n",
      "print product"
     ],
     "language": "python",
     "metadata": {},
     "outputs": []
    },
    {
     "cell_type": "markdown",
     "metadata": {},
     "source": [
      "The same variable can be found on both sides of an equals sign. Although conterintuitive from a mathematical perspective, it works because in ccomputer programming the expression on the right hand side of the equation is evaluated first before the variable ont he left is assigned."
     ]
    },
    {
     "cell_type": "code",
     "collapsed": false,
     "input": [
      "i = 1\n",
      "print i\n",
      "i = i + 1\n",
      "print i"
     ],
     "language": "python",
     "metadata": {},
     "outputs": []
    },
    {
     "cell_type": "markdown",
     "metadata": {},
     "source": [
      "Iterator notation will add to to a variable and make the sum the new value of the variable.  This is a common bit of code used in many routines."
     ]
    },
    {
     "cell_type": "code",
     "collapsed": false,
     "input": [
      "i += 1\n",
      "print i"
     ],
     "language": "python",
     "metadata": {},
     "outputs": []
    },
    {
     "cell_type": "markdown",
     "metadata": {},
     "source": [
      "Integer division is a little trickier.  In Python 2.7, used here, the result of division of two integers is rounded down to the nearest integer.  Division where one value is floating point will give a result that is also floating point."
     ]
    },
    {
     "cell_type": "code",
     "collapsed": false,
     "input": [
      "print(5/2)\n",
      "print(5.0/2)"
     ],
     "language": "python",
     "metadata": {},
     "outputs": []
    },
    {
     "cell_type": "markdown",
     "metadata": {},
     "source": [
      "You can avoid this problem by using the following statement at the beginning of the block of code."
     ]
    },
    {
     "cell_type": "code",
     "collapsed": false,
     "input": [
      "from __future__ import division\n",
      "print 5 / 2"
     ],
     "language": "python",
     "metadata": {},
     "outputs": [
      {
       "output_type": "stream",
       "stream": "stdout",
       "text": [
        "2.5\n"
       ]
      }
     ],
     "prompt_number": 1
    },
    {
     "cell_type": "markdown",
     "metadata": {},
     "source": [
      "The modulus function provides the remainder after integer division.  While not typically an important function, it is very useful in programming.  It is represented by the % symbol."
     ]
    },
    {
     "cell_type": "code",
     "collapsed": false,
     "input": [
      "print(5%2) "
     ],
     "language": "python",
     "metadata": {},
     "outputs": []
    },
    {
     "cell_type": "markdown",
     "metadata": {},
     "source": [
      "Variable types can be changed using functions such as float() or str().  What do you predict will happen for each of the following?"
     ]
    },
    {
     "cell_type": "code",
     "collapsed": false,
     "input": [
      "five = 5\n",
      "\n",
      "print(five/2)\n",
      "print(float(five)/2)\n",
      "\n",
      "print(five*2)\n",
      "print(str(five)*2)"
     ],
     "language": "python",
     "metadata": {},
     "outputs": []
    },
    {
     "cell_type": "markdown",
     "metadata": {},
     "source": [
      "Modules are groups of functions and other code available to use after they are imported.  The math module has many basic math functions."
     ]
    },
    {
     "cell_type": "code",
     "collapsed": false,
     "input": [
      "import math\n",
      "five = 5\n",
      "print math.cos(five)"
     ],
     "language": "python",
     "metadata": {},
     "outputs": []
    },
    {
     "cell_type": "heading",
     "level": 3,
     "metadata": {},
     "source": [
      "Getting help"
     ]
    },
    {
     "cell_type": "markdown",
     "metadata": {},
     "source": [
      "To find out what is available in modules, use the dir( ) function."
     ]
    },
    {
     "cell_type": "code",
     "collapsed": false,
     "input": [
      "dir(math)"
     ],
     "language": "python",
     "metadata": {},
     "outputs": []
    },
    {
     "cell_type": "markdown",
     "metadata": {},
     "source": [
      "To get help about a single function in IPython, use the ?"
     ]
    },
    {
     "cell_type": "code",
     "collapsed": false,
     "input": [
      "math.pow?"
     ],
     "language": "python",
     "metadata": {},
     "outputs": []
    },
    {
     "cell_type": "code",
     "collapsed": false,
     "input": [],
     "language": "python",
     "metadata": {},
     "outputs": []
    }
   ],
   "metadata": {}
  }
 ]
}