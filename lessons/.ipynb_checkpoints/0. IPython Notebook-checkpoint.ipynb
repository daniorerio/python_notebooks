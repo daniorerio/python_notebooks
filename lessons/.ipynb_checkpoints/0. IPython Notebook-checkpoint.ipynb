{
 "cells": [
  {
   "cell_type": "markdown",
   "metadata": {},
   "source": [
    "# Introduction to IPython Notebook"
   ]
  },
  {
   "cell_type": "markdown",
   "metadata": {},
   "source": [
    "The IPython notebook is composed of cells that can contain text or run code.  Code is executed when the Run Cell button is clicked."
   ]
  },
  {
   "cell_type": "code",
   "execution_count": null,
   "metadata": {
    "collapsed": false
   },
   "outputs": [],
   "source": [
    "print \"Welcome to IPython Notebook!\""
   ]
  },
  {
   "cell_type": "markdown",
   "metadata": {},
   "source": [
    "### Keyboard Shortcuts"
   ]
  },
  {
   "cell_type": "markdown",
   "metadata": {},
   "source": [
    "Shortcuts can be found under the Help menu.\n",
    "\n",
    "A useful keyboard shortcut:\n",
    "\n",
    "`Shift-Enter`: Execute the current cell, show output (if any), and jump to the next cell below. "
   ]
  },
  {
   "cell_type": "markdown",
   "metadata": {},
   "source": [
    "### Markdown notation"
   ]
  },
  {
   "cell_type": "markdown",
   "metadata": {},
   "source": [
    "Cells in IPython Notebook can be formatted as markdown cells, using Markdown notation. Cells are converted to Markdown using the cell formatting pulldown."
   ]
  },
  {
   "cell_type": "markdown",
   "metadata": {},
   "source": [
    "**bold**\n",
    "*italic*\n",
    "~~strikethrough~~ "
   ]
  },
  {
   "cell_type": "markdown",
   "metadata": {},
   "source": [
    "Lists\n",
    "* first item\n",
    "* second item\n",
    "\n",
    "Numbered list\n",
    "\n",
    "1. item 1\n",
    "2. item 2 "
   ]
  },
  {
   "cell_type": "markdown",
   "metadata": {},
   "source": [
    "Block quotes\n",
    "\n",
    "> block\n",
    "\n",
    "> quote "
   ]
  },
  {
   "cell_type": "markdown",
   "metadata": {},
   "source": [
    "#Heading 1\n",
    "##Heading 2\n",
    "###Heading 3\n",
    "####Heading 4\n",
    "\n",
    "Also:\n",
    "\n",
    "Heading 1\n",
    "-\n",
    "Heading 2\n",
    "--\n",
    "etc. "
   ]
  },
  {
   "cell_type": "markdown",
   "metadata": {},
   "source": [
    "Horizontal rule (need a return between)\n",
    "\n",
    "---"
   ]
  },
  {
   "cell_type": "markdown",
   "metadata": {},
   "source": [
    "Code identification:\n",
    "`code`"
   ]
  },
  {
   "cell_type": "markdown",
   "metadata": {
    "collapsed": false
   },
   "source": [
    "Links\n",
    "[ZFIN](http://zfin.org)"
   ]
  },
  {
   "cell_type": "markdown",
   "metadata": {},
   "source": [
    "Images\n",
    "![alt-text](http://zfin.org/images/zfinlogo.png)"
   ]
  },
  {
   "cell_type": "markdown",
   "metadata": {},
   "source": [
    "### Magic functions"
   ]
  },
  {
   "cell_type": "markdown",
   "metadata": {},
   "source": [
    "Magics come in two kinds:\n",
    "\n",
    "* Line magics: these are commands prepended by one % character and whose arguments only extend to the end of the current line.  Examples of these magic functions are found in the Unix and Shell lesson.\n",
    "\n",
    "\n",
    "* Cell magics: these use two percent characters as a marker (%%), and they receive as argument both the current line where they are declared and the whole body of the cell. Some magics allow running other code interpreters, such as `%%bash` for running a Unix shell, and `%%ruby` for running Ruby.\n",
    "\n",
    "To list available magic commands, use `%lsmagic`."
   ]
  },
  {
   "cell_type": "code",
   "execution_count": null,
   "metadata": {
    "collapsed": false
   },
   "outputs": [],
   "source": [
    "%lsmagic"
   ]
  },
  {
   "cell_type": "markdown",
   "metadata": {},
   "source": [
    "One useful magic is the `%%writefile magic`, which can generate a text file."
   ]
  },
  {
   "cell_type": "code",
   "execution_count": 2,
   "metadata": {
    "collapsed": false
   },
   "outputs": [
    {
     "name": "stdout",
     "output_type": "stream",
     "text": [
      "Writing test_file.txt\n"
     ]
    }
   ],
   "source": [
    "%%writefile  test_file.txt\n",
    "\n",
    "Adding text to a file."
   ]
  },
  {
   "cell_type": "markdown",
   "metadata": {},
   "source": [
    "Use the code below to remove the test file."
   ]
  },
  {
   "cell_type": "code",
   "execution_count": 3,
   "metadata": {
    "collapsed": false
   },
   "outputs": [],
   "source": [
    "%rm test_file.txt"
   ]
  }
 ],
 "metadata": {
  "kernelspec": {
   "display_name": "Python 2",
   "language": "python",
   "name": "python2"
  },
  "language_info": {
   "codemirror_mode": {
    "name": "ipython",
    "version": 2
   },
   "file_extension": ".py",
   "mimetype": "text/x-python",
   "name": "python",
   "nbconvert_exporter": "python",
   "pygments_lexer": "ipython2",
   "version": "2.7.10"
  }
 },
 "nbformat": 4,
 "nbformat_minor": 0
}
