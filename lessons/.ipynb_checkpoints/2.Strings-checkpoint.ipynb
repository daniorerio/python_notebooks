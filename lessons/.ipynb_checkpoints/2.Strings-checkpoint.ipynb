{
 "metadata": {
  "name": "",
  "signature": "sha256:d2fdbe3ebebac9a1e4082206460cedbdc32a897070617959f1e54e22739c6a6e"
 },
 "nbformat": 3,
 "nbformat_minor": 0,
 "worksheets": [
  {
   "cells": [
    {
     "cell_type": "heading",
     "level": 1,
     "metadata": {},
     "source": [
      "Strings"
     ]
    },
    {
     "cell_type": "markdown",
     "metadata": {},
     "source": [
      "String variables are text.\n",
      "\n",
      "Strings can have one of two major types in Python:\n",
      "\n",
      "* str: which handles all of the characters in the Latin alphabet (basically anything you'll find on a keyboard in North America)\n",
      "* unicode: which handles basically anything that would be a on keyboard anywhere\n",
      "\n",
      "Strings are created using either single or double quotes. It doesn't typically matter which kind of quotes you use, but they do need to match."
     ]
    },
    {
     "cell_type": "code",
     "collapsed": false,
     "input": [
      "genus = 'Danio'\n",
      "print(genus)"
     ],
     "language": "python",
     "metadata": {},
     "outputs": []
    },
    {
     "cell_type": "markdown",
     "metadata": {},
     "source": [
      "Escape characters are those that would otherwise be interpreted incorrectly by Python.\n",
      "\n",
      "Escape characters include:\n",
      "\n",
      "* \\' - Quotation mark\n",
      "* \\\" - Double quotation mark\n",
      "* \\t - Tab\n",
      "* \\n - New line\n",
      "* \\\\\\\\ - Backslash\n"
     ]
    },
    {
     "cell_type": "code",
     "collapsed": false,
     "input": [
      "print \"Danny O\\'Rerio'\n",
      "print 'Danny O'Rerio'"
     ],
     "language": "python",
     "metadata": {},
     "outputs": []
    },
    {
     "cell_type": "markdown",
     "metadata": {},
     "source": [
      "Strings can be concatenated."
     ]
    },
    {
     "cell_type": "code",
     "collapsed": false,
     "input": [
      "genus = 'Danio'\n",
      "species = 'rerio'\n",
      "\n",
      "full_name = genus + ' ' + species + ' '\n",
      "\n",
      "print(full_name)\n",
      "print(full_name*2)"
     ],
     "language": "python",
     "metadata": {},
     "outputs": []
    },
    {
     "cell_type": "markdown",
     "metadata": {},
     "source": [
      "Methods modify variables without changing their values. Methods follow variables using the dot notation.  In many cases the parentheses of methods are left blank."
     ]
    },
    {
     "cell_type": "code",
     "collapsed": false,
     "input": [
      "genus = 'danio'\n",
      "print(genus)\n",
      "\n",
      "print(genus.title())\n",
      "print(genus)\n",
      "\n",
      "cap_genus = genus.title()\n",
      "print(cap_genus)"
     ],
     "language": "python",
     "metadata": {},
     "outputs": []
    },
    {
     "cell_type": "markdown",
     "metadata": {},
     "source": [
      "White spaces include blank spaces, tabs and the newline character."
     ]
    },
    {
     "cell_type": "code",
     "collapsed": false,
     "input": [
      "full_name = 'Danio rerio '\n",
      "print(full_name)\n",
      "tab_full_name = '\\t' + full_name\n",
      "newline_full_name = '\\n' + full_name\n",
      "print(tab_full_name)\n",
      "print(newline_full_name)"
     ],
     "language": "python",
     "metadata": {},
     "outputs": []
    },
    {
     "cell_type": "markdown",
     "metadata": {},
     "source": [
      "The strip( ) method removes white spaces from either end of strings, but not in the middle.  There are additional methods lstrip( ) and rstrip( ).  strip( ) is very useful when importing text as it gets rid of white spaces potentialy confounding in later code."
     ]
    },
    {
     "cell_type": "code",
     "collapsed": false,
     "input": [
      "tab_full_name = '\\tDanio rerio'\n",
      "print(tab_full_name)\n",
      "print(tab_full_name.strip())"
     ],
     "language": "python",
     "metadata": {},
     "outputs": []
    },
    {
     "cell_type": "heading",
     "level": 3,
     "metadata": {},
     "source": [
      "String formatting"
     ]
    },
    {
     "cell_type": "markdown",
     "metadata": {},
     "source": [
      "Formatting allows the insertion of variable values.  The curly brackets { } indicate the location where the variable should be placed.  More than one variable can be indicated, starting with 0 for the first variable.  What do you think is going to happen with the last line?"
     ]
    },
    {
     "cell_type": "code",
     "collapsed": false,
     "input": [
      "genus = 'Danio'\n",
      "species = 'rerio'\n",
      "print 'The zebrafish is {0}.'.format(genus)\n",
      "print 'The zebrafish is {0} {1}, a common laboratory fish.'.format(genus,species)\n",
      "print 'The zebrafish is {1} {0}, a common laboratory fish?'.format(genus,species)"
     ],
     "language": "python",
     "metadata": {},
     "outputs": []
    },
    {
     "cell_type": "heading",
     "level": 3,
     "metadata": {},
     "source": [
      "Indexing strings"
     ]
    },
    {
     "cell_type": "markdown",
     "metadata": {},
     "source": [
      "The len( ) function gives the total number of items within a variable.  With strings, it will return the total number of characters including white spaces."
     ]
    },
    {
     "cell_type": "code",
     "collapsed": false,
     "input": [
      "full_name = 'Danio rerio'\n",
      "print len(full_name)"
     ],
     "language": "python",
     "metadata": {},
     "outputs": []
    },
    {
     "cell_type": "markdown",
     "metadata": {},
     "source": [
      "Indexing will return part of a string.  The index number is included in the square brackets[ ].  In python, indexing always starts at zero."
     ]
    },
    {
     "cell_type": "code",
     "collapsed": false,
     "input": [
      "full_name = 'Danio rerio'\n",
      "print(full_name[4])"
     ],
     "language": "python",
     "metadata": {},
     "outputs": []
    },
    {
     "cell_type": "markdown",
     "metadata": {},
     "source": [
      "Indexing can be performed from the back as well as the front.  The last position is index -1."
     ]
    },
    {
     "cell_type": "code",
     "collapsed": false,
     "input": [
      "full_name = 'Danio rerio'\n",
      "print(full_name[10])\n",
      "print(full_name[len(full_name)-1])\n",
      "print(full_name[-10])"
     ],
     "language": "python",
     "metadata": {},
     "outputs": []
    },
    {
     "cell_type": "markdown",
     "metadata": {},
     "source": [
      "Slicing allows the capture of part of a string, using the notation start:end.  The first index indicates the start of a slice. The last index indicates the character before which the slice occurs.  The start and end can be left blank."
     ]
    },
    {
     "cell_type": "code",
     "collapsed": false,
     "input": [
      "#slicing list\n",
      "full_name = 'Danio rerio'\n",
      "print(full_name[0:3])\n",
      "print(full_name[3:5])\n",
      "print(full_name[1:])\n",
      "print(full_name[:3])"
     ],
     "language": "python",
     "metadata": {},
     "outputs": []
    },
    {
     "cell_type": "heading",
     "level": 3,
     "metadata": {},
     "source": [
      "Find"
     ]
    },
    {
     "cell_type": "markdown",
     "metadata": {},
     "source": [
      "The find method will return the index of the first character in the search string.  It can take an additional argument indicating where the search will start.  It returns -1 if nothing is found.  There are additional variations of find methods in the str module."
     ]
    },
    {
     "cell_type": "code",
     "collapsed": false,
     "input": [
      "#find\n",
      "full_name = 'Danio rerio'\n",
      "print full_name.find('io')\n",
      "print full_name.find('io',5)\n",
      "print full_name.find('eo')\n",
      "print full_name.find('1o',10)"
     ],
     "language": "python",
     "metadata": {},
     "outputs": []
    },
    {
     "cell_type": "code",
     "collapsed": false,
     "input": [
      "dir(str)"
     ],
     "language": "python",
     "metadata": {},
     "outputs": []
    },
    {
     "cell_type": "code",
     "collapsed": false,
     "input": [
      "str.rfind?"
     ],
     "language": "python",
     "metadata": {},
     "outputs": []
    },
    {
     "cell_type": "heading",
     "level": 1,
     "metadata": {},
     "source": [
      "Exercise"
     ]
    },
    {
     "cell_type": "markdown",
     "metadata": {},
     "source": [
      "Write some code to generate some variables, \n",
      "do some math and print out the result as a formatted string.\n"
     ]
    },
    {
     "cell_type": "code",
     "collapsed": false,
     "input": [],
     "language": "python",
     "metadata": {},
     "outputs": []
    }
   ],
   "metadata": {}
  }
 ]
}