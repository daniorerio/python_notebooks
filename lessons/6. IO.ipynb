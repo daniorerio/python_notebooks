{
 "cells": [
  {
   "cell_type": "markdown",
   "metadata": {},
   "source": [
    "# Input / Output and File manipulation"
   ]
  },
  {
   "cell_type": "markdown",
   "metadata": {},
   "source": [
    "### User input"
   ]
  },
  {
   "cell_type": "markdown",
   "metadata": {},
   "source": [
    "The `raw_input` function will get a string from the user."
   ]
  },
  {
   "cell_type": "code",
   "execution_count": null,
   "metadata": {
    "collapsed": false
   },
   "outputs": [],
   "source": [
    "variable = raw_input('Please enter a number: ')\n",
    "half = float(variable)/2\n",
    "print '{0} divided by 2 is {1}. Your input was {0}.'.format(variable,half)"
   ]
  },
  {
   "cell_type": "markdown",
   "metadata": {},
   "source": [
    "What happens if variable is not changed to float?"
   ]
  },
  {
   "cell_type": "markdown",
   "metadata": {},
   "source": [
    "### Reading and writing files"
   ]
  },
  {
   "cell_type": "markdown",
   "metadata": {},
   "source": [
    "The `open` function creates files to read or write. Use 'r' to read, 'w' to write a new file, or 'a' to append to an existing file."
   ]
  },
  {
   "cell_type": "code",
   "execution_count": null,
   "metadata": {
    "collapsed": false
   },
   "outputs": [],
   "source": [
    "#writing to a file\n",
    "outfile = open('fishes.txt','w')\n",
    "fishes = ['Oryzias latipes','Danio rerio','Takifugu rubripes']\n",
    "\n",
    "for fish in fishes:\n",
    "    outfile.write(fish + ' ')\n",
    "\n",
    "#you need to close the file\n",
    "outfile.close()"
   ]
  },
  {
   "cell_type": "code",
   "execution_count": null,
   "metadata": {
    "collapsed": false
   },
   "outputs": [],
   "source": [
    "#reading from a file\n",
    "infile = open('fishes.txt','rU')#'rU' will take Universal encoding\n",
    "text = infile.read()\n",
    "\n",
    "#you need to close the file\n",
    "infile.close()\n",
    "\n",
    "print text"
   ]
  },
  {
   "cell_type": "markdown",
   "metadata": {},
   "source": [
    "Some files structures use character encoding called Unicode.  'rU' will make sure these are read correctly."
   ]
  },
  {
   "cell_type": "markdown",
   "metadata": {},
   "source": [
    "### Structured Text files"
   ]
  },
  {
   "cell_type": "markdown",
   "metadata": {},
   "source": [
    "Files are often saved as tab delimited text or as comma separated values (e.g. from Excel).  The `csv` module allows these to be easily parsed."
   ]
  },
  {
   "cell_type": "code",
   "execution_count": null,
   "metadata": {
    "collapsed": false
   },
   "outputs": [],
   "source": [
    "#write a file using csv module\n",
    "import csv\n",
    "outfile = open('fishes.csv','w')\n",
    "writer = csv.writer(outfile, delimiter = ',') # delimiter indicates what separates items in lists\n",
    "\n",
    "fishes = ['Oryzias latipes','Danio rerio']\n",
    "more_fishes = ['Gasterosteus aculeatus','Takifugu rubripes']\n",
    "\n",
    "writer.writerow(fishes)\n",
    "writer.writerow(more_fishes)\n",
    "\n",
    "#you need to close the file\n",
    "outfile.close()"
   ]
  },
  {
   "cell_type": "code",
   "execution_count": null,
   "metadata": {
    "collapsed": false
   },
   "outputs": [],
   "source": [
    "#parse CSV files with csv module\n",
    "import csv\n",
    "infile = open('fishes.csv','rU')\n",
    "\n",
    "reader = csv.reader(infile) \n",
    "# csv reader and writer also takes the delimiter argument.\n",
    "#example: csv.reader(infile,delimiter = '\\t')  for tab delimited files\n",
    "\n",
    "for line in reader:\n",
    "    print line\n",
    "    \n",
    "infile.close()"
   ]
  },
  {
   "cell_type": "markdown",
   "metadata": {},
   "source": [
    "### Importing NumPy arrays"
   ]
  },
  {
   "cell_type": "markdown",
   "metadata": {},
   "source": [
    "To import data into arrays use [loadtxt](http://docs.scipy.org/doc/numpy/reference/generated/numpy.loadtxt.html) or for more complex files [genfromtxt](http://docs.scipy.org/doc/numpy/reference/generated/numpy.genfromtxt.html#numpy.genfromtxt)."
   ]
  },
  {
   "cell_type": "code",
   "execution_count": null,
   "metadata": {
    "collapsed": false
   },
   "outputs": [],
   "source": [
    "import numpy as np\n",
    "fishes = np.loadtxt('fishes.csv', dtype = str, delimiter=',')  #use skiprows = 1 if you want to skip the header row\n",
    "print fishes"
   ]
  },
  {
   "cell_type": "markdown",
   "metadata": {},
   "source": [
    "### Importing images"
   ]
  },
  {
   "cell_type": "markdown",
   "metadata": {},
   "source": [
    "Matplotlib supports image import of .png files using `imread( )`.  For other image types use `scipy.imread( )`."
   ]
  },
  {
   "cell_type": "code",
   "execution_count": null,
   "metadata": {
    "collapsed": false
   },
   "outputs": [],
   "source": [
    "%cd ~/data\n",
    "%ls\n",
    "img = imread('stinkbug.png')\n",
    "imshow(img)\n",
    "show()"
   ]
  },
  {
   "cell_type": "markdown",
   "metadata": {},
   "source": [
    "### Getting files from the web"
   ]
  },
  {
   "cell_type": "markdown",
   "metadata": {},
   "source": [
    "The [urllib2](https://docs.python.org/2/howto/urllib2.html) module is one of many used for interacting with the web.  One useful function is the `urlopen( )` function, which returns an iterable file-like object."
   ]
  },
  {
   "cell_type": "code",
   "execution_count": null,
   "metadata": {
    "collapsed": false
   },
   "outputs": [],
   "source": [
    "import urllib2\n",
    "\n",
    "zfin = 'http://zfin.org/downloads/ensembl_1_to_1.txt'\n",
    "\n",
    "ensembl_markers = urllib2.urlopen(zfin)\n",
    "k = 0\n",
    "for line in ensembl_markers:  \n",
    "    print line.strip()                  \n",
    "    if k>4:\n",
    "        break\n",
    "    k += 1\n",
    "\n",
    "print '--'\n",
    "#here's an alternate way to do this using enumerate to keep track of iterations\n",
    "\n",
    "for i,line in enumerate(ensembl_markers):  #enumerate returns index and iterable item\n",
    "    print line.strip()                     # strip removes leading and trailing whitespaces (here gets rid of newline)\n",
    "    if i>4:\n",
    "        break"
   ]
  },
  {
   "cell_type": "markdown",
   "metadata": {},
   "source": [
    "# Interacting with the os"
   ]
  },
  {
   "cell_type": "markdown",
   "metadata": {},
   "source": [
    "### Making directories with the os module"
   ]
  },
  {
   "cell_type": "markdown",
   "metadata": {},
   "source": [
    "The `os` module allows manipulation of directories in the operating system.  Here are a few useful functions."
   ]
  },
  {
   "cell_type": "markdown",
   "metadata": {},
   "source": [
    "`os.path.join` generates the appropriate string to make a correct file path."
   ]
  },
  {
   "cell_type": "code",
   "execution_count": null,
   "metadata": {
    "collapsed": false
   },
   "outputs": [],
   "source": [
    "import os.path\n",
    "print os.path.join('documents','python','exercises')"
   ]
  },
  {
   "cell_type": "markdown",
   "metadata": {},
   "source": [
    "os.path.expanduser( ) generates the correct file path from the user directory.  In Unix, the tilde represents the top level of the file path."
   ]
  },
  {
   "cell_type": "code",
   "execution_count": null,
   "metadata": {
    "collapsed": false
   },
   "outputs": [],
   "source": [
    "import os.path\n",
    "print os.path.expanduser(\"~\")"
   ]
  },
  {
   "cell_type": "code",
   "execution_count": null,
   "metadata": {
    "collapsed": false
   },
   "outputs": [],
   "source": [
    "os.path.expanduser?"
   ]
  },
  {
   "cell_type": "markdown",
   "metadata": {},
   "source": [
    "`os.mkdir( )` will form a new directory.  You will get an error if the directory already exists."
   ]
  },
  {
   "cell_type": "code",
   "execution_count": null,
   "metadata": {
    "collapsed": false
   },
   "outputs": [],
   "source": [
    "import os\n",
    "\n",
    "#first, make a string for the file path\n",
    "new_folder = os.path.join(os.path.expanduser(\"~\"),'test_mkdir')\n",
    "print new_folder\n",
    "\n",
    "os.mkdir(new_folder)\n",
    "#os.mkdir(new_folder)"
   ]
  },
  {
   "cell_type": "markdown",
   "metadata": {},
   "source": [
    "`os.chdir( )` will change directory, and `os.listdir( )` will list files in a directory."
   ]
  },
  {
   "cell_type": "code",
   "execution_count": null,
   "metadata": {
    "collapsed": false
   },
   "outputs": [],
   "source": [
    "import os\n",
    "new_folder = os.path.join(os.path.expanduser(\"~\"),'test_mkdir')\n",
    "os.chdir(new_folder)\n",
    "os.listdir(new_folder)"
   ]
  },
  {
   "cell_type": "markdown",
   "metadata": {},
   "source": [
    "### Finding file names with glob"
   ]
  },
  {
   "cell_type": "markdown",
   "metadata": {},
   "source": [
    "The [glob](http://pymotw.com/2/glob/index.html) function performs a search of Unix file names.  "
   ]
  },
  {
   "cell_type": "code",
   "execution_count": null,
   "metadata": {
    "collapsed": false
   },
   "outputs": [],
   "source": [
    "#first let's generate a few files.\n",
    "import os\n",
    "new_folder = os.path.join(os.path.expanduser(\"~\"),'test_mkdir')\n",
    "os.chdir(new_folder)\n",
    "\n",
    "for i in range (4):\n",
    "    outfile = open('fishes'+str(i)+'.txt','w')\n",
    "    outfile.close()\n",
    "    \n",
    "for i in range (4):\n",
    "    outfile = open('fish'+str(i)+'.txt','w')\n",
    "    outfile.close()\n",
    "    \n",
    "print os.listdir(new_folder)"
   ]
  },
  {
   "cell_type": "markdown",
   "metadata": {},
   "source": [
    "`glob` returns a list of filenames matching the search string.  It uses * for an undefined length wildcard and ? for single character wildcard."
   ]
  },
  {
   "cell_type": "code",
   "execution_count": null,
   "metadata": {
    "collapsed": false
   },
   "outputs": [],
   "source": [
    "import glob\n",
    "\n",
    "fish = glob.glob('fish*.txt')\n",
    "\n",
    "print fish"
   ]
  },
  {
   "cell_type": "code",
   "execution_count": null,
   "metadata": {
    "collapsed": false
   },
   "outputs": [],
   "source": [
    "#A list of file names becomes an iterable object\n",
    "for name in fish:\n",
    "    print name"
   ]
  },
  {
   "cell_type": "code",
   "execution_count": null,
   "metadata": {
    "collapsed": false
   },
   "outputs": [],
   "source": [
    "import glob\n",
    "\n",
    "fish = glob.glob('fish?.txt')\n",
    "\n",
    "print fish\n",
    "for name in fish:\n",
    "    print name"
   ]
  },
  {
   "cell_type": "markdown",
   "metadata": {},
   "source": [
    "You can also match a specific character range in the wildcard."
   ]
  },
  {
   "cell_type": "code",
   "execution_count": null,
   "metadata": {
    "collapsed": false
   },
   "outputs": [],
   "source": [
    "fish = glob.glob('fish[13].txt')\n",
    "\n",
    "print fish"
   ]
  },
  {
   "cell_type": "code",
   "execution_count": null,
   "metadata": {
    "collapsed": false
   },
   "outputs": [],
   "source": [
    "fish = glob.glob('fish[1-3].txt')\n",
    "\n",
    "print fish"
   ]
  },
  {
   "cell_type": "code",
   "execution_count": null,
   "metadata": {
    "collapsed": false
   },
   "outputs": [],
   "source": [
    "fish = glob.glob('*[1-3].*')\n",
    "\n",
    "print fish"
   ]
  },
  {
   "cell_type": "markdown",
   "metadata": {},
   "source": [
    "### Performing Shell operations using Python shutil"
   ]
  },
  {
   "cell_type": "markdown",
   "metadata": {},
   "source": [
    "The function `shutil.copy2( )` copies a file along with its metadata and permissions.  It takes the arguments source and destination.  Source indicates the file name, and destination the directory where the copy should be placed."
   ]
  },
  {
   "cell_type": "code",
   "execution_count": null,
   "metadata": {
    "collapsed": false
   },
   "outputs": [],
   "source": [
    "import os\n",
    "import shutil\n",
    "\n",
    "old_folder = os.path.join(os.path.expanduser(\"~\"),'test_mkdir')\n",
    "new_folder = os.path.join(os.path.expanduser(\"~\"),'test_mvdir')\n",
    "os.mkdir(new_folder)\n",
    "\n",
    "copied_file = 'fish0.txt'\n",
    "shutil.copy2(os.path.join(old_folder,copied_file),new_folder)"
   ]
  },
  {
   "cell_type": "markdown",
   "metadata": {},
   "source": [
    "The function `shutil.move( )` moves a file to a new directory.  It takes the arguments source and destination.  Source indicates the file name, and destination the directory where the file should be placed."
   ]
  },
  {
   "cell_type": "code",
   "execution_count": null,
   "metadata": {
    "collapsed": false
   },
   "outputs": [],
   "source": [
    "import os\n",
    "import shutil\n",
    "\n",
    "old_folder = os.path.join(os.path.expanduser(\"~\"),'test_mkdir')\n",
    "new_folder = os.path.join(os.path.expanduser(\"~\"),'test_mvdir')\n",
    "\n",
    "files = os.listdir(old_folder)\n",
    "\n",
    "for item in files:\n",
    "    shutil.move(os.path.join(old_folder,item),new_folder)"
   ]
  }
 ],
 "metadata": {
  "kernelspec": {
   "display_name": "Python 2",
   "language": "python",
   "name": "python2"
  },
  "language_info": {
   "codemirror_mode": {
    "name": "ipython",
    "version": 2
   },
   "file_extension": ".py",
   "mimetype": "text/x-python",
   "name": "python",
   "nbconvert_exporter": "python",
   "pygments_lexer": "ipython2",
   "version": "2.7.10"
  }
 },
 "nbformat": 4,
 "nbformat_minor": 0
}
