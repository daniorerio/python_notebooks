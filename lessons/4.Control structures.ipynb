{
 "metadata": {
  "name": "",
  "signature": "sha256:59a5ddbc01502c6255e7f0f31210302e04d86aac5cbd8ba3f5467aee9c05b326"
 },
 "nbformat": 3,
 "nbformat_minor": 0,
 "worksheets": [
  {
   "cells": [
    {
     "cell_type": "heading",
     "level": 1,
     "metadata": {},
     "source": [
      "Control structures"
     ]
    },
    {
     "cell_type": "heading",
     "level": 3,
     "metadata": {},
     "source": [
      "Evaluation statements"
     ]
    },
    {
     "cell_type": "markdown",
     "metadata": {},
     "source": [
      "Many programs compare conditions and then execute a set of instructions.  There are several types of comparators.  The output of these statements is a boolean variable (True or False)."
     ]
    },
    {
     "cell_type": "code",
     "collapsed": false,
     "input": [
      "#equality comparisons\n",
      "print 5==5\n",
      "print 3==5\n",
      "# not equal\n",
      "print 5!=5\n",
      "print 3!=5\n",
      "\n",
      "# less, greater, less or equal\n",
      "print 5<5\n",
      "print 3>5\n",
      "print 5<=5"
     ],
     "language": "python",
     "metadata": {},
     "outputs": []
    },
    {
     "cell_type": "code",
     "collapsed": false,
     "input": [
      "#string comparisons\n",
      "\n",
      "print 'danio' == 'danio'\n",
      "print 'Danio' == 'danio'\n",
      "genus = 'Danio'\n",
      "print genus == 'Danio'\n",
      "print genus.lower() == 'danio'"
     ],
     "language": "python",
     "metadata": {},
     "outputs": []
    },
    {
     "cell_type": "markdown",
     "metadata": {},
     "source": [
      "The in operator tests whether an item is in a list of values."
     ]
    },
    {
     "cell_type": "code",
     "collapsed": false,
     "input": [
      "# item in a list\n",
      "values = range(1,5,1)\n",
      "i = 2\n",
      "j = 5\n",
      "print i in values\n",
      "print j in values"
     ],
     "language": "python",
     "metadata": {},
     "outputs": []
    },
    {
     "cell_type": "markdown",
     "metadata": {},
     "source": [
      "The in operator can als be used to test whether a key is in a dictionary."
     ]
    },
    {
     "cell_type": "code",
     "collapsed": false,
     "input": [
      "tanks = {'1215':'AB', '1183':'brn3c:gfp','1941':'myo6:gfp'}\n",
      "print '1215' in tanks\n",
      "print '1216' in tanks"
     ],
     "language": "python",
     "metadata": {},
     "outputs": []
    },
    {
     "cell_type": "heading",
     "level": 3,
     "metadata": {},
     "source": [
      "If statement"
     ]
    },
    {
     "cell_type": "markdown",
     "metadata": {},
     "source": [
      "The if statement executes when comparison is true.  If statement must be followed by a colon.  All indented lines immediately following the if statement are executed. "
     ]
    },
    {
     "cell_type": "code",
     "collapsed": false,
     "input": [
      "Uber = 10.00\n",
      "Metro = 2.50\n",
      "cash = 1.50\n",
      "\n",
      "if Uber < cash:\n",
      "    print 'I can get a ride'\n",
      "    \n",
      "if Metro < cash and Uber > cash:  # can use and, or for multiple comparisons\n",
      "    print \"I'll take the bus\"\n",
      "    \n",
      "if Metro > cash:\n",
      "    print 'Walking...'\n"
     ],
     "language": "python",
     "metadata": {},
     "outputs": []
    },
    {
     "cell_type": "markdown",
     "metadata": {},
     "source": [
      "Multiple if statements can be written to parse a number of conditions using elif (else if) and else.  Colons are needed."
     ]
    },
    {
     "cell_type": "code",
     "collapsed": false,
     "input": [
      "Uber = 10.00\n",
      "Metro = 2.50\n",
      "cash = 1.50\n",
      "\n",
      "if Uber < cash:\n",
      "    print 'Enjoy your car ride'\n",
      "elif Metro < cash:\n",
      "    print 'Another one rides the bus'\n",
      "else:\n",
      "    print 'Walking...'"
     ],
     "language": "python",
     "metadata": {},
     "outputs": []
    },
    {
     "cell_type": "heading",
     "level": 2,
     "metadata": {},
     "source": [
      "Loops"
     ]
    },
    {
     "cell_type": "markdown",
     "metadata": {},
     "source": [
      "Loops allow repetition of statements.  For and While provide control to loops, so that statements are iterated for a defined number of times. Colons are needed after the for or while statement.  Indented statements are performed in order after the loop statement."
     ]
    },
    {
     "cell_type": "heading",
     "level": 3,
     "metadata": {},
     "source": [
      "For loop"
     ]
    },
    {
     "cell_type": "markdown",
     "metadata": {},
     "source": [
      "For loops iterate over a collection of objects, completing the loop a defined number of times. For loops take the form for variable in range of variables.  The variable (often i by convention) can be used as a counter.\n",
      "\n",
      "xrange works like the range function but generates numbers iteratively and does not store the whole list.  This is useful for large loops as it takes less memory (but makes no difference here)."
     ]
    },
    {
     "cell_type": "code",
     "collapsed": false,
     "input": [
      "for i in range(1,5):\n",
      "    print i\n",
      "print '\\n'\n",
      "for i in xrange(5):\n",
      "    print i"
     ],
     "language": "python",
     "metadata": {},
     "outputs": []
    },
    {
     "cell_type": "markdown",
     "metadata": {},
     "source": [
      "A for loop can also iterate over all the values in a list using the following terminology. In the first example the step function in range( ) makes the list more than a simple range of counters.  How many times will this loop be executed?"
     ]
    },
    {
     "cell_type": "code",
     "collapsed": false,
     "input": [
      "#iterate over a list\n",
      "values = range(0,11,2)\n",
      "for i in values:\n",
      "    print i"
     ],
     "language": "python",
     "metadata": {},
     "outputs": []
    },
    {
     "cell_type": "code",
     "collapsed": false,
     "input": [
      "#iterate over a list\n",
      "fishes = ['Oryzias latipes','Danio rerio','Takifugu rubripes']\n",
      "for fish in fishes:\n",
      "    print fish"
     ],
     "language": "python",
     "metadata": {},
     "outputs": []
    },
    {
     "cell_type": "markdown",
     "metadata": {},
     "source": [
      "You can use the range(len(variable)) notation when you want to capture the iterator number."
     ]
    },
    {
     "cell_type": "code",
     "collapsed": false,
     "input": [
      "#iterate over a string\n",
      "zfish = 'Danio rerio'\n",
      "\n",
      "for i in zfish:\n",
      "    print i\n",
      "\n",
      "print range(len(zfish))\n",
      "\n",
      "for i in range(len(zfish)):\n",
      "    print i,\n",
      "    print zfish[i]"
     ],
     "language": "python",
     "metadata": {},
     "outputs": []
    },
    {
     "cell_type": "markdown",
     "metadata": {},
     "source": [
      "Enumerate gives back both index and value from a list, allowing additional flexibility in loops."
     ]
    },
    {
     "cell_type": "code",
     "collapsed": false,
     "input": [
      "fishes = ['Oryzias latipes','Danio rerio','Takifugu rubripes']\n",
      "\n",
      "index = 0\n",
      "for fish in fishes:\n",
      "    print index, fish\n",
      "    index += 1\n",
      "    \n",
      "#or you could do it this way\n",
      "\n",
      "for i, fish in enumerate(fishes):\n",
      "    print i, fish"
     ],
     "language": "python",
     "metadata": {},
     "outputs": []
    },
    {
     "cell_type": "code",
     "collapsed": false,
     "input": [
      "enumerate?"
     ],
     "language": "python",
     "metadata": {},
     "outputs": []
    },
    {
     "cell_type": "markdown",
     "metadata": {},
     "source": [
      "Continue and break statements give some control over iteration within a loop.  The continue statement moves to next line in a loop.  Break stops a loop.  "
     ]
    },
    {
     "cell_type": "code",
     "collapsed": false,
     "input": [
      "for i in xrange(10):  \n",
      "    print i, i%2 #modulus function gives remainder of integer division\n",
      "    if i % 2:\n",
      "        continue\n",
      "    print \"Even number\""
     ],
     "language": "python",
     "metadata": {},
     "outputs": []
    },
    {
     "cell_type": "code",
     "collapsed": false,
     "input": [
      "for i in xrange(10):\n",
      "    if i == 5:\n",
      "        break\n",
      "    print i"
     ],
     "language": "python",
     "metadata": {},
     "outputs": []
    },
    {
     "cell_type": "heading",
     "level": 3,
     "metadata": {},
     "source": [
      "Loops within loops"
     ]
    },
    {
     "cell_type": "markdown",
     "metadata": {},
     "source": [
      "Having a second loop within a first loop is common in programming."
     ]
    },
    {
     "cell_type": "code",
     "collapsed": false,
     "input": [
      "for i in range(4):\n",
      "    for j in range(3):\n",
      "        print 'i: {0} j: {1}'.format(i,j)\n",
      "    print 'end inner loop'\n",
      "print 'end outer loop'"
     ],
     "language": "python",
     "metadata": {},
     "outputs": []
    },
    {
     "cell_type": "heading",
     "level": 3,
     "metadata": {},
     "source": [
      "While loop"
     ]
    },
    {
     "cell_type": "markdown",
     "metadata": {},
     "source": [
      "The while statement does something as long as condition is true.  This is useful if the number of iterations of a loop is not known ahead of time.  Below, count could be any number to start."
     ]
    },
    {
     "cell_type": "code",
     "collapsed": false,
     "input": [
      "count = 10\n",
      "\n",
      "while (count >0):\n",
      "   print count, #comma prevents a newline\n",
      "   count -= 1"
     ],
     "language": "python",
     "metadata": {},
     "outputs": []
    },
    {
     "cell_type": "markdown",
     "metadata": {},
     "source": [
      "Sometimes you want to do something without specifically evaluating a condition at the beginning of the loop.  You can use while True to do this."
     ]
    },
    {
     "cell_type": "code",
     "collapsed": false,
     "input": [
      "x = 'abcabc'\n",
      "search_var = 'b'\n",
      "\n",
      "count = 0\n",
      "loc = 0\n",
      "\n",
      "while True:\n",
      "    loc = x.find(search_var,loc)\n",
      "    if loc == -1:\n",
      "        break\n",
      "    count += 1\n",
      "    loc += 1\n",
      "\n",
      "print 'The number of occurrences of {0} in {1} is {2}.'.format(search_var,x,count)\n"
     ],
     "language": "python",
     "metadata": {},
     "outputs": []
    }
   ],
   "metadata": {}
  }
 ]
}