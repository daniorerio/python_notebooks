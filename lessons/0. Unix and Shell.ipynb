{
 "metadata": {
  "name": "",
  "signature": "sha256:61b5e8a3e018641dbe7a2fcace85164ea7aa4f3024bc758c14ebaec0a0bdbc3f"
 },
 "nbformat": 3,
 "nbformat_minor": 0,
 "worksheets": [
  {
   "cells": [
    {
     "cell_type": "heading",
     "level": 1,
     "metadata": {},
     "source": [
      "Unix and the Shell"
     ]
    },
    {
     "cell_type": "markdown",
     "metadata": {},
     "source": [
      "IPython Notebook can run Shell commands within code cells.  If you are familiar with Terminal on a Mac, you will already know many of these commands.  To run Shell commands, include the IPython magic code %."
     ]
    },
    {
     "cell_type": "markdown",
     "metadata": {},
     "source": [
      "Unix is an operating system that keeps track of files by arranging them in a hierarchical structure.  Each node in the structure is called a directory - these are equivalent to folders in the Mac Finder.  A program can run under Unix  if it is in the active directory, and will look for and manipulate files in the active directory unless told to look elsewhere."
     ]
    },
    {
     "cell_type": "heading",
     "level": 3,
     "metadata": {},
     "source": [
      "Navigating directories"
     ]
    },
    {
     "cell_type": "markdown",
     "metadata": {},
     "source": [
      "Two basic commands in Unix give you information about the current diretory:\n",
      "\n",
      "* **pwd** returns the path of the current directory.  This will be a series of directories separated by slashes from the directory of the current logged in user.\n",
      "\n",
      "* **ls** lists all the files and directories within the current directory.\n",
      "\n",
      "These commands can be run in IPython notebook  by calling with the prefix %."
     ]
    },
    {
     "cell_type": "code",
     "collapsed": false,
     "input": [
      "%pwd"
     ],
     "language": "python",
     "metadata": {},
     "outputs": []
    },
    {
     "cell_type": "code",
     "collapsed": false,
     "input": [
      "%ls"
     ],
     "language": "python",
     "metadata": {},
     "outputs": []
    },
    {
     "cell_type": "markdown",
     "metadata": {},
     "source": [
      "One of the most used Unix commands is the cd (change directory) command.  It can also be called as an IPython magic ommand using %.  To get to the user home directory, you can use cd ~ (tilde)."
     ]
    },
    {
     "cell_type": "code",
     "collapsed": false,
     "input": [
      "%cd ~"
     ],
     "language": "python",
     "metadata": {},
     "outputs": []
    },
    {
     "cell_type": "markdown",
     "metadata": {},
     "source": [
      "You can also make and remove directories in Unix.\n",
      "* mkdir makes directories.  If the directory already exists it will give you an error.\n",
      "* rmdir removes directories.  If the directory is not empty it will give an error."
     ]
    },
    {
     "cell_type": "code",
     "collapsed": false,
     "input": [
      "%mkdir test_unix_shell\n",
      "%cd test_unix_shell"
     ],
     "language": "python",
     "metadata": {},
     "outputs": []
    },
    {
     "cell_type": "code",
     "collapsed": false,
     "input": [
      "%mkdir test_level_1\n",
      "%cd test_level_1\n",
      "%mkdir test_level_2\n",
      "%cd test_level_2"
     ],
     "language": "python",
     "metadata": {},
     "outputs": []
    },
    {
     "cell_type": "markdown",
     "metadata": {},
     "source": [
      "The cd command can be used to explicitly go to any directory.  Changing directory is always relative.  If the desired directory is within the current directory, simply type its name like in the examples above.  \n",
      "\n",
      "The .. notation indicates the directory one level up in the hierarchy."
     ]
    },
    {
     "cell_type": "code",
     "collapsed": false,
     "input": [
      "%cd .."
     ],
     "language": "python",
     "metadata": {},
     "outputs": []
    },
    {
     "cell_type": "code",
     "collapsed": false,
     "input": [
      "%cd ../.."
     ],
     "language": "python",
     "metadata": {},
     "outputs": []
    },
    {
     "cell_type": "code",
     "collapsed": false,
     "input": [
      "%cd test_unix_shell/test_level_1/test_level_2"
     ],
     "language": "python",
     "metadata": {},
     "outputs": []
    },
    {
     "cell_type": "code",
     "collapsed": false,
     "input": [
      "%cd ~/test_unix_shell"
     ],
     "language": "python",
     "metadata": {},
     "outputs": []
    },
    {
     "cell_type": "code",
     "collapsed": false,
     "input": [
      "%mkdir test_level_1/test_level_2/test_level_3"
     ],
     "language": "python",
     "metadata": {},
     "outputs": []
    },
    {
     "cell_type": "code",
     "collapsed": false,
     "input": [
      "%cd ~/test_unix_shell/test_level_1/test_level_2/test_level_3"
     ],
     "language": "python",
     "metadata": {},
     "outputs": []
    },
    {
     "cell_type": "code",
     "collapsed": false,
     "input": [
      "%cd ..\n",
      "%rmdir test_level_3"
     ],
     "language": "python",
     "metadata": {},
     "outputs": []
    },
    {
     "cell_type": "heading",
     "level": 3,
     "metadata": {},
     "source": [
      "Making and editing text files."
     ]
    },
    {
     "cell_type": "markdown",
     "metadata": {},
     "source": [
      "The IPython magic %%writefile command to make a file."
     ]
    },
    {
     "cell_type": "code",
     "collapsed": false,
     "input": [
      "%%writefile test_file.txt\n",
      "\n",
      "File for testing Unix commands."
     ],
     "language": "python",
     "metadata": {},
     "outputs": []
    },
    {
     "cell_type": "markdown",
     "metadata": {},
     "source": [
      "To look at the contents of a file, use the **less** Unix command.  Here, use the %%bash cell magic command to make the cell into a Shell editor."
     ]
    },
    {
     "cell_type": "code",
     "collapsed": false,
     "input": [
      "%%bash\n",
      "less test_file.txt"
     ],
     "language": "python",
     "metadata": {},
     "outputs": []
    },
    {
     "cell_type": "markdown",
     "metadata": {},
     "source": [
      "To load the contents of a file into a cell, use the `%load` command"
     ]
    },
    {
     "cell_type": "code",
     "collapsed": false,
     "input": [
      "%load  test_file.txt"
     ],
     "language": "python",
     "metadata": {},
     "outputs": []
    },
    {
     "cell_type": "markdown",
     "metadata": {},
     "source": [
      "To add to a file, use the -a (append) option."
     ]
    },
    {
     "cell_type": "code",
     "collapsed": false,
     "input": [
      "%%writefile -a test_file.txt\n",
      "\n",
      "Second line."
     ],
     "language": "python",
     "metadata": {},
     "outputs": []
    },
    {
     "cell_type": "code",
     "collapsed": false,
     "input": [
      "%%bash\n",
      "less test_file.txt"
     ],
     "language": "python",
     "metadata": {},
     "outputs": []
    },
    {
     "cell_type": "heading",
     "level": 3,
     "metadata": {},
     "source": [
      "Moving, copying, renaming and deleting files"
     ]
    },
    {
     "cell_type": "markdown",
     "metadata": {},
     "source": [
      "To move a file, use the **mv** command with the following syntax:  mv [file] [new directory]"
     ]
    },
    {
     "cell_type": "code",
     "collapsed": false,
     "input": [
      "%mv test_file.txt ~/test_unix_shell/test_level_1"
     ],
     "language": "python",
     "metadata": {},
     "outputs": []
    },
    {
     "cell_type": "code",
     "collapsed": false,
     "input": [
      "%cd ..\n",
      "%ls"
     ],
     "language": "python",
     "metadata": {},
     "outputs": []
    },
    {
     "cell_type": "markdown",
     "metadata": {},
     "source": [
      "To copy a file, use **cp** with the following syntax:  cp [file] [new file name].\n",
      "\n",
      "** *Be warned:* **  cp will not tell you if the new file already exists!"
     ]
    },
    {
     "cell_type": "code",
     "collapsed": false,
     "input": [
      "%cp test_file.txt test_file_2.txt\n",
      "%ls"
     ],
     "language": "python",
     "metadata": {},
     "outputs": []
    },
    {
     "cell_type": "markdown",
     "metadata": {},
     "source": [
      "To rename a file, again use the mv command but include a new name.  "
     ]
    },
    {
     "cell_type": "code",
     "collapsed": false,
     "input": [
      "%%writefile -a test_file_2.txt\n",
      "\n",
      "This is test_file_2."
     ],
     "language": "python",
     "metadata": {},
     "outputs": []
    },
    {
     "cell_type": "code",
     "collapsed": false,
     "input": [
      "%mv test_file_2.txt new_test_file.txt\n",
      "%ls"
     ],
     "language": "python",
     "metadata": {},
     "outputs": []
    },
    {
     "cell_type": "code",
     "collapsed": false,
     "input": [
      "%%bash\n",
      "less new_test_file.txt"
     ],
     "language": "python",
     "metadata": {},
     "outputs": []
    },
    {
     "cell_type": "markdown",
     "metadata": {},
     "source": [
      "To delete a file, you can use rm.  ** *Be warned:* ** This is a very dangerous command - you cannot get the file back!"
     ]
    },
    {
     "cell_type": "code",
     "collapsed": false,
     "input": [
      "%rm new_test_file.txt\n",
      "%ls"
     ],
     "language": "python",
     "metadata": {},
     "outputs": []
    },
    {
     "cell_type": "code",
     "collapsed": false,
     "input": [
      "%rmdir test_level_2\n",
      "%rm test_file.txt\n",
      "%cd ..\n",
      "%rmdir test_level_1\n",
      "%cd ..\n",
      "%rmdir test_unix_shell"
     ],
     "language": "python",
     "metadata": {},
     "outputs": []
    },
    {
     "cell_type": "heading",
     "level": 3,
     "metadata": {},
     "source": [
      "Altering the directory PATH"
     ]
    },
    {
     "cell_type": "code",
     "collapsed": false,
     "input": [],
     "language": "python",
     "metadata": {},
     "outputs": []
    }
   ],
   "metadata": {}
  }
 ]
}