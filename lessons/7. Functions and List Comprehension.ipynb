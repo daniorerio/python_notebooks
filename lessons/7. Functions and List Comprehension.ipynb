{
 "metadata": {
  "name": "",
  "signature": "sha256:dd0731d2c9dbe01ced30d7f0f027d212aacc47eac53a140ca95f578b39dd52e2"
 },
 "nbformat": 3,
 "nbformat_minor": 0,
 "worksheets": [
  {
   "cells": [
    {
     "cell_type": "heading",
     "level": 1,
     "metadata": {},
     "source": [
      "Functions"
     ]
    },
    {
     "cell_type": "markdown",
     "metadata": {},
     "source": [
      "Writing your own functions allows you to repeat blocks of code without the effort or rewriting the code."
     ]
    },
    {
     "cell_type": "markdown",
     "metadata": {},
     "source": [
      "Functions are defined by `def`.   Function definitions must come earlier than the line where they are called.  The values passed to the function are called arguments. Functions can return a value that can be assigned a variable name."
     ]
    },
    {
     "cell_type": "code",
     "collapsed": false,
     "input": [
      "def add_two_numbers(number_1,number_2):  #colon required\n",
      "    new_number = number_1 + number_2\n",
      "    return new_number\n",
      "\n",
      "answer = add_two_numbers(2,6)\n",
      "print answer"
     ],
     "language": "python",
     "metadata": {},
     "outputs": []
    },
    {
     "cell_type": "markdown",
     "metadata": {},
     "source": [
      "The `*` notation allows the passage of an undefined number of arguments."
     ]
    },
    {
     "cell_type": "code",
     "collapsed": false,
     "input": [
      "def add_numbers(*numbers):\n",
      "    new_number = 0           # new_number needs to be defined in order to add to it later\n",
      "    for num in numbers:\n",
      "        new_number += num\n",
      "    return new_number\n",
      "\n",
      "\n",
      "print add_numbers(2,4)\n",
      "print add_numbers(2,4,6)\n",
      "print add_numbers(2,4,6,8)\n",
      "\n",
      "answer = add_numbers(2,4,6,8)\n",
      "print answer+2"
     ],
     "language": "python",
     "metadata": {},
     "outputs": []
    },
    {
     "cell_type": "markdown",
     "metadata": {},
     "source": [
      "Functions can return multiple values as tuples or be individually assigned to variables."
     ]
    },
    {
     "cell_type": "code",
     "collapsed": false,
     "input": [
      "def summary_stats(*numbers):\n",
      "    num_sum = 0           # new_number needs to be defined in order to add to it later\n",
      "    for num in numbers:\n",
      "        num_sum += num\n",
      "    num_mean = num_sum/len(numbers)\n",
      "    return num_sum,num_mean\n",
      "\n",
      "answer = summary_stats(2,4,6,8)\n",
      "print answer\n",
      "out_sum,out_mean = summary_stats(2,4,6,8)\n",
      "print out_sum\n",
      "print out_mean"
     ],
     "language": "python",
     "metadata": {},
     "outputs": []
    },
    {
     "cell_type": "heading",
     "level": 3,
     "metadata": {},
     "source": [
      "Local variables"
     ]
    },
    {
     "cell_type": "markdown",
     "metadata": {},
     "source": [
      "Variables created inside a Python function only exist inside that function. Only values defined by the function call and return are used globally."
     ]
    },
    {
     "cell_type": "code",
     "collapsed": false,
     "input": [
      "def convert_lbs_to_kg(weight_lbs):\n",
      "    weight_kg = weight_lbs / 2.20462\n",
      "    return weight_kg\n",
      "\n",
      "result = convert_lbs_to_kg(170)\n",
      "\n",
      "print result\n",
      "print weight_kg"
     ],
     "language": "python",
     "metadata": {},
     "outputs": []
    },
    {
     "cell_type": "markdown",
     "metadata": {},
     "source": [
      "Since the variable `weight_kg` is only defined within the function `convert_lbs_to_kg`, there is an error."
     ]
    },
    {
     "cell_type": "heading",
     "level": 3,
     "metadata": {},
     "source": [
      "Commenting functions: docstring"
     ]
    },
    {
     "cell_type": "markdown",
     "metadata": {},
     "source": [
      "A docstring immediately follows the def statement of a function.  Using triple quotes allows it to span several lines.  The docstring will be called after a help request."
     ]
    },
    {
     "cell_type": "code",
     "collapsed": false,
     "input": [
      "def center(data, desired):\n",
      "    '''Return a new array containing the original data centered around the desired value.\n",
      "    Example: center([1, 2, 3], 0) => [-1, 0, 1]'''\n",
      "    return (data - data.mean()) + desired\n",
      "\n",
      "help (center)"
     ],
     "language": "python",
     "metadata": {},
     "outputs": []
    },
    {
     "cell_type": "code",
     "collapsed": false,
     "input": [
      "center?"
     ],
     "language": "python",
     "metadata": {},
     "outputs": []
    },
    {
     "cell_type": "heading",
     "level": 3,
     "metadata": {},
     "source": [
      "Errors"
     ]
    },
    {
     "cell_type": "markdown",
     "metadata": {},
     "source": [
      "Python will stop running a script if it encounters an error and tries to point out where the error occurred. Try fixing the errors in these functions."
     ]
    },
    {
     "cell_type": "markdown",
     "metadata": {},
     "source": [
      "**Syntax** errors are errors in formatting the code."
     ]
    },
    {
     "cell_type": "code",
     "collapsed": false,
     "input": [
      "def some_function()\n",
      "    msg = \"hello, world!\"\n",
      "    print msg\n",
      "    return msg"
     ],
     "language": "python",
     "metadata": {},
     "outputs": []
    },
    {
     "cell_type": "code",
     "collapsed": false,
     "input": [
      "def some_function():\n",
      "    msg = \"hello, world!\"\n",
      "    print msg\n",
      "     return msg "
     ],
     "language": "python",
     "metadata": {},
     "outputs": []
    },
    {
     "cell_type": "markdown",
     "metadata": {},
     "source": [
      "**Name** errors occur when a variable is not defined.  Try fixing the errors in these functions."
     ]
    },
    {
     "cell_type": "code",
     "collapsed": false,
     "input": [
      "print hello"
     ],
     "language": "python",
     "metadata": {},
     "outputs": []
    },
    {
     "cell_type": "code",
     "collapsed": false,
     "input": [
      "for number in range(10):\n",
      "    count = count + number\n",
      "print \"The count is: \" + str(count)"
     ],
     "language": "python",
     "metadata": {},
     "outputs": []
    },
    {
     "cell_type": "code",
     "collapsed": false,
     "input": [
      "Count = 0\n",
      "for number in range(10):\n",
      "    count = count + number\n",
      "print \"The count is: \" + str(count)"
     ],
     "language": "python",
     "metadata": {},
     "outputs": []
    },
    {
     "cell_type": "markdown",
     "metadata": {},
     "source": [
      "**Index** errors occur when a the index is out of range.  Try fixing the error in this functions."
     ]
    },
    {
     "cell_type": "code",
     "collapsed": false,
     "input": [
      "seasons = ['Spring', 'Summer', 'Fall', 'Winter']\n",
      "print 'My favorite season is ', seasons[4]"
     ],
     "language": "python",
     "metadata": {},
     "outputs": []
    },
    {
     "cell_type": "markdown",
     "metadata": {},
     "source": [
      "**Type** errors occur when the wrong type of variable is used. Try fixing the error in this functions."
     ]
    },
    {
     "cell_type": "code",
     "collapsed": false,
     "input": [
      "print(\"The temperature today is: \" + 75)"
     ],
     "language": "python",
     "metadata": {},
     "outputs": []
    },
    {
     "cell_type": "heading",
     "level": 3,
     "metadata": {},
     "source": [
      "Exceptions"
     ]
    },
    {
     "cell_type": "markdown",
     "metadata": {},
     "source": [
      "Python uses exception syntax to avoid errors crashing code.  Use `try:` and `except:` to catch errors."
     ]
    },
    {
     "cell_type": "code",
     "collapsed": false,
     "input": [
      "def divide_numbers(number_1,number_2):\n",
      "    try:\n",
      "        new_number = float(number_1)/number_2\n",
      "        return new_number\n",
      "    except (ZeroDivisionError):\n",
      "        return 'Cannot divide by zero'\n",
      "    except (ValueError,TypeError):\n",
      "        return 'Must use numbers'\n",
      "        \n",
      "print divide_numbers(2,4)\n",
      "print divide_numbers(2,0) #gives ZeroDivisionError\n",
      "print divide_numbers(2,'b') #gives TypeError (cannot divide by string)\n",
      "print divide_numbers('b',2) #gives ValueError (cannot convert string to float)"
     ],
     "language": "python",
     "metadata": {},
     "outputs": []
    },
    {
     "cell_type": "heading",
     "level": 3,
     "metadata": {},
     "source": [
      "Keyword arguments"
     ]
    },
    {
     "cell_type": "markdown",
     "metadata": {},
     "source": [
      "If we use specific argument names in the calling statement, the position of the arguments does not matter.  These are called keyword arguments."
     ]
    },
    {
     "cell_type": "code",
     "collapsed": false,
     "input": [
      "def divide_numbers(numerator,denominator):\n",
      "    try:\n",
      "        new_number = float(numerator)/denominator\n",
      "        return new_number\n",
      "    except (ZeroDivisionError):\n",
      "        return 'Cannot divide by zero'\n",
      "    except (ValueError,TypeError):\n",
      "        return 'Must use numbers'\n",
      "\n",
      "# The function works without using keywords just like above.\n",
      "print divide_numbers(2,4)\n",
      "print divide_numbers(4,2)\n",
      "\n",
      "# Using the kewyord names, the order no longer matters.\n",
      "print divide_numbers(numerator=2,denominator=4)\n",
      "print divide_numbers(denominator=2,numerator=4)\n"
     ],
     "language": "python",
     "metadata": {},
     "outputs": []
    },
    {
     "cell_type": "markdown",
     "metadata": {},
     "source": [
      "To accept an arbitrary number of keyword arguments, use **.   This is also a way to pass dictionary data structures to functions."
     ]
    },
    {
     "cell_type": "code",
     "collapsed": false,
     "input": [
      "#Using a variable number of keywords\n",
      "def tank_inventory(**kwargs):\n",
      "    for key, val in kwargs.items():  #items() unpacks individual key:value pairs\n",
      "        print '{1} is in {0}.'.format(key,val)\n",
      "    # This function does not return anything\n",
      "    \n",
      "tank_inventory(tank_1215 ='AB', tank_1183 ='brn3c:gfp',tank_1941 ='myo6:gfp')"
     ],
     "language": "python",
     "metadata": {},
     "outputs": []
    },
    {
     "cell_type": "code",
     "collapsed": false,
     "input": [
      "# Using a dictionary\n",
      "def tank_inventory(**kwargs):\n",
      "    for key, val in kwargs.items():  #items() unpacks individual key:value pairs in a dict.\n",
      "        print '{1} is in tank {0}.'.format(key,val)\n",
      "    \n",
      "tanks = {'1215':'AB', '1183':'brn3c:gfp','1941':'myo6:gfp'}\n",
      "tank_inventory(**tanks)  #need to include ** to indicate an object of kwargs"
     ],
     "language": "python",
     "metadata": {},
     "outputs": []
    },
    {
     "cell_type": "heading",
     "level": 3,
     "metadata": {},
     "source": [
      "Defining default variables using keywords"
     ]
    },
    {
     "cell_type": "markdown",
     "metadata": {},
     "source": [
      "The value of keyword variables becomes apparent when the function uses default variables.  Including default variables in the function definition will allow a function to usually run one way, but allow its behavior to be modified."
     ]
    },
    {
     "cell_type": "code",
     "collapsed": false,
     "input": [
      "def case_print(test_string, uppercase = False):\n",
      "    if uppercase == False:\n",
      "        print test_string.lower()\n",
      "    else:\n",
      "        print test_string.upper()\n",
      "\n",
      "case_print('danio')  \n",
      "case_print('danio', uppercase = True)   "
     ],
     "language": "python",
     "metadata": {},
     "outputs": []
    },
    {
     "cell_type": "heading",
     "level": 1,
     "metadata": {},
     "source": [
      "List Comprehension"
     ]
    },
    {
     "cell_type": "markdown",
     "metadata": {},
     "source": [
      "Python often uses a syntax called list comprehension.  It is not necessary to use it but it is common, so you should become familiar with it.  Here is how to use list comprehension to replace a `for` loop."
     ]
    },
    {
     "cell_type": "code",
     "collapsed": false,
     "input": [
      "my_list = [1, 2, 3, 4, 5, 6, 7, 8, 9, 10]\n",
      "\n",
      "#standard way\n",
      "\n",
      "new_list = []\n",
      "for x in my_list:\n",
      "   new_list.append(x * 2)\n",
      "\n",
      "print new_list\n",
      "    \n",
      "#using list comprehension\n",
      "\n",
      "new_list = [x * 2 for x in my_list] # square brackets enclose list comprehension statement\n",
      "\n",
      "print new_list"
     ],
     "language": "python",
     "metadata": {},
     "outputs": []
    },
    {
     "cell_type": "markdown",
     "metadata": {},
     "source": [
      "In addition you can use a conditional statement in the list comprehension syntax."
     ]
    },
    {
     "cell_type": "code",
     "collapsed": false,
     "input": [
      "my_list = [1, 2, 3, 4, 5, 6, 7, 8, 9, 10]\n",
      "\n",
      "#generating a list of even numbers converted into string variables, standard way\n",
      "\n",
      "new_list = []\n",
      "for x in my_list:\n",
      "   if (x % 2) == 0:\n",
      "     new_list.append(str(x))\n",
      "        \n",
      "print new_list\n",
      "\n",
      "#using list comprehension\n",
      "\n",
      "new_list = [str(x) for x in my_list if (x % 2) == 0]\n",
      "\n",
      "print new_list"
     ],
     "language": "python",
     "metadata": {},
     "outputs": []
    }
   ],
   "metadata": {}
  }
 ]
}