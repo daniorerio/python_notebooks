{
 "metadata": {
  "name": "",
  "signature": "sha256:cf50832925350646bda0afee72e28e43966fcd109a91855926ab0216c5cf22b9"
 },
 "nbformat": 3,
 "nbformat_minor": 0,
 "worksheets": [
  {
   "cells": [
    {
     "cell_type": "heading",
     "level": 1,
     "metadata": {},
     "source": [
      "Lists"
     ]
    },
    {
     "cell_type": "markdown",
     "metadata": {},
     "source": [
      "Lists are a very useful data type that can be thought of as collections of separate variables of any type.  They are generated using square brackets."
     ]
    },
    {
     "cell_type": "code",
     "collapsed": false,
     "input": [
      "values = [1,2,3,4]\n",
      "print values\n",
      "print type(values)\n",
      "print len(values)"
     ],
     "language": "python",
     "metadata": {},
     "outputs": []
    },
    {
     "cell_type": "markdown",
     "metadata": {},
     "source": [
      "The range( ) function is a useful way to generate a list of numbers.  The notation is range(start,stop,step).  What will the last number in this list be?"
     ]
    },
    {
     "cell_type": "code",
     "collapsed": false,
     "input": [
      "values = range(1,10,1)\n",
      "print values\n",
      "values = range(10)\n",
      "print values\n",
      "values = range(0,10,2)\n",
      "print values"
     ],
     "language": "python",
     "metadata": {},
     "outputs": []
    },
    {
     "cell_type": "heading",
     "level": 4,
     "metadata": {},
     "source": [
      "Indexing"
     ]
    },
    {
     "cell_type": "markdown",
     "metadata": {},
     "source": [
      "Lists index and slice like strings."
     ]
    },
    {
     "cell_type": "code",
     "collapsed": false,
     "input": [
      "values = range(1,5,1)\n",
      "print values\n",
      "print values[2]\n",
      "print values[1:]\n",
      "print values[-1]"
     ],
     "language": "python",
     "metadata": {},
     "outputs": []
    },
    {
     "cell_type": "heading",
     "level": 4,
     "metadata": {},
     "source": [
      "Changing lists"
     ]
    },
    {
     "cell_type": "markdown",
     "metadata": {},
     "source": [
      "Unlike strings, lists are mutable (that is, they can be changed)."
     ]
    },
    {
     "cell_type": "code",
     "collapsed": false,
     "input": [
      "values = range(1,5,1)\n",
      "print values\n",
      "values[0] = 0\n",
      "print values"
     ],
     "language": "python",
     "metadata": {},
     "outputs": []
    },
    {
     "cell_type": "markdown",
     "metadata": {},
     "source": [
      "Lists can be expanded using addition and multiplication operators."
     ]
    },
    {
     "cell_type": "code",
     "collapsed": false,
     "input": [
      "values = range(1,5,1)\n",
      "print values + values\n",
      "print values*3"
     ],
     "language": "python",
     "metadata": {},
     "outputs": []
    },
    {
     "cell_type": "markdown",
     "metadata": {},
     "source": [
      "Lists can be appended (single item) or extended (with another list)."
     ]
    },
    {
     "cell_type": "code",
     "collapsed": false,
     "input": [
      "values = range(1,5,1)\n",
      "print values\n",
      "values.append(5)\n",
      "print values\n",
      "\n",
      "values2 = range(6,9,1)\n",
      "values.extend(values2)\n",
      "print values"
     ],
     "language": "python",
     "metadata": {},
     "outputs": []
    },
    {
     "cell_type": "markdown",
     "metadata": {},
     "source": [
      "List items can be removed or inserted."
     ]
    },
    {
     "cell_type": "code",
     "collapsed": false,
     "input": [
      "values = range(1,5,1)\n",
      "print values\n",
      "values.remove(2)\n",
      "print values\n",
      "values.insert(0,2)# .insert(position, item)\n",
      "print values"
     ],
     "language": "python",
     "metadata": {},
     "outputs": []
    },
    {
     "cell_type": "markdown",
     "metadata": {},
     "source": [
      "List items can be sorted, or reversed."
     ]
    },
    {
     "cell_type": "code",
     "collapsed": false,
     "input": [
      "values = range(1,5,1)\n",
      "print values\n",
      "values.extend(values)\n",
      "print values\n",
      "values.sort()\n",
      "print values\n",
      "values.reverse()\n",
      "print values"
     ],
     "language": "python",
     "metadata": {},
     "outputs": []
    },
    {
     "cell_type": "markdown",
     "metadata": {},
     "source": [
      "Calling the sort( ) method changes the list.  Using the sorted( ) function does not."
     ]
    },
    {
     "cell_type": "code",
     "collapsed": false,
     "input": [
      "values = range(1,5,1)\n",
      "print values\n",
      "values.extend(values)\n",
      "print values\n",
      "new_list = sorted(values)\n",
      "print new_list\n",
      "print values\n",
      "values.sort()\n",
      "print values"
     ],
     "language": "python",
     "metadata": {},
     "outputs": []
    },
    {
     "cell_type": "markdown",
     "metadata": {},
     "source": [
      "Setting a variable to equal a list does not make a copy of that list.  Changing an item will change it in both lists! "
     ]
    },
    {
     "cell_type": "code",
     "collapsed": false,
     "input": [
      "values = range(1,5,1)\n",
      "print values\n",
      "mirror  = values\n",
      "mirror[0] = 0\n",
      "print mirror\n",
      "print values"
     ],
     "language": "python",
     "metadata": {},
     "outputs": []
    },
    {
     "cell_type": "markdown",
     "metadata": {},
     "source": [
      "To make a copy of a list, you can use slicing."
     ]
    },
    {
     "cell_type": "code",
     "collapsed": false,
     "input": [
      "values = range(1,5,1)\n",
      "copy = values[:]\n",
      "copy[0] = 0\n",
      "print copy\n",
      "print values"
     ],
     "language": "python",
     "metadata": {},
     "outputs": []
    },
    {
     "cell_type": "markdown",
     "metadata": {},
     "source": [
      "In many instances you want to break down a string into separate varaibles and then do something to them.  The split( ) method will break up a string into a list."
     ]
    },
    {
     "cell_type": "code",
     "collapsed": false,
     "input": [
      "fish = 'Danio rerio'\n",
      "names = fish.split()     #splits at white space by default\n",
      "print names\n",
      "fishes = 'Oryzias latipes,Danio rerio,Takifugu rubripes'\n",
      "names = fishes.split(',')  #can split at commas, tabs, etc.\n",
      "print names\n",
      "names.sort()\n",
      "print names"
     ],
     "language": "python",
     "metadata": {},
     "outputs": []
    },
    {
     "cell_type": "markdown",
     "metadata": {},
     "source": [
      "The index method will search a list and return the index position of the found item. See help for additional parameters taken by index( )."
     ]
    },
    {
     "cell_type": "code",
     "collapsed": false,
     "input": [
      "fishes = ['Oryzias latipes','Danio rerio','Takifugu rubripes']\n",
      "print fishes.index('Danio rerio')"
     ],
     "language": "python",
     "metadata": {},
     "outputs": []
    },
    {
     "cell_type": "code",
     "collapsed": false,
     "input": [
      "list.index?"
     ],
     "language": "python",
     "metadata": {},
     "outputs": []
    },
    {
     "cell_type": "markdown",
     "metadata": {},
     "source": [
      "The count method will return the number of instances of an item in a list."
     ]
    },
    {
     "cell_type": "code",
     "collapsed": false,
     "input": [
      "fishes = ['Oryzias latipes','Danio rerio','Takifugu rubripes','Danio rerio']\n",
      "print fishes.count('Danio rerio')"
     ],
     "language": "python",
     "metadata": {},
     "outputs": []
    },
    {
     "cell_type": "heading",
     "level": 1,
     "metadata": {},
     "source": [
      "Tuples"
     ]
    },
    {
     "cell_type": "markdown",
     "metadata": {},
     "source": [
      "Tuples, like lists, are collections of items that are indexed.  However unlike lists they are immutable. They are defined by parentheses."
     ]
    },
    {
     "cell_type": "code",
     "collapsed": false,
     "input": [
      "items = (1,2,3,'string 1',2)\n",
      "print len(items)\n",
      "print items[1:]\n",
      "print items.index('string 1')\n",
      "print items.count(2)"
     ],
     "language": "python",
     "metadata": {},
     "outputs": []
    },
    {
     "cell_type": "markdown",
     "metadata": {},
     "source": [
      "The list( ) and tuple( ) functions can change collections of items."
     ]
    },
    {
     "cell_type": "code",
     "collapsed": false,
     "input": [
      "items = [1,2,3,'string 1',2]\n",
      "items_t = tuple(items)\n",
      "print items\n",
      "print items_t\n",
      "items_l = list(items_t)\n",
      "print items_l"
     ],
     "language": "python",
     "metadata": {},
     "outputs": []
    },
    {
     "cell_type": "markdown",
     "metadata": {},
     "source": [
      "Uisng zip to combine lists into a list of tuples."
     ]
    },
    {
     "cell_type": "code",
     "collapsed": false,
     "input": [
      "genus = ['Oryzias','Danio','Takifugu']\n",
      "species = ['latipes','rerio','rubripes']\n",
      "fishes = zip(genus,species)\n",
      "print fishes"
     ],
     "language": "python",
     "metadata": {},
     "outputs": []
    },
    {
     "cell_type": "heading",
     "level": 1,
     "metadata": {},
     "source": [
      "Dictionaries"
     ]
    },
    {
     "cell_type": "markdown",
     "metadata": {},
     "source": [
      "Dictionaries are data structures used as lookup tables.  Items are joined as key:value pairs, but are not inherently ordered.  Dictionaries are defined by curly brackets {}.  They are unordered structures, so cannot be indexed by position or sliced.  They are a very fast way access data.  Dictionary values can be numbers, strings, tuples, lists or any combination."
     ]
    },
    {
     "cell_type": "code",
     "collapsed": false,
     "input": [
      "tanks = {'1215':'AB', '1183':'brn3c:gfp','1941':'myo6:gfp'}\n",
      "\n",
      "print tanks['1183']"
     ],
     "language": "python",
     "metadata": {},
     "outputs": []
    },
    {
     "cell_type": "markdown",
     "metadata": {},
     "source": [
      "Adding and deleting dictionary entries"
     ]
    },
    {
     "cell_type": "code",
     "collapsed": false,
     "input": [
      "tanks = {'1215':'AB', '1183':'brn3c:gfp','1941':'myo6:gfp'}\n",
      "print tanks\n",
      "tanks['1222'] = 'Mcbane'\n",
      "print tanks\n",
      "del tanks['1183']\n",
      "print tanks"
     ],
     "language": "python",
     "metadata": {},
     "outputs": []
    },
    {
     "cell_type": "markdown",
     "metadata": {},
     "source": [
      "A list of tuples can be converted into a dictionary using dict()"
     ]
    },
    {
     "cell_type": "code",
     "collapsed": false,
     "input": [
      "numbers = ['1215','1183','1941']\n",
      "stocks = ['AB','brn3c:gfp','myo6:gfp']\n",
      "tanks = zip(numbers,stocks)\n",
      "print tanks\n",
      "print dict(tanks)"
     ],
     "language": "python",
     "metadata": {},
     "outputs": []
    },
    {
     "cell_type": "markdown",
     "metadata": {},
     "source": [
      "All keys and values can be accessed using dict methods."
     ]
    },
    {
     "cell_type": "code",
     "collapsed": false,
     "input": [
      "tanks = {'1215':'AB', '1183':'brn3c:gfp','1941':'myo6:gfp'}\n",
      "print tanks.keys()\n",
      "print tanks.values()\n",
      "print tanks.items() #returns list of key:value tuples"
     ],
     "language": "python",
     "metadata": {},
     "outputs": []
    },
    {
     "cell_type": "markdown",
     "metadata": {},
     "source": [
      "dict.get will return the value for the given key, or the designated alternative.  If the alternative is not defined, it defaults to None"
     ]
    },
    {
     "cell_type": "code",
     "collapsed": false,
     "input": [
      "tanks = {'1215':'AB', '1183':'brn3c:gfp','1941':'myo6:gfp'}\n",
      "print tanks.get('1215','empty tank')\n",
      "print tanks.get('1216','empty tank')"
     ],
     "language": "python",
     "metadata": {},
     "outputs": []
    },
    {
     "cell_type": "markdown",
     "metadata": {},
     "source": [
      "Dictionaries can be combined using update( ). New key:value pairs are added and existing keys are updated to new values."
     ]
    },
    {
     "cell_type": "code",
     "collapsed": false,
     "input": [
      "tanks = {'1215':'AB', '1183':'brn3c:gfp','1941':'myo6:gfp'}\n",
      "new_tanks = {'1215':'sputnik', '1281':'ubi:cachd1'}\n",
      "print tanks\n",
      "tanks.update(new_tanks)\n",
      "print tanks"
     ],
     "language": "python",
     "metadata": {},
     "outputs": []
    }
   ],
   "metadata": {}
  }
 ]
}