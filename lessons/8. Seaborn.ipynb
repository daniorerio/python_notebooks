{
 "metadata": {
  "name": "",
  "signature": "sha256:5c75144df9a17faeee45c37693679a61a64cc607b4e708ab0a77809f9322c686"
 },
 "nbformat": 3,
 "nbformat_minor": 0,
 "worksheets": [
  {
   "cells": [
    {
     "cell_type": "heading",
     "level": 1,
     "metadata": {},
     "source": [
      "Seaborn"
     ]
    },
    {
     "cell_type": "markdown",
     "metadata": {},
     "source": [
      "[Seaborn](http://stanford.edu/~mwaskom/software/seaborn/index.html) is a library for making attractive and informative statistical graphics in Python. "
     ]
    },
    {
     "cell_type": "code",
     "collapsed": false,
     "input": [
      "import seaborn as sns"
     ],
     "language": "python",
     "metadata": {},
     "outputs": []
    },
    {
     "cell_type": "markdown",
     "metadata": {},
     "source": [
      "Seaborn [distplot](http://stanford.edu/~mwaskom/software/seaborn/generated/seaborn.distplot.html) plots univariate distributions."
     ]
    },
    {
     "cell_type": "code",
     "collapsed": false,
     "input": [
      "random.seed(sum(map(ord, \"distributions\")))\n",
      "x = np.random.normal(size=100)\n",
      "sns.distplot(x);"
     ],
     "language": "python",
     "metadata": {},
     "outputs": []
    },
    {
     "cell_type": "markdown",
     "metadata": {},
     "source": [
      "Seaborn [jointplot](http://stanford.edu/~mwaskom/software/seaborn/generated/seaborn.jointplot.html) plots univariate distributions."
     ]
    },
    {
     "cell_type": "code",
     "collapsed": false,
     "input": [
      "import pandas as pd\n",
      "\n",
      "mean, cov = [0, 1], [(1, .5), (.5, 1)]\n",
      "data = np.random.multivariate_normal(mean, cov, 200)\n",
      "df = pd.DataFrame(data, columns=[\"x\", \"y\"])\n",
      "sns.jointplot(x=\"x\", y=\"y\", data=df)\n",
      "show()"
     ],
     "language": "python",
     "metadata": {},
     "outputs": []
    },
    {
     "cell_type": "code",
     "collapsed": false,
     "input": [
      "#kernel density estimate\n",
      "sns.jointplot(x=\"x\", y=\"y\", data=df, kind=\"kde\")\n",
      "show()"
     ],
     "language": "python",
     "metadata": {},
     "outputs": []
    },
    {
     "cell_type": "code",
     "collapsed": false,
     "input": [
      "g = sns.jointplot(x=\"x\", y=\"y\", data=df, kind=\"kde\", color=\"b\")\n",
      "g.plot_joint(plt.scatter, c=\"w\", s=30, linewidth=1, marker=\"+\", color=\"k\")\n",
      "g.ax_joint.collections[0].set_alpha(0)\n",
      "g.set_axis_labels(\"$X$\", \"$Y$\");"
     ],
     "language": "python",
     "metadata": {},
     "outputs": []
    },
    {
     "cell_type": "markdown",
     "metadata": {},
     "source": [
      "[stripplot( )](http://stanford.edu/~mwaskom/software/seaborn/generated/seaborn.stripplot.html)"
     ]
    },
    {
     "cell_type": "code",
     "collapsed": false,
     "input": [
      "sns.set(style=\"whitegrid\", palette=\"muted\")\n",
      "\n",
      "# Load the example iris dataset\n",
      "iris = sns.load_dataset(\"iris\")\n",
      "\n",
      "# \"Melt\" the dataset to \"long-form\" or \"tidy\" representation\n",
      "iris = pd.melt(iris, \"species\", var_name=\"measurement\")\n",
      "\n",
      "# Draw a categorical scatterplot to show each observation\n",
      "sns.stripplot(x=\"measurement\", y=\"value\", hue=\"species\", data=iris,\n",
      "              jitter=True, edgecolor=\"gray\")\n",
      "show()"
     ],
     "language": "python",
     "metadata": {},
     "outputs": []
    },
    {
     "cell_type": "markdown",
     "metadata": {},
     "source": [
      "[boxplot( )](http://stanford.edu/~mwaskom/software/seaborn/generated/seaborn.boxplot.html)"
     ]
    },
    {
     "cell_type": "code",
     "collapsed": false,
     "input": [
      "sns.set_style(\"whitegrid\")\n",
      "tips = sns.load_dataset(\"tips\")\n",
      "ax = sns.boxplot(x=\"day\", y=\"total_bill\", palette=\"muted\", data=tips)\n"
     ],
     "language": "python",
     "metadata": {},
     "outputs": []
    },
    {
     "cell_type": "code",
     "collapsed": false,
     "input": [
      "ax = sns.boxplot(x=\"day\", y=\"total_bill\", palette=\"muted\", data=tips, notch = True, fliersize = 0)\n",
      "ax = sns.stripplot(x=\"day\", y=\"total_bill\", data=tips, size=4, edgecolor = 'grey', jitter=True, palette=\"muted\")"
     ],
     "language": "python",
     "metadata": {},
     "outputs": []
    },
    {
     "cell_type": "markdown",
     "metadata": {},
     "source": [
      "[violinplot( )](http://stanford.edu/~mwaskom/software/seaborn/generated/seaborn.violinplot.html)"
     ]
    },
    {
     "cell_type": "code",
     "collapsed": false,
     "input": [
      "ax = sns.violinplot(x=\"day\", y=\"total_bill\", palette=\"muted\", data=tips, inner = None)\n",
      "ax = sns.stripplot(x=\"day\", y=\"total_bill\", data=tips, size=4, edgecolor = 'white', jitter=True, palette=\"muted\")"
     ],
     "language": "python",
     "metadata": {},
     "outputs": []
    }
   ],
   "metadata": {}
  }
 ]
}