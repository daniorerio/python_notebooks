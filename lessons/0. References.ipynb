{
 "metadata": {
  "name": "",
  "signature": "sha256:df78ef56e2c03895f9d048f0e7b25cf02f1156cc106f7d0549f792610d74a32e"
 },
 "nbformat": 3,
 "nbformat_minor": 0,
 "worksheets": [
  {
   "cells": [
    {
     "cell_type": "heading",
     "level": 1,
     "metadata": {},
     "source": [
      "Introduction to Python Programming"
     ]
    },
    {
     "cell_type": "heading",
     "level": 4,
     "metadata": {},
     "source": [
      "References"
     ]
    },
    {
     "cell_type": "markdown",
     "metadata": {},
     "source": [
      "[Introduction to Python](http://introtopython.org) Basis for the beginning lectures"
     ]
    },
    {
     "cell_type": "markdown",
     "metadata": {},
     "source": [
      "[Software Carpentry](http://swcarpentry.github.io/python-novice-inflammation/) Interesting alternate way to learn Python"
     ]
    },
    {
     "cell_type": "markdown",
     "metadata": {},
     "source": [
      "[Programming for Biologists](http://www.programmingforbiologists.org)  Thoughtful course on programming"
     ]
    },
    {
     "cell_type": "markdown",
     "metadata": {},
     "source": [
      "[Python for Data analysis](https://github.com/ResearchComputing/Meetup-Fall-2013) More advanced concepts"
     ]
    },
    {
     "cell_type": "markdown",
     "metadata": {},
     "source": [
      "[Python Scientific Lecture Notes](http://scipy-lectures.github.io/index.html) Various topics of scientific computing including image analysis"
     ]
    },
    {
     "cell_type": "markdown",
     "metadata": {},
     "source": [
      "[Introduction to Statistics](http://work.thaslwanter.at/Stats/html/index.html) "
     ]
    },
    {
     "cell_type": "markdown",
     "metadata": {},
     "source": [
      "[Multidimensional image processing](http://docs.scipy.org/doc/scipy-0.15.1/reference/tutorial/ndimage.html#segmentation-and-labeling)"
     ]
    },
    {
     "cell_type": "markdown",
     "metadata": {},
     "source": [
      "[Scikit Image](http://scikit-image.org)"
     ]
    },
    {
     "cell_type": "code",
     "collapsed": false,
     "input": [],
     "language": "python",
     "metadata": {},
     "outputs": []
    }
   ],
   "metadata": {}
  }
 ]
}