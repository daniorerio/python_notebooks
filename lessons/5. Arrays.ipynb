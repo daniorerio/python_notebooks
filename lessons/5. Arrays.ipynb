{
 "metadata": {
  "name": "",
  "signature": "sha256:c5dae3e0cf8a3cd3b7a88185ae4c32311382e3232a375f639432e2fd8f9fed5e"
 },
 "nbformat": 3,
 "nbformat_minor": 0,
 "worksheets": [
  {
   "cells": [
    {
     "cell_type": "heading",
     "level": 1,
     "metadata": {},
     "source": [
      "Arrays"
     ]
    },
    {
     "cell_type": "markdown",
     "metadata": {},
     "source": [
      "Arrays are n-dimensional objects of ordered variables.  In Python, the NumPy package allows fast manipulation of array objects. The [NumPy Reference Manual](http://docs.scipy.org/doc/numpy/index.html) is a good source for more information. In IPython Notebook, NumPy is alread implemented.  Otherwise you would need to invoke the import numpy command.\n",
      "\n",
      "All components of a NumPy array are of one variable type (note that there are specialized arrays called structured arrays and object arrays, not considered here, that can break this rule).  This allows very fast implementation of functions across an array.  Arrays can be one-dimensional, looking like a list, but because of the uniformity of structure will be processed much faster than a list.\n",
      "\n",
      "Arrays are created by the array( ) function.  The shape property gives the dimensions of the array and can be useful for debugging. The size property gives the overall number of elements.  The dtype property gives the type of variable.  Note that there are many types of numerical variable types in NumPy arrays; see [dtype documentation](http://docs.scipy.org/doc/numpy/reference/arrays.dtypes.html) for more info. The different types of scalar variables can be found [here](http://docs.scipy.org/doc/numpy/reference/arrays.scalars.html)."
     ]
    },
    {
     "cell_type": "code",
     "collapsed": false,
     "input": [
      "v = array([1,2,3,4])\n",
      "\n",
      "#dimensions are represented by nested square brackets\n",
      "\n",
      "m = array([[1.0, 2.0], [3.0, 4.0]])\n",
      "\n",
      "print v.shape\n",
      "print m.shape"
     ],
     "language": "python",
     "metadata": {},
     "outputs": []
    },
    {
     "cell_type": "code",
     "collapsed": false,
     "input": [
      "print v.size\n",
      "print m.size"
     ],
     "language": "python",
     "metadata": {},
     "outputs": []
    },
    {
     "cell_type": "code",
     "collapsed": false,
     "input": [
      "print v.dtype\n",
      "print m.dtype"
     ],
     "language": "python",
     "metadata": {},
     "outputs": []
    },
    {
     "cell_type": "code",
     "collapsed": false,
     "input": [
      "#dtype can be specified at creation\n",
      "m = np.array([[1, 2], [3, 4]], dtype = 'int8')\n",
      "print m\n",
      "print m.dtype"
     ],
     "language": "python",
     "metadata": {},
     "outputs": []
    },
    {
     "cell_type": "markdown",
     "metadata": {},
     "source": [
      "One of the big advantages of NumPy is speed.  These two functions do the same thing - add each of the elements of two series together (more on NumPy math later).  The following example demonstrates the speed bump using NumPy arrays."
     ]
    },
    {
     "cell_type": "code",
     "collapsed": false,
     "input": [
      "import time  #time module  - use time? for more info\n",
      "\n",
      "t1 = time.time()\n",
      "X = range(10000000)\n",
      "Y = range(10000000)\n",
      "Z = []\n",
      "for i in range(len(X)):\n",
      "    Z.append(X[i] + Y[i])\n",
      "print time.time() - t1\n",
      "\n",
      "t1 = time.time()\n",
      "X = arange(10000000)\n",
      "Y = arange(10000000)\n",
      "Z = X + Y\n",
      "print time.time() - t1"
     ],
     "language": "python",
     "metadata": {},
     "outputs": []
    },
    {
     "cell_type": "heading",
     "level": 3,
     "metadata": {},
     "source": [
      "Generating arrays"
     ]
    },
    {
     "cell_type": "markdown",
     "metadata": {},
     "source": [
      "There are several methods to generate arrays.  Some common ways include arange (equivalent of the list function range), linspace, random, zeroes, ones, mgrid, diag. You can find more info on array creation routines [here](http://docs.scipy.org/doc/numpy/reference/routines.array-creation.html)."
     ]
    },
    {
     "cell_type": "code",
     "collapsed": false,
     "input": [
      "x = arange(1, 10, 0.5) #start, stop, step\n",
      "print x"
     ],
     "language": "python",
     "metadata": {},
     "outputs": []
    },
    {
     "cell_type": "code",
     "collapsed": false,
     "input": [
      "print linspace(-5, 5, 15)"
     ],
     "language": "python",
     "metadata": {},
     "outputs": []
    },
    {
     "cell_type": "code",
     "collapsed": false,
     "input": [
      "print random.rand(10)"
     ],
     "language": "python",
     "metadata": {},
     "outputs": []
    },
    {
     "cell_type": "code",
     "collapsed": false,
     "input": [
      "print zeros(10)"
     ],
     "language": "python",
     "metadata": {},
     "outputs": []
    },
    {
     "cell_type": "code",
     "collapsed": false,
     "input": [
      "print ones((3,3))"
     ],
     "language": "python",
     "metadata": {},
     "outputs": []
    },
    {
     "cell_type": "code",
     "collapsed": false,
     "input": [
      "x = mgrid[0:5,0:5]\n",
      "print x"
     ],
     "language": "python",
     "metadata": {},
     "outputs": []
    },
    {
     "cell_type": "code",
     "collapsed": false,
     "input": [
      "print diag([1,2,3])"
     ],
     "language": "python",
     "metadata": {},
     "outputs": []
    },
    {
     "cell_type": "code",
     "collapsed": false,
     "input": [
      "print diag([1,1,1])"
     ],
     "language": "python",
     "metadata": {},
     "outputs": []
    },
    {
     "cell_type": "code",
     "collapsed": false,
     "input": [
      "print diag([1,2,3], k=1)# k sets offset"
     ],
     "language": "python",
     "metadata": {},
     "outputs": []
    },
    {
     "cell_type": "heading",
     "level": 3,
     "metadata": {},
     "source": [
      "Indexing and Slicing Arrays"
     ]
    },
    {
     "cell_type": "markdown",
     "metadata": {},
     "source": [
      "Indexing and slicing follow Python rules with added dimensions separated by commas."
     ]
    },
    {
     "cell_type": "code",
     "collapsed": false,
     "input": [
      "example_array = array([[1,2,3,4], [5,6,7,8], [9,10,11,12]])\n",
      "\n",
      "print example_array.shape"
     ],
     "language": "python",
     "metadata": {},
     "outputs": []
    },
    {
     "cell_type": "code",
     "collapsed": false,
     "input": [
      "print example_array[1,2]"
     ],
     "language": "python",
     "metadata": {},
     "outputs": []
    },
    {
     "cell_type": "code",
     "collapsed": false,
     "input": [
      "print example_array[1, :]"
     ],
     "language": "python",
     "metadata": {},
     "outputs": []
    },
    {
     "cell_type": "markdown",
     "metadata": {},
     "source": [
      "Index slicing uses the format lower:upper:step for each dimension."
     ]
    },
    {
     "cell_type": "code",
     "collapsed": false,
     "input": [
      "print example_array[0:3:2,:]"
     ],
     "language": "python",
     "metadata": {},
     "outputs": []
    },
    {
     "cell_type": "code",
     "collapsed": false,
     "input": [
      "print example_array[:,::2]"
     ],
     "language": "python",
     "metadata": {},
     "outputs": []
    },
    {
     "cell_type": "heading",
     "level": 3,
     "metadata": {},
     "source": [
      "Fancy indexing"
     ]
    },
    {
     "cell_type": "markdown",
     "metadata": {},
     "source": [
      "Fancy indexing (or fancy slicing) allows selection of subsets of an array. A list of integers serves as an index for the array."
     ]
    },
    {
     "cell_type": "code",
     "collapsed": false,
     "input": [
      "matrix = array([[n+m*10 for n in range(5)] for m in range(5)])\n",
      "    \n",
      "print matrix"
     ],
     "language": "python",
     "metadata": {},
     "outputs": []
    },
    {
     "cell_type": "code",
     "collapsed": false,
     "input": [
      "print matrix[[0,2,4]]"
     ],
     "language": "python",
     "metadata": {},
     "outputs": []
    },
    {
     "cell_type": "code",
     "collapsed": false,
     "input": [
      "print matrix[:,[0,2,4]]"
     ],
     "language": "python",
     "metadata": {},
     "outputs": []
    },
    {
     "cell_type": "code",
     "collapsed": false,
     "input": [
      "print matrix[[0,2,4],0:3:2]"
     ],
     "language": "python",
     "metadata": {},
     "outputs": []
    },
    {
     "cell_type": "code",
     "collapsed": false,
     "input": [
      "print matrix[[0,4,2]] #You can change the order"
     ],
     "language": "python",
     "metadata": {},
     "outputs": []
    },
    {
     "cell_type": "code",
     "collapsed": false,
     "input": [
      "print matrix[:,[0,2,-2]]#negative numbers index from the end"
     ],
     "language": "python",
     "metadata": {},
     "outputs": []
    },
    {
     "cell_type": "code",
     "collapsed": false,
     "input": [
      "matrix[[0,2,4],0:3:2] += 5\n",
      "print matrix"
     ],
     "language": "python",
     "metadata": {},
     "outputs": []
    },
    {
     "cell_type": "heading",
     "level": 3,
     "metadata": {},
     "source": [
      "Masks"
     ]
    },
    {
     "cell_type": "markdown",
     "metadata": {},
     "source": [
      "Performing an evaluation of an array creates a boolean mask.  Masks can be used to index an array and extract values or to reassign values."
     ]
    },
    {
     "cell_type": "code",
     "collapsed": false,
     "input": [
      "example_array = np.array([[1,2,3,4], [5,6,7,8], [9,10,11,12]])\n",
      "print example_array"
     ],
     "language": "python",
     "metadata": {},
     "outputs": []
    },
    {
     "cell_type": "code",
     "collapsed": false,
     "input": [
      "mask = example_array>3\n",
      "print mask"
     ],
     "language": "python",
     "metadata": {},
     "outputs": []
    },
    {
     "cell_type": "code",
     "collapsed": false,
     "input": [
      "print example_array[mask]"
     ],
     "language": "python",
     "metadata": {},
     "outputs": []
    },
    {
     "cell_type": "code",
     "collapsed": false,
     "input": [
      "example_array[mask] = 0\n",
      "print example_array"
     ],
     "language": "python",
     "metadata": {},
     "outputs": []
    },
    {
     "cell_type": "heading",
     "level": 3,
     "metadata": {},
     "source": [
      "Copies and Views"
     ]
    },
    {
     "cell_type": "markdown",
     "metadata": {},
     "source": [
      "A somewhat confusing aspect of NumPy arrays is the relationship between array elements of linked arrays. Simple assignments make no copy of array objects or of their data.  Rather corresponding elements point to the same objects in arrays."
     ]
    },
    {
     "cell_type": "code",
     "collapsed": false,
     "input": [
      "a = arange(12)\n",
      "b = a\n",
      "print b is a"
     ],
     "language": "python",
     "metadata": {},
     "outputs": []
    },
    {
     "cell_type": "code",
     "collapsed": false,
     "input": [
      "print a\n",
      "b[2]=4\n",
      "print a"
     ],
     "language": "python",
     "metadata": {},
     "outputs": []
    },
    {
     "cell_type": "code",
     "collapsed": false,
     "input": [
      "print b\n",
      "a[0] = 1\n",
      "print b"
     ],
     "language": "python",
     "metadata": {},
     "outputs": []
    },
    {
     "cell_type": "markdown",
     "metadata": {},
     "source": [
      "The view( ) method makes a linked view of an array, sometimes called a shallow copy.  These arrays are not the same but elements will point to the same objects.  "
     ]
    },
    {
     "cell_type": "code",
     "collapsed": false,
     "input": [
      "a = arange(12)\n",
      "b = a\n",
      "c = a.view()\n",
      "print b is a\n",
      "print c is a\n",
      "print a\n",
      "print b\n",
      "print c"
     ],
     "language": "python",
     "metadata": {},
     "outputs": []
    },
    {
     "cell_type": "code",
     "collapsed": false,
     "input": [
      "print a\n",
      "c[2]=0\n",
      "print a"
     ],
     "language": "python",
     "metadata": {},
     "outputs": []
    },
    {
     "cell_type": "code",
     "collapsed": false,
     "input": [
      "print b.shape\n",
      "print c.shape\n",
      "a.shape = (2,6) #changes the shape of the array (more later)\n",
      "print b.shape\n",
      "print c.shape\n",
      "\n",
      "print a\n",
      "print b\n",
      "print c"
     ],
     "language": "python",
     "metadata": {},
     "outputs": []
    },
    {
     "cell_type": "markdown",
     "metadata": {},
     "source": [
      "Slicing an array makes a view of the array.  Although it has a different shape, it looks at the same data."
     ]
    },
    {
     "cell_type": "code",
     "collapsed": false,
     "input": [
      "example_array = array([[1,2,3,4], [5,6,7,8], [9,10,11,12]])\n",
      "b = example_array[1, :]\n",
      "print example_array.shape\n",
      "print b.shape"
     ],
     "language": "python",
     "metadata": {},
     "outputs": []
    },
    {
     "cell_type": "code",
     "collapsed": false,
     "input": [
      "print example_array\n",
      "b[0]=1\n",
      "print example_array\n",
      "print b"
     ],
     "language": "python",
     "metadata": {},
     "outputs": []
    },
    {
     "cell_type": "markdown",
     "metadata": {},
     "source": [
      "The copy( ) method makes a complete copy.  Elements are no longer linked."
     ]
    },
    {
     "cell_type": "code",
     "collapsed": false,
     "input": [
      "a = arange(12)\n",
      "d = a.copy()\n",
      "print d\n",
      "a[0] = 1\n",
      "print d\n",
      "print a"
     ],
     "language": "python",
     "metadata": {},
     "outputs": []
    },
    {
     "cell_type": "heading",
     "level": 1,
     "metadata": {},
     "source": [
      "Operations on arrays"
     ]
    },
    {
     "cell_type": "heading",
     "level": 3,
     "metadata": {},
     "source": [
      "Basic operations"
     ]
    },
    {
     "cell_type": "code",
     "collapsed": false,
     "input": [
      "# math with scalars\n",
      "\n",
      "a = array([1, 2, 3, 4])\n",
      "print a"
     ],
     "language": "python",
     "metadata": {},
     "outputs": []
    },
    {
     "cell_type": "code",
     "collapsed": false,
     "input": [
      "print a + 1"
     ],
     "language": "python",
     "metadata": {},
     "outputs": []
    },
    {
     "cell_type": "code",
     "collapsed": false,
     "input": [
      "print 2**a"
     ],
     "language": "python",
     "metadata": {},
     "outputs": []
    },
    {
     "cell_type": "markdown",
     "metadata": {},
     "source": [
      "Math operations can be performed across arrays of the same shape."
     ]
    },
    {
     "cell_type": "code",
     "collapsed": false,
     "input": [
      "a = array([1, 2, 3, 4])\n",
      "b = ones(4)+1\n",
      "c = array([1, 2])\n",
      "\n",
      "print a\n",
      "print b\n",
      "print a+b"
     ],
     "language": "python",
     "metadata": {},
     "outputs": []
    },
    {
     "cell_type": "code",
     "collapsed": false,
     "input": [
      "print a\n",
      "print b\n",
      "print a-b"
     ],
     "language": "python",
     "metadata": {},
     "outputs": []
    },
    {
     "cell_type": "code",
     "collapsed": false,
     "input": [
      "print a\n",
      "print b\n",
      "print a*b"
     ],
     "language": "python",
     "metadata": {},
     "outputs": []
    },
    {
     "cell_type": "code",
     "collapsed": false,
     "input": [
      "print a/b "
     ],
     "language": "python",
     "metadata": {},
     "outputs": []
    },
    {
     "cell_type": "code",
     "collapsed": false,
     "input": [
      "print c+b #arrays are different shape..."
     ],
     "language": "python",
     "metadata": {},
     "outputs": []
    },
    {
     "cell_type": "heading",
     "level": 3,
     "metadata": {},
     "source": [
      "Array broadcasting"
     ]
    },
    {
     "cell_type": "markdown",
     "metadata": {},
     "source": [
      "If arrays are compatible along one axis dimension, then NumPy will perform operations using [broadcasting rules](http://docs.scipy.org/doc/numpy/user/basics.broadcasting.html).  Dimensions are compatible if they are:\n",
      "* the same length\n",
      "* the dimension of one array is 1."
     ]
    },
    {
     "cell_type": "code",
     "collapsed": false,
     "input": [
      "a = tile(arange(0, 40, 10), (3, 1)).T #T transposes an array - more later\n",
      "\n",
      "print a.shape\n",
      "print a"
     ],
     "language": "python",
     "metadata": {},
     "outputs": []
    },
    {
     "cell_type": "code",
     "collapsed": false,
     "input": [
      "b = array([0, 1, 2])\n",
      "\n",
      "print b.shape\n",
      "print b"
     ],
     "language": "python",
     "metadata": {},
     "outputs": []
    },
    {
     "cell_type": "code",
     "collapsed": false,
     "input": [
      "print a + b"
     ],
     "language": "python",
     "metadata": {},
     "outputs": []
    },
    {
     "cell_type": "markdown",
     "metadata": {},
     "source": [
      "If the shared axis length is 1 for one array then broadcasting creates a new array using the longer axis."
     ]
    },
    {
     "cell_type": "code",
     "collapsed": false,
     "input": [
      "c = arange(0, 40, 10)\n",
      "c = c[:, np.newaxis]  # adds a new axis -> 2D array - more later\n",
      "print c"
     ],
     "language": "python",
     "metadata": {},
     "outputs": []
    },
    {
     "cell_type": "code",
     "collapsed": false,
     "input": [
      "d = array([0, 1, 2])\n",
      "print d"
     ],
     "language": "python",
     "metadata": {},
     "outputs": []
    },
    {
     "cell_type": "code",
     "collapsed": false,
     "input": [
      "e= c+d\n",
      "print e"
     ],
     "language": "python",
     "metadata": {},
     "outputs": []
    },
    {
     "cell_type": "code",
     "collapsed": false,
     "input": [
      "print c.shape\n",
      "print d.shape\n",
      "print e.shape"
     ],
     "language": "python",
     "metadata": {},
     "outputs": []
    },
    {
     "cell_type": "code",
     "collapsed": false,
     "input": [
      "print c-d\n",
      "print c*d"
     ],
     "language": "python",
     "metadata": {},
     "outputs": []
    },
    {
     "cell_type": "heading",
     "level": 3,
     "metadata": {},
     "source": [
      "Universal functions"
     ]
    },
    {
     "cell_type": "markdown",
     "metadata": {},
     "source": [
      "Universal functions operate elementwise on an array, producing an array as output.  These include math and trig operations, and comparison functions.  See [here](http://docs.scipy.org/doc/numpy/reference/ufuncs.html#available-ufuncs) for details."
     ]
    },
    {
     "cell_type": "code",
     "collapsed": false,
     "input": [
      "a = array([1, 2, 3, 4])\n",
      "b = array([4, 3, 2, 1])\n",
      "print np.log2(a)"
     ],
     "language": "python",
     "metadata": {},
     "outputs": []
    },
    {
     "cell_type": "code",
     "collapsed": false,
     "input": [
      "print sin(a)"
     ],
     "language": "python",
     "metadata": {},
     "outputs": []
    },
    {
     "cell_type": "code",
     "collapsed": false,
     "input": [
      "print maximum(a,b)"
     ],
     "language": "python",
     "metadata": {},
     "outputs": []
    },
    {
     "cell_type": "markdown",
     "metadata": {},
     "source": [
      "There are corresponding [string functions](http://docs.scipy.org/doc/numpy/reference/routines.char.html) that can be used element-wise on an array.  Note that you may have to direct to the submodule to get the function to work."
     ]
    },
    {
     "cell_type": "code",
     "collapsed": false,
     "input": [
      "fishes = array(['Oryzias latipes','Danio rerio','Takifugu rubripes'])\n",
      "\n",
      "print numpy.core.defchararray.find(fishes,'rer')"
     ],
     "language": "python",
     "metadata": {},
     "outputs": []
    },
    {
     "cell_type": "heading",
     "level": 3,
     "metadata": {},
     "source": [
      "Array reduction"
     ]
    },
    {
     "cell_type": "markdown",
     "metadata": {},
     "source": [
      "Array reduction functions provide summaries across dimensions of the array.  In Numpy, axis 0 is the vertical axis (down columns), axis 1 is horizontal (across rows)."
     ]
    },
    {
     "cell_type": "code",
     "collapsed": false,
     "input": [
      "a = array([[1,1], [2,2]])\n",
      "print a\n",
      "print a.sum(axis=0)#cols\n"
     ],
     "language": "python",
     "metadata": {},
     "outputs": []
    },
    {
     "cell_type": "code",
     "collapsed": false,
     "input": [
      "print a\n",
      "print a.sum(axis=1) #rows"
     ],
     "language": "python",
     "metadata": {},
     "outputs": []
    },
    {
     "cell_type": "code",
     "collapsed": false,
     "input": [
      "b = array([[1, 2, 3], [5, 6, 7]])\n",
      "print b\n",
      "print b.mean()"
     ],
     "language": "python",
     "metadata": {},
     "outputs": []
    },
    {
     "cell_type": "code",
     "collapsed": false,
     "input": [
      "print b\n",
      "print b.mean(axis=1)#rows\n",
      "print b.mean(axis=0)#cols"
     ],
     "language": "python",
     "metadata": {},
     "outputs": []
    },
    {
     "cell_type": "heading",
     "level": 1,
     "metadata": {},
     "source": [
      "Changing array shape"
     ]
    },
    {
     "cell_type": "heading",
     "level": 3,
     "metadata": {},
     "source": [
      "Flipping arrays"
     ]
    },
    {
     "cell_type": "markdown",
     "metadata": {},
     "source": [
      "One simple way to change an array is to transpose axes.  There are several ways to do this.  These functions return a view of the array."
     ]
    },
    {
     "cell_type": "code",
     "collapsed": false,
     "input": [
      "a = array([[n+m*10 for n in range(3)] for m in range(4)])\n",
      "print a"
     ],
     "language": "python",
     "metadata": {},
     "outputs": []
    },
    {
     "cell_type": "markdown",
     "metadata": {},
     "source": [
      ".T transposes a 2-axis array"
     ]
    },
    {
     "cell_type": "code",
     "collapsed": false,
     "input": [
      "print a.T"
     ],
     "language": "python",
     "metadata": {},
     "outputs": []
    },
    {
     "cell_type": "markdown",
     "metadata": {},
     "source": [
      "swapaxes(array,axis 1,axis 2) swaps any 2 axes."
     ]
    },
    {
     "cell_type": "code",
     "collapsed": false,
     "input": [
      "print swapaxes(a,1,0)"
     ],
     "language": "python",
     "metadata": {},
     "outputs": []
    },
    {
     "cell_type": "markdown",
     "metadata": {},
     "source": [
      "transpose(array, axes=None) will change the order of all axes according to axes = dimensions to be permuted as a tuple of integers."
     ]
    },
    {
     "cell_type": "code",
     "collapsed": false,
     "input": [
      "print transpose(a,(1,0))"
     ],
     "language": "python",
     "metadata": {},
     "outputs": []
    },
    {
     "cell_type": "markdown",
     "metadata": {},
     "source": [
      "There are also functions to flip values in axes: fliplr( ), flipud( )"
     ]
    },
    {
     "cell_type": "code",
     "collapsed": false,
     "input": [
      "print fliplr(a)"
     ],
     "language": "python",
     "metadata": {},
     "outputs": []
    },
    {
     "cell_type": "code",
     "collapsed": false,
     "input": [
      "print flipud(a)"
     ],
     "language": "python",
     "metadata": {},
     "outputs": []
    },
    {
     "cell_type": "markdown",
     "metadata": {},
     "source": [
      "rot90(array, k =1 ) rotates 90\u00b0 counterclockwise for k iterations"
     ]
    },
    {
     "cell_type": "code",
     "collapsed": false,
     "input": [
      "print rot90(a) \n",
      "#compare to transpose\n",
      "print a.T"
     ],
     "language": "python",
     "metadata": {},
     "outputs": []
    },
    {
     "cell_type": "code",
     "collapsed": false,
     "input": [
      "print rot90(a,3)"
     ],
     "language": "python",
     "metadata": {},
     "outputs": []
    },
    {
     "cell_type": "heading",
     "level": 3,
     "metadata": {},
     "source": [
      "Changing the dimensions of arrays"
     ]
    },
    {
     "cell_type": "markdown",
     "metadata": {},
     "source": [
      "reshape( (tup) ) is used to reshape an array.  It returns a view of the array."
     ]
    },
    {
     "cell_type": "code",
     "collapsed": false,
     "input": [
      "a = array([[n+m*10 for n in range(3)] for m in range(4)])\n",
      "print a\n",
      "print a.shape"
     ],
     "language": "python",
     "metadata": {},
     "outputs": []
    },
    {
     "cell_type": "code",
     "collapsed": false,
     "input": [
      "b = a.reshape((2,6))#takes a tuple for its argument\n",
      "print a\n",
      "print b"
     ],
     "language": "python",
     "metadata": {},
     "outputs": []
    },
    {
     "cell_type": "markdown",
     "metadata": {},
     "source": [
      "Array shape can also be changed by direct assignment."
     ]
    },
    {
     "cell_type": "code",
     "collapsed": false,
     "input": [
      "print b\n",
      "b.shape = (4,3)\n",
      "print b"
     ],
     "language": "python",
     "metadata": {},
     "outputs": []
    },
    {
     "cell_type": "markdown",
     "metadata": {},
     "source": [
      "Using -1 as an array dimension gives \"whatever is needed\"."
     ]
    },
    {
     "cell_type": "code",
     "collapsed": false,
     "input": [
      "c = arange(30)\n",
      "print c\n",
      "c.shape = 2,-1,3\n",
      "print c\n",
      "print c.shape"
     ],
     "language": "python",
     "metadata": {},
     "outputs": []
    },
    {
     "cell_type": "markdown",
     "metadata": {},
     "source": [
      "ravel( ) creates a one-dimensional view of an array.  "
     ]
    },
    {
     "cell_type": "code",
     "collapsed": false,
     "input": [
      "d = ravel(c)\n",
      "print d"
     ],
     "language": "python",
     "metadata": {},
     "outputs": []
    },
    {
     "cell_type": "markdown",
     "metadata": {},
     "source": [
      "flatten( ) creates a one-dimensional copy of an array."
     ]
    },
    {
     "cell_type": "code",
     "collapsed": false,
     "input": [
      "e= c.flatten()\n",
      "d[2] = 0\n",
      "print c\n",
      "print e"
     ],
     "language": "python",
     "metadata": {},
     "outputs": []
    },
    {
     "cell_type": "markdown",
     "metadata": {},
     "source": [
      "Dimensions can be restored."
     ]
    },
    {
     "cell_type": "code",
     "collapsed": false,
     "input": [
      "e.shape = c.shape\n",
      "print e"
     ],
     "language": "python",
     "metadata": {},
     "outputs": []
    },
    {
     "cell_type": "heading",
     "level": 3,
     "metadata": {},
     "source": [
      "Joining and splitting arrays"
     ]
    },
    {
     "cell_type": "markdown",
     "metadata": {},
     "source": [
      "There are several functions to join arrays.  hstack( (tup) ) joins arrays horizontally (column-wise), producing a new array.  vstack( ) joins vertically (row-wise) and dstack( ) joins depth-wise (along z axis)."
     ]
    },
    {
     "cell_type": "code",
     "collapsed": false,
     "input": [
      "a = array([[1,2],[5,6],[9,10]])\n",
      "b = array([[3,4],[7,8],[11,12]])\n",
      "c = hstack((a,b))#tuple for argument\n",
      "print a\n",
      "print b\n",
      "print c"
     ],
     "language": "python",
     "metadata": {},
     "outputs": []
    },
    {
     "cell_type": "code",
     "collapsed": false,
     "input": [
      "d= dstack((c,c))\n",
      "print d\n",
      "print d.shape"
     ],
     "language": "python",
     "metadata": {},
     "outputs": []
    },
    {
     "cell_type": "markdown",
     "metadata": {},
     "source": [
      "The split functions work similarly. hsplit( (tup) ) splits arrays horizontally (column-wise), producing new arrays.  vsplit( ) splits vertically (row-wise) and dsplit( ) splits depth-wise (along z axis). Each take (array, indices or sections) for arguments. See [split](http://docs.scipy.org/doc/numpy/reference/generated/numpy.split.html#numpy.split) for more information."
     ]
    },
    {
     "cell_type": "code",
     "collapsed": false,
     "input": [
      "a = arange(16.0).reshape(4, 4)\n",
      "print a"
     ],
     "language": "python",
     "metadata": {},
     "outputs": []
    },
    {
     "cell_type": "code",
     "collapsed": false,
     "input": [
      "b,c =  hsplit(a,2)#split into two equal portions\n",
      "print b\n",
      "print c"
     ],
     "language": "python",
     "metadata": {},
     "outputs": []
    },
    {
     "cell_type": "code",
     "collapsed": false,
     "input": [
      "b,c,d = hsplit(a,[1,2])#list of indices to split\n",
      "print b\n",
      "print c\n",
      "print d"
     ],
     "language": "python",
     "metadata": {},
     "outputs": []
    },
    {
     "cell_type": "heading",
     "level": 3,
     "metadata": {},
     "source": [
      "Adding a dimension"
     ]
    },
    {
     "cell_type": "markdown",
     "metadata": {},
     "source": [
      "newaxis adds a dimension to an array with value None."
     ]
    },
    {
     "cell_type": "code",
     "collapsed": false,
     "input": [
      "a = arange(4)\n",
      "print a\n",
      "print a.shape"
     ],
     "language": "python",
     "metadata": {},
     "outputs": []
    },
    {
     "cell_type": "code",
     "collapsed": false,
     "input": [
      "b=a[:,newaxis]\n",
      "print b\n",
      "print b.shape"
     ],
     "language": "python",
     "metadata": {},
     "outputs": []
    },
    {
     "cell_type": "code",
     "collapsed": false,
     "input": [
      "c=a[newaxis,:]\n",
      "print c\n",
      "print c.shape"
     ],
     "language": "python",
     "metadata": {},
     "outputs": []
    },
    {
     "cell_type": "heading",
     "level": 3,
     "metadata": {},
     "source": [
      "Adding items"
     ]
    },
    {
     "cell_type": "markdown",
     "metadata": {},
     "source": [
      "Numpy arrays have several functions to add items:  [insert( )](http://docs.scipy.org/doc/numpy/reference/generated/numpy.insert.html#numpy.insert), [delete ( )](http://docs.scipy.org/doc/numpy/reference/generated/numpy.delete.html#numpy.delete), [append ( )](http://docs.scipy.org/doc/numpy/reference/generated/numpy.append.html#numpy.append).  These functions create copies of the array."
     ]
    },
    {
     "cell_type": "heading",
     "level": 4,
     "metadata": {},
     "source": [
      "insert( )"
     ]
    },
    {
     "cell_type": "code",
     "collapsed": false,
     "input": [
      "a = array([10,20,30,40])\n",
      "insert(a,[1,3],50) # insert value 50 before elements [1] and [3]"
     ],
     "language": "python",
     "metadata": {},
     "outputs": []
    },
    {
     "cell_type": "code",
     "collapsed": false,
     "input": [
      "insert(a,[1,3],[50,60]) # insert value 50 before element [1] and value 60 before element [3]"
     ],
     "language": "python",
     "metadata": {},
     "outputs": []
    },
    {
     "cell_type": "code",
     "collapsed": false,
     "input": [
      "a = array([[10,20,30],[40,50,60],[70,80,90]])\n",
      "insert(a, [1,2], 100, axis=0) # insert row with values 100 before row[1] and before row[2]"
     ],
     "language": "python",
     "metadata": {},
     "outputs": []
    },
    {
     "cell_type": "code",
     "collapsed": false,
     "input": [
      "insert(a, [0,1], [[100],[200]], axis=0)"
     ],
     "language": "python",
     "metadata": {},
     "outputs": []
    },
    {
     "cell_type": "code",
     "collapsed": false,
     "input": [
      "insert(a, [0,1], [100,200], axis=1)"
     ],
     "language": "python",
     "metadata": {},
     "outputs": []
    },
    {
     "cell_type": "heading",
     "level": 4,
     "metadata": {},
     "source": [
      "delete( )"
     ]
    },
    {
     "cell_type": "code",
     "collapsed": false,
     "input": [
      "a = array([0, 10, 20, 30, 40])\n",
      "delete(a, [2,4]) # remove a[2] and a[4]"
     ],
     "language": "python",
     "metadata": {},
     "outputs": []
    },
    {
     "cell_type": "code",
     "collapsed": false,
     "input": [
      "a = arange(16).reshape(4,4)\n",
      "print a\n",
      "b = delete(a, s_[1:3], axis=0) # remove rows 1 and 2\n",
      "print b"
     ],
     "language": "python",
     "metadata": {},
     "outputs": []
    },
    {
     "cell_type": "code",
     "collapsed": false,
     "input": [
      "c = delete(a, s_[1:3], axis=1) # remove columns 1 and 2\n",
      "print c"
     ],
     "language": "python",
     "metadata": {},
     "outputs": []
    },
    {
     "cell_type": "heading",
     "level": 4,
     "metadata": {},
     "source": [
      "append( )"
     ]
    },
    {
     "cell_type": "code",
     "collapsed": false,
     "input": [
      "a = array([10,20,30,40])\n",
      "append(a,50)"
     ],
     "language": "python",
     "metadata": {},
     "outputs": []
    },
    {
     "cell_type": "code",
     "collapsed": false,
     "input": [
      "append(a,[50,60])"
     ],
     "language": "python",
     "metadata": {},
     "outputs": []
    },
    {
     "cell_type": "code",
     "collapsed": false,
     "input": [
      "a = array([[10,20,30],[40,50,60],[70,80,90]])\n",
      "append(a,[[15,15,15]],axis=0)"
     ],
     "language": "python",
     "metadata": {},
     "outputs": []
    },
    {
     "cell_type": "code",
     "collapsed": false,
     "input": [
      "append(a,[[15],[15],[15]],axis=1)"
     ],
     "language": "python",
     "metadata": {},
     "outputs": []
    }
   ],
   "metadata": {}
  }
 ]
}