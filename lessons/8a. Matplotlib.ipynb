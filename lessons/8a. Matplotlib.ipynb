{
 "metadata": {
  "name": "",
  "signature": "sha256:5373bd482a3356158c742858080b6841bb501949a7b96c910c9c56bb3680e06a"
 },
 "nbformat": 3,
 "nbformat_minor": 0,
 "worksheets": [
  {
   "cells": [
    {
     "cell_type": "heading",
     "level": 1,
     "metadata": {},
     "source": [
      "Plotting in Python\u00b6"
     ]
    },
    {
     "cell_type": "markdown",
     "metadata": {},
     "source": [
      "The core plotting library in Python is [matplotlib](http://matplotlib.org/index.html). To see a wide variety of different plots and how to implement them, take a look at the [matplotlib gallery](http://matplotlib.org/gallery.html).\n",
      "\n",
      "Matplotlib is automatically imported into IPython Notebook, otherwise you would need to use the import matplotlib command.\n",
      "\n",
      "Generally there are two steps to generating a plot:\n",
      "\n",
      "* A plot function is called that returns a plot object, which can be assigned a variable name.  Plot objects can subsequently be arranged into figures.\n",
      "* Plot objects are displayed using the ``show()`` function. If no arguments are included it displays the preceding plot."
     ]
    },
    {
     "cell_type": "markdown",
     "metadata": {},
     "source": [
      "`plot( )` creates a simple line plot. If only one value is given it is assigned to y and x takes the form of an index array from 0 to N-1."
     ]
    },
    {
     "cell_type": "code",
     "collapsed": false,
     "input": [
      "x = array(range(20))\n",
      "y = 3 + 0.5 * x + random.randn(20)\n",
      "\n",
      "display = plot(x, y)\n",
      "show(display)"
     ],
     "language": "python",
     "metadata": {},
     "outputs": []
    },
    {
     "cell_type": "markdown",
     "metadata": {},
     "source": [
      "Including additional pairs of x,y values will overlay datasets."
     ]
    },
    {
     "cell_type": "code",
     "collapsed": false,
     "input": [
      "x = array(range(20))\n",
      "y = 3 + 0.5 * x + random.randn(20)\n",
      "y2 = 3 + 0.5 * x + random.randn(20)\n",
      "plot(x, y, x, y2)\n",
      "show()"
     ],
     "language": "python",
     "metadata": {},
     "outputs": []
    },
    {
     "cell_type": "markdown",
     "metadata": {},
     "source": [
      "Calling multiple `plot` functions can also be used to overlay plots."
     ]
    },
    {
     "cell_type": "code",
     "collapsed": false,
     "input": [
      "X = linspace(-pi, pi, 256, endpoint=True)\n",
      "C, S = cos(X), sin(X)\n",
      "\n",
      "plot(X, C)\n",
      "plot(X, S)\n",
      "\n",
      "show()"
     ],
     "language": "python",
     "metadata": {},
     "outputs": []
    },
    {
     "cell_type": "heading",
     "level": 3,
     "metadata": {},
     "source": [
      "Formatting plots"
     ]
    },
    {
     "cell_type": "markdown",
     "metadata": {},
     "source": [
      "A set of formatting commands can be used to customize the plotted points.  See [matplotlib.plot( )](http://matplotlib.org/api/pyplot_api.html#matplotlib.pyplot.plot) for details."
     ]
    },
    {
     "cell_type": "code",
     "collapsed": false,
     "input": [
      "x = array(range(20))\n",
      "y = 3 + 0.5 * x + random.randn(20)\n",
      "\n",
      "plot(x, y,'r')\n",
      "show()"
     ],
     "language": "python",
     "metadata": {},
     "outputs": []
    },
    {
     "cell_type": "markdown",
     "metadata": {},
     "source": [
      "Both color and plot style can be combined together."
     ]
    },
    {
     "cell_type": "code",
     "collapsed": false,
     "input": [
      "plot(x, y,'g--')\n",
      "show()"
     ],
     "language": "python",
     "metadata": {},
     "outputs": []
    },
    {
     "cell_type": "markdown",
     "metadata": {},
     "source": [
      "Keyword commands give additional control.  For color, you can use full names ('green'), hex code ('#008000') or RGBA tuples ((0,1,0,1)).  Matplotlib supports [HTML/CSS](http://www.w3schools.com/html/html_colornames.asp) web color names as well."
     ]
    },
    {
     "cell_type": "code",
     "collapsed": false,
     "input": [
      "plot(x, y,color = (0,1,0,1))\n",
      "show()"
     ],
     "language": "python",
     "metadata": {},
     "outputs": []
    },
    {
     "cell_type": "markdown",
     "metadata": {},
     "source": [
      "You can also use specific commands to change linestyle and [marker type](http://matplotlib.org/api/markers_api.html)."
     ]
    },
    {
     "cell_type": "code",
     "collapsed": false,
     "input": [
      "plot(x, y, color='green', linestyle='dashed', marker='o',markerfacecolor='aqua', linewidth = 6, markersize=12)\n",
      "show()"
     ],
     "language": "python",
     "metadata": {},
     "outputs": []
    },
    {
     "cell_type": "markdown",
     "metadata": {},
     "source": [
      "`fill_between( )` fills the area under the curve."
     ]
    },
    {
     "cell_type": "code",
     "collapsed": false,
     "input": [
      "x = array(range(20))\n",
      "y1 = 3 + 0.5 * x + random.randn(20)\n",
      "y2 = abs(0.5 * x + random.randn(20))\n",
      "\n",
      "# Plot the envelope with `fill_between`\n",
      "\n",
      "plot(x, y1,'k')\n",
      "plot(x, y2,'k')\n",
      "fill_between(x, y2, color='red')\n",
      "fill_between(x, y1, y2, color='lightblue')\n",
      "\n",
      "show()"
     ],
     "language": "python",
     "metadata": {},
     "outputs": []
    },
    {
     "cell_type": "heading",
     "level": 3,
     "metadata": {},
     "source": [
      "Colormaps"
     ]
    },
    {
     "cell_type": "markdown",
     "metadata": {},
     "source": [
      "There are also a number of pre-arranged [colormaps](http://matplotlib.org/examples/color/colormaps_reference.html) that have a series of colors with scalar representations."
     ]
    },
    {
     "cell_type": "code",
     "collapsed": false,
     "input": [
      "fig, axes = subplots(2, 2)  #more on figures below\n",
      "z = np.random.random((10, 10))\n",
      "axes[0,0].imshow(z, interpolation='none', cmap='gray')\n",
      "axes[0,1].imshow(z, interpolation='none', cmap='coolwarm')\n",
      "axes[1,0].imshow(z, interpolation='none', cmap='ocean')\n",
      "axes[1,1].imshow(z, interpolation='none', cmap='jet')\n",
      "plt.show()"
     ],
     "language": "python",
     "metadata": {},
     "outputs": []
    },
    {
     "cell_type": "heading",
     "level": 3,
     "metadata": {},
     "source": [
      "Legends, titles"
     ]
    },
    {
     "cell_type": "markdown",
     "metadata": {},
     "source": [
      "The `legend( )` function displays the legend.  It takes several keword arguments listed [here](http://matplotlib.org/api/pyplot_api.html#matplotlib.pyplot.legend).\n",
      "\n",
      "Titles are set by the function `title( )`."
     ]
    },
    {
     "cell_type": "code",
     "collapsed": false,
     "input": [
      "X = linspace(-pi, pi, 256, endpoint=True)\n",
      "C, S = cos(X), sin(X)\n",
      "\n",
      "plot(X, C, label = 'cosine')\n",
      "plot(X, S, label = 'sine')\n",
      "\n",
      "legend(loc='best') # can also use specifics such as 'upper left', or leave blank (upper right default)\n",
      "title('Waves')\n",
      "\n",
      "show()"
     ],
     "language": "python",
     "metadata": {},
     "outputs": []
    },
    {
     "cell_type": "heading",
     "level": 3,
     "metadata": {},
     "source": [
      "Scale"
     ]
    },
    {
     "cell_type": "code",
     "collapsed": false,
     "input": [
      "x = array(range(20))\n",
      "y = 3 + 0.5 * x + random.randn(20)\n",
      "\n",
      "plot(x, y,'r')\n",
      "show()\n",
      "\n",
      "plot(x, y,'r')\n",
      "axis([0,25,0,16])# xmin,xmax,ymin,ymax\n",
      "show()\n",
      "\n",
      "plot(x, y,'r')\n",
      "axis('tight') #no padding; can alsu use keyword 'equal' for equal x and y unit dimensions\n",
      "show()\n"
     ],
     "language": "python",
     "metadata": {},
     "outputs": []
    },
    {
     "cell_type": "heading",
     "level": 3,
     "metadata": {},
     "source": [
      "Ticks and Labels"
     ]
    },
    {
     "cell_type": "markdown",
     "metadata": {},
     "source": [
      "The [tick_params](http://matplotlib.org/api/pyplot_api.html#matplotlib.pyplot.tick_params) function is used to set characteristics of axis ticks."
     ]
    },
    {
     "cell_type": "code",
     "collapsed": false,
     "input": [
      "x = array(range(20))\n",
      "y = 3 + 0.5 * x + random.randn(20)\n",
      "\n",
      "plot(x, y,'r')\n",
      "show()\n",
      "\n",
      "tick_params(direction = 'out', width = 2, pad = 6, top = False, right = False)\n",
      "plot(x, y,'r')\n",
      "show()"
     ],
     "language": "python",
     "metadata": {},
     "outputs": []
    },
    {
     "cell_type": "markdown",
     "metadata": {},
     "source": [
      "The range of ticks is set with [xticks](http://matplotlib.org/api/pyplot_api.html#matplotlib.pyplot.xticks) and [yticks](http://matplotlib.org/api/pyplot_api.html#matplotlib.pyplot.yticks). They take several keyword arguments including rotation."
     ]
    },
    {
     "cell_type": "code",
     "collapsed": false,
     "input": [
      "x = array(range(20))\n",
      "y = 3 + 0.5 * x + random.randn(20)\n",
      "\n",
      "plot(x, y,'r')\n",
      "show()\n",
      "\n",
      "plot(x, y,'r')\n",
      "xticks(range(0,21,4))  #generate series using range( )\n",
      "yticks(range(0,17,4))\n",
      "show()"
     ],
     "language": "python",
     "metadata": {},
     "outputs": []
    },
    {
     "cell_type": "markdown",
     "metadata": {},
     "source": [
      "Tick labels can also have labels instead of numbers.  Tick spacing is given by the x values, or a range as above."
     ]
    },
    {
     "cell_type": "code",
     "collapsed": false,
     "input": [
      "x = [1, 2, 3, 4]\n",
      "y = [1, 4, 9, 6]\n",
      "labels = ['Frogs', 'Hogs', 'Bogs', 'Slogs']\n",
      "\n",
      "plot(x, y, 'ro')\n",
      "xticks(x, labels)\n",
      "show()\n",
      "\n",
      "plot(x, y, 'ro')\n",
      "\n",
      "# You can specify a rotation for the tick labels in degrees or with keywords.\n",
      "xticks(x, labels, rotation='vertical')\n",
      "\n",
      "# Pad margins so that markers don't get clipped by the axes\n",
      "margins(0.2)\n",
      "\n",
      "# Tweak spacing to prevent clipping of tick-labels\n",
      "subplots_adjust(bottom=0.15)\n",
      "\n",
      "show()"
     ],
     "language": "python",
     "metadata": {},
     "outputs": []
    },
    {
     "cell_type": "heading",
     "level": 3,
     "metadata": {},
     "source": [
      "Figures"
     ]
    },
    {
     "cell_type": "markdown",
     "metadata": {},
     "source": [
      "Figures allow more complex annotation and multipanel plots with corresponding subplots.  A simple way to do this is to use `subplot(r,c,f)` with rows, columns, fignum = index of subplot incrementing across rows."
     ]
    },
    {
     "cell_type": "code",
     "collapsed": false,
     "input": [
      "X = linspace(-pi, pi, 256, endpoint=True)\n",
      "C, S = cos(X), sin(X)\n",
      "\n",
      "figure(1)\n",
      "subplot(2,2,1)\n",
      "plot(X, C, 'c')\n",
      "\n",
      "subplot(222) # if n<10 then commas are not needed\n",
      "plot(X, S, 'm')\n",
      "\n",
      "subplot(223)\n",
      "plot(X, C, 'y')\n",
      "\n",
      "subplot(224)\n",
      "plot(X, S, 'k')\n",
      "\n",
      "show()"
     ],
     "language": "python",
     "metadata": {},
     "outputs": []
    },
    {
     "cell_type": "markdown",
     "metadata": {},
     "source": [
      "The `subplots( )` function gives some more flexibility.  Subplots returns a tuple of two objects, a figure object and an array of axes."
     ]
    },
    {
     "cell_type": "code",
     "collapsed": false,
     "input": [
      "fig, axes = subplots(nrows=2, ncols=2)\n",
      "show()"
     ],
     "language": "python",
     "metadata": {},
     "outputs": []
    },
    {
     "cell_type": "markdown",
     "metadata": {},
     "source": [
      "Each graph in the `axes` array is referred to by its index [rows,cols] and methods are then used to plot, set labels and titles, adjust scale etc."
     ]
    },
    {
     "cell_type": "code",
     "collapsed": false,
     "input": [
      "fig, axes = subplots(nrows=2, ncols=2,sharex=True, sharey=True) \n",
      "# sharex,sharey are keyword arguments for sharing axis numeric labels, also accepts 'col' or 'row'\n",
      "\n",
      "x = array(range(20))\n",
      "y1 = 3 + 0.5 * x + random.randn(20)\n",
      "y2 = 3 + 0.5 * x + random.randn(20)\n",
      "y3 = 3 + 0.5 * x + random.randn(20)\n",
      "y4 =3 + 0.5 * x + random.randn(20)\n",
      "\n",
      "axes[0,0].plot(x, y1, 'r')\n",
      "axes[0,0].set_title('First')\n",
      "\n",
      "axes[0,1].plot(x, y2, 'g')\n",
      "axes[0,1].set_title('Second')\n",
      "\n",
      "axes[1,0].plot(x, y3, 'b')\n",
      "axes[1,0].set_title('Third')\n",
      "\n",
      "axes[1,1].plot(x, y4, 'k')\n",
      "axes[1,1].set_title('Fourth')\n",
      "    \n",
      "fig.tight_layout()  #adjust spacing for no overlap"
     ],
     "language": "python",
     "metadata": {},
     "outputs": []
    },
    {
     "cell_type": "markdown",
     "metadata": {},
     "source": [
      "Axes objects can also be formatted by iteration."
     ]
    },
    {
     "cell_type": "code",
     "collapsed": false,
     "input": [
      "x = array(range(20))\n",
      "y1 = 3 + 0.5 * x + random.randn(20)\n",
      "y2 = 3 + 0.5 * x + random.randn(20)\n",
      "y3 = 3 + 0.5 * x + random.randn(20)\n",
      "y4 =3 + 0.5 * x + random.randn(20)\n",
      "\n",
      "fig, axes = subplots(nrows=2,ncols = 2,sharex=True, sharey=True) \n",
      "\n",
      "names = ['First','Second','Third','Fourth']\n",
      "colors = ['r','g','b','k']\n",
      "plots = zip(axes.flat, [y1,y2,y3,y4], names, colors) #.flat returns a 1-d array; zip combines lists into list of tuples\n",
      "    \n",
      "for ax, y, name, col in plots:\n",
      "    ax.plot(x,y, color = col)\n",
      "    ax.set(title = name)\n",
      "    \n",
      "fig.tight_layout()"
     ],
     "language": "python",
     "metadata": {},
     "outputs": []
    },
    {
     "cell_type": "heading",
     "level": 2,
     "metadata": {},
     "source": [
      "Other graph types"
     ]
    },
    {
     "cell_type": "heading",
     "level": 3,
     "metadata": {},
     "source": [
      "Scatter "
     ]
    },
    {
     "cell_type": "markdown",
     "metadata": {},
     "source": [
      "More info: [scatter](http://matplotlib.org/api/pyplot_api.html#matplotlib.pyplot.scatter)"
     ]
    },
    {
     "cell_type": "code",
     "collapsed": false,
     "input": [
      "n = 1024\n",
      "X = random.normal(0,1,n)\n",
      "Y = random.normal(0,1,n)\n",
      "\n",
      "scatter(X,Y)\n",
      "show()"
     ],
     "language": "python",
     "metadata": {},
     "outputs": []
    },
    {
     "cell_type": "heading",
     "level": 3,
     "metadata": {},
     "source": [
      "Histogram"
     ]
    },
    {
     "cell_type": "markdown",
     "metadata": {},
     "source": [
      "The [hist( )](http://matplotlib.org/api/pyplot_api.html#matplotlib.pyplot.hist) function calculates the histogram distribution."
     ]
    },
    {
     "cell_type": "code",
     "collapsed": false,
     "input": [
      "mu = 100\n",
      "sigma = 15\n",
      "x = mu + sigma * np.random.randn(300)\n",
      "\n",
      "hist(x, 10, normed=1, alpha=0.5, facecolor='#377EB8')\n",
      "show()"
     ],
     "language": "python",
     "metadata": {},
     "outputs": []
    },
    {
     "cell_type": "heading",
     "level": 3,
     "metadata": {},
     "source": [
      "Bar"
     ]
    },
    {
     "cell_type": "markdown",
     "metadata": {},
     "source": [
      "More info: [bar](http://matplotlib.org/api/pyplot_api.html#matplotlib.pyplot.bar), [horizontal bar](http://matplotlib.org/api/pyplot_api.html#matplotlib.pyplot.barh)"
     ]
    },
    {
     "cell_type": "code",
     "collapsed": false,
     "input": [
      "n_groups = 5\n",
      "\n",
      "means_men = (20, 35, 30, 35, 27)\n",
      "std_men = (2, 3, 4, 1, 2)\n",
      "\n",
      "means_women = (25, 32, 34, 20, 25)\n",
      "std_women = (3, 5, 2, 3, 3)\n",
      "\n",
      "fig, ax = subplots()\n",
      "\n",
      "index = arange(n_groups) # the x locations for the groups\n",
      "bar_width = 0.35  # the width of the bars\n",
      "\n",
      "opacity = 0.4\n",
      "error_config = {'ecolor': '0.3', 'capsize': 5}  #kwargs dict for errorbar parameters\n",
      "\n",
      "rects1 = plt.bar(index, means_men, bar_width,\n",
      "                 alpha=opacity,\n",
      "                 color='b',\n",
      "                 yerr=std_men,\n",
      "                 error_kw=error_config,\n",
      "                 label='Men')\n",
      "\n",
      "rects2 = plt.bar(index + bar_width, means_women, bar_width,\n",
      "                 alpha=opacity,\n",
      "                 color='r',\n",
      "                 yerr=std_women,\n",
      "                 error_kw=error_config,\n",
      "                 label='Women')\n",
      "\n",
      "# add some text for labels, title and axes ticks\n",
      "xlabel('Group')\n",
      "ylabel('Scores')\n",
      "title('Scores by group and gender')\n",
      "xticks(index + bar_width, ('A', 'B', 'C', 'D', 'E'))\n",
      "legend()\n",
      "\n",
      "tight_layout()\n",
      "show()"
     ],
     "language": "python",
     "metadata": {},
     "outputs": []
    },
    {
     "cell_type": "heading",
     "level": 3,
     "metadata": {},
     "source": [
      "Boxplot"
     ]
    },
    {
     "cell_type": "markdown",
     "metadata": {},
     "source": [
      "More info: [boxplot](http://matplotlib.org/api/pyplot_api.html#matplotlib.pyplot.boxplot)"
     ]
    },
    {
     "cell_type": "code",
     "collapsed": false,
     "input": [
      "spread= rand(50) * 100\n",
      "center = ones(25) * 50\n",
      "flier_high = rand(10) * 100 + 100\n",
      "flier_low = rand(10) * -100\n",
      "data =concatenate((spread, center, flier_high, flier_low), 0)\n",
      "\n",
      "# basic plot\n",
      "boxplot(data)\n",
      "\n",
      "# notched plot\n",
      "figure()\n",
      "boxplot(data,1)\n",
      "show()"
     ],
     "language": "python",
     "metadata": {},
     "outputs": []
    },
    {
     "cell_type": "heading",
     "level": 2,
     "metadata": {},
     "source": [
      "Pie"
     ]
    },
    {
     "cell_type": "markdown",
     "metadata": {},
     "source": [
      "More info: [pie](http://matplotlib.org/api/pyplot_api.html#matplotlib.pyplot.pie)"
     ]
    },
    {
     "cell_type": "code",
     "collapsed": false,
     "input": [
      "# The slices will be ordered and plotted counter-clockwise.\n",
      "labels = 'Frogs', 'Hogs', 'Dogs', 'Logs'\n",
      "sizes = [15, 30, 45, 10]\n",
      "colors = ['yellowgreen', 'gold', 'lightskyblue', 'lightcoral']\n",
      "explode = (0, 0.1, 0, 0) # only \"explode\" the 2nd slice (i.e. 'Hogs')\n",
      "\n",
      "pie(sizes, explode=explode, labels=labels, colors=colors,\n",
      "        autopct='%1.1f%%', shadow=True, startangle=90)\n",
      "# Set aspect ratio to be equal so that pie is drawn as a circle.\n",
      "axis('equal')\n",
      "\n",
      "show()"
     ],
     "language": "python",
     "metadata": {},
     "outputs": []
    },
    {
     "cell_type": "heading",
     "level": 3,
     "metadata": {},
     "source": [
      "Polar"
     ]
    },
    {
     "cell_type": "markdown",
     "metadata": {},
     "source": [
      "More info: [polar](http://matplotlib.org/api/pyplot_api.html#matplotlib.pyplot.polar)"
     ]
    },
    {
     "cell_type": "code",
     "collapsed": false,
     "input": [
      "N = 20\n",
      "theta = linspace(0.0, 2 * pi, N, endpoint=False)\n",
      "radii = 10 * random.rand(N)\n",
      "width = pi / 4 * random.rand(N)\n",
      "\n",
      "ax = subplot(111, polar=True)\n",
      "bars = ax.bar(theta, radii, width=width, bottom=0.0)\n",
      "\n",
      "# Use custom colors and opacity\n",
      "for r, bar in zip(radii, bars):\n",
      "    bar.set_facecolor(cm.jet(r / 10.))\n",
      "    bar.set_alpha(0.5)\n",
      "\n",
      "plt.show()"
     ],
     "language": "python",
     "metadata": {},
     "outputs": []
    },
    {
     "cell_type": "heading",
     "level": 3,
     "metadata": {},
     "source": [
      "Contour"
     ]
    },
    {
     "cell_type": "markdown",
     "metadata": {},
     "source": [
      "More info: [contour](http://matplotlib.org/api/pyplot_api.html#matplotlib.pyplot.contour), [filled contour](http://matplotlib.org/api/pyplot_api.html#matplotlib.pyplot.contourf)"
     ]
    },
    {
     "cell_type": "code",
     "collapsed": false,
     "input": [
      "def f(x,y): return (1-x/2+x**5+y**3)*np.exp(-x**2-y**2)\n",
      "\n",
      "n = 256\n",
      "x = linspace(-3,3,n)\n",
      "y = linspace(-3,3,n)\n",
      "X,Y = meshgrid(x,y)\n",
      "\n",
      "contourf(X, Y, f(X,Y), 8, alpha=.75, cmap='jet')\n",
      "C = contour(X, Y, f(X,Y), 8, colors='black', linewidth=.5)\n",
      "show()"
     ],
     "language": "python",
     "metadata": {},
     "outputs": []
    },
    {
     "cell_type": "heading",
     "level": 3,
     "metadata": {},
     "source": [
      "3D Plot"
     ]
    },
    {
     "cell_type": "markdown",
     "metadata": {},
     "source": [
      "More info: [mplot3d](http://matplotlib.org/mpl_toolkits/mplot3d/index.html)"
     ]
    },
    {
     "cell_type": "code",
     "collapsed": false,
     "input": [
      "from mpl_toolkits.mplot3d import Axes3D\n",
      "\n",
      "fig = figure()\n",
      "ax = Axes3D(fig)\n",
      "X = arange(-4, 4, 0.25)\n",
      "Y = arange(-4, 4, 0.25)\n",
      "X, Y = meshgrid(X, Y)\n",
      "R = sqrt(X**2 + Y**2)\n",
      "Z = sin(R)\n",
      "\n",
      "ax.plot_surface(X, Y, Z, rstride=1, cstride=1, cmap='hot')\n",
      "\n",
      "show()"
     ],
     "language": "python",
     "metadata": {},
     "outputs": []
    }
   ],
   "metadata": {}
  }
 ]
}