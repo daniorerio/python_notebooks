{
 "metadata": {
  "kernelspec": {
   "display_name": "Python 2",
   "language": "python",
   "name": "python2"
  },
  "language_info": {
   "codemirror_mode": {
    "name": "ipython",
    "version": 2
   },
   "file_extension": ".py",
   "mimetype": "text/x-python",
   "name": "python",
   "nbconvert_exporter": "python",
   "pygments_lexer": "ipython2",
   "version": "2.7.10"
  },
  "name": "",
  "signature": "sha256:79c9ed7effba357003043ea5eab58f3b8caf5f9dbe9991983c453068ad41ca1e"
 },
 "nbformat": 3,
 "nbformat_minor": 0,
 "worksheets": [
  {
   "cells": [
    {
     "cell_type": "heading",
     "level": 1,
     "metadata": {},
     "source": [
      "Code to get updated Python notebooks"
     ]
    },
    {
     "cell_type": "heading",
     "level": 3,
     "metadata": {},
     "source": [
      "Git setup"
     ]
    },
    {
     "cell_type": "markdown",
     "metadata": {},
     "source": [
      "If you do not have git installed on your computer, download it at [git-scm.com](http://www.git-scm.com/downloads)"
     ]
    },
    {
     "cell_type": "markdown",
     "metadata": {},
     "source": [
      "To ensure that git iss accessible from any directory, append your `.bash_profile` file in your home directory."
     ]
    },
    {
     "cell_type": "code",
     "collapsed": true,
     "input": [
      "%cd ~"
     ],
     "language": "python",
     "metadata": {},
     "outputs": []
    },
    {
     "cell_type": "code",
     "collapsed": false,
     "input": [
      "%%writefile -a .bash_profile\n",
      "export PATH=$PATH:/usr/local/git/bin/"
     ],
     "language": "python",
     "metadata": {},
     "outputs": []
    },
    {
     "cell_type": "markdown",
     "metadata": {},
     "source": [
      "Git accesses a `.gitignore` file to overlook files to be processed.  Add this to your home directory to avoid issues with OS file changes."
     ]
    },
    {
     "cell_type": "code",
     "collapsed": false,
     "input": [
      "%%writefile -a .gitignore_global\n",
      ".DS_Store"
     ],
     "language": "python",
     "metadata": {},
     "outputs": []
    },
    {
     "cell_type": "markdown",
     "metadata": {},
     "source": [
      "The `config` command changes git parameters.  Change the code below to include your name and email, and remove the # sign before running.  You only need to run this cell once."
     ]
    },
    {
     "cell_type": "code",
     "collapsed": false,
     "input": [
      "%%bash\n",
      "#git config --global user.name 'user name'\n",
      "#git config --global user.email 'user email'\n",
      "git config --global push.default simple\n",
      "git config --global core.excludesfile ~/.gitignore_global"
     ],
     "language": "python",
     "metadata": {},
     "outputs": []
    },
    {
     "cell_type": "code",
     "collapsed": false,
     "input": [
      "!git --version"
     ],
     "language": "python",
     "metadata": {},
     "outputs": []
    },
    {
     "cell_type": "markdown",
     "metadata": {},
     "source": [
      "To upgrade git, use homebrew.  If you do not have homebrew installed, follow instructions at the [homebrew](http://brew.sh) site."
     ]
    },
    {
     "cell_type": "code",
     "collapsed": false,
     "input": [
      "%%bash\n",
      "brew upgrade git"
     ],
     "language": "python",
     "metadata": {},
     "outputs": []
    },
    {
     "cell_type": "heading",
     "level": 3,
     "metadata": {},
     "source": [
      "Run the first time."
     ]
    },
    {
     "cell_type": "markdown",
     "metadata": {},
     "source": [
      "The script below will make a folder called python_class in your Home folder on your Mac.  You only need to run it once."
     ]
    },
    {
     "cell_type": "code",
     "collapsed": false,
     "input": [
      "%%bash\n",
      "cd ~\n",
      "mkdir python_class\n",
      "cd python_class\n",
      "git clone https://github.com/daniorerio/python_notebooks"
     ],
     "language": "python",
     "metadata": {},
     "outputs": []
    },
    {
     "cell_type": "heading",
     "level": 3,
     "metadata": {},
     "source": [
      "Run for updates."
     ]
    },
    {
     "cell_type": "heading",
     "level": 4,
     "metadata": {},
     "source": [
      "Move this notebook outside the python_class folder first!"
     ]
    },
    {
     "cell_type": "markdown",
     "metadata": {},
     "source": [
      "For updates in the future, you only need to run the cell below.\n",
      "\n",
      "**Please note:** if you make changes to these files locally, the update will not work.\n",
      "For simplicity's sake, move revised notebooks outside the python_notebook folder."
     ]
    },
    {
     "cell_type": "code",
     "collapsed": false,
     "input": [
      "%%bash\n",
      "cd ~/python_class/python_notebooks\n",
      "git pull"
     ],
     "language": "python",
     "metadata": {},
     "outputs": []
    },
    {
     "cell_type": "heading",
     "level": 3,
     "metadata": {},
     "source": [
      "Run to load projects."
     ]
    },
    {
     "cell_type": "heading",
     "level": 4,
     "metadata": {},
     "source": [
      "Move this notebook outside the python_class folder first!"
     ]
    },
    {
     "cell_type": "markdown",
     "metadata": {},
     "source": [
      "Run the following to upload your project. Alter the text to describe the changes made."
     ]
    },
    {
     "cell_type": "code",
     "collapsed": false,
     "input": [
      "%%bash\n",
      "cd ~/python_class/python_notebooks\n",
      "git add . -A \n",
      "git commit -m \"Add descriptive text here\"\n",
      "git push -u origin master"
     ],
     "language": "python",
     "metadata": {},
     "outputs": []
    }
   ],
   "metadata": {}
  }
 ]
}