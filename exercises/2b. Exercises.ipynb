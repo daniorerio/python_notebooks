{
 "metadata": {
  "name": "",
  "signature": "sha256:42397568a28c3dde2374004b337f2d4839b44d0d1cd507dd8b35ddba3f9fb33b"
 },
 "nbformat": 3,
 "nbformat_minor": 0,
 "worksheets": [
  {
   "cells": [
    {
     "cell_type": "heading",
     "level": 3,
     "metadata": {},
     "source": [
      "Problem 5"
     ]
    },
    {
     "cell_type": "markdown",
     "metadata": {},
     "source": [
      "Write a program to translate the atoh1a sequence in all 3 reading frames.  Then find the longest orf and polypeptide sequence."
     ]
    },
    {
     "cell_type": "code",
     "collapsed": false,
     "input": [
      "atoh1a = 'GAGACATCAGTAAAGAAATCCCCTTCACCACAGGTGTAAGAAGAGAAATCTTCCCAGGCAAAATATCCGTCCCTGTATCCATAGCCACAAACTTTCCTCCCAAAAGCACAAACCAACAGAATGGATGGAATGAGCACGGATACAAGAGAGGTGGTTGAACTCGACGTCCAGCATTCGAGCTTGGGGCGGGGGGAGCAGAGCGAGTACCCACCAGCCTTGGCACTCATGGCCAGCAGTGACCCACGCGCCTGGCTGGCTCCCGTGCAGGCTGGCACCTGCGCGGCACACGCCGAATACCTGCTGCACTCGCCCGGCTCGAGCGCGGAAGGCGTGTCCTCTGCCTCCAACTTCAGGAAGAGCAGCAAGAGTCCTGTCAAAGTACGCGAGCTCTGCCGGCTTAAAGGAGCTGTGGGGGCAGATGAGGGCAGACAGCGGGCCCCATCCAGCAAATCCACCAACGTCGTGCAGAAACAGAGGCGAATGGCTGCCAATGCCCGGGAGAGGCGAAGAATGCACGGATTGAACCACGCGTTCGACGAGCTGCGCAGTGTCATCCCAGCCTTTGACAACGACAAGAAACTCTCCAAGTACGAAACCCTGCAGATGGCCCAGATCTACATCAACGCCCTGTCCGACTTACTACAGGGCCCCGGTGCTAAAGCCGACCCGCCAAACTGCGACCTGCTGCATGCCAACGTGTTAGAAACGGACCGATCTCCCAGAGGATCACCGGGCGTCTGTCGGAGAGGCACGGGCGTGGGTTACCCGTACCAGTACGAGGACGGAACATTCAACTCTTTCATGGAGCAAGACCTCCAGTCGCCCTCTGGAACGAGCAAGTCTGGTTCGGAGGCCAGTAAAGACTCGCCTCGGTCGAACCGGAGTGATGGAGAGTTCTCGCCTCACTCGCACTTCAGTGACTCAGACGAAACGCACTTGGAGCTGCAGAGTGAAGACGAGCTGTCGGAACTGAAACTGGCCAAGCGCCGCGCTTTTTAAGAAAACACACCGCCGGACTGTCCCTCAATCGTGTCAATCGCATATCTGGGCTTTGTAATGGGTTGCTTTATTTATCCATTTGTTTTATGATCTTTTGACAATGCTGTTGTTGTGTCTGACGCCAATAGATTTTAGTTGCCTTCTCGTGACATTGACCAGACCCCTACGCCATGAGAACTGCCGCGAGCAGCAGTGCCATGGGCTCGAATGTCATGCATAAAACTGTCTTCCGCAAACTGTTTTGAGACTATTCATTCACACATGATTGTCATGGACCTATTTCACAGATACGATTGATTTTGAACCCTGTAACAATTTGCGACTTCTAAAGTTTACTTGCACTTTAAAAAACGGGCCGTAGGCTTGAGAAATATTCTTTTTTTCATGGAACAAGAAATGATGTGTTTATGTAGAAGTAATGCCAATTTGATGAATATATTTAATATAGCCATTAGATTTTGTACATCCGTTCATTTTTAATATTTGATTTCAATGCAAAGAAGTTGTGTTCTGCTTCTGTAGCTGAAGTAAGCTATTTATTCGTTTGCCTTGTCAATTTTTGTGTTACATTGGAAATGAGCTGTTTTGTTACTCTTATGATTTGTTTTATTGTAGGAATAAAAGAAAAAACAAACATGA'\n",
      "\n",
      "codon_table = {\n",
      "    'TTT': 'F', 'TTC': 'F', 'TTA': 'L', 'TTG': 'L',\n",
      "    'TCT': 'S', 'TCC': 'S', 'TCA': 'S', 'TCG': 'S',\n",
      "    'TAT': 'Y', 'TAC': 'Y', 'TAA': '*', 'TAG': '*',\n",
      "    'TGT': 'C', 'TGC': 'C', 'TGA': '*', 'TGG': 'W',\n",
      "\n",
      "    'CTT': 'L', 'CTC': 'L', 'CTA': 'L', 'CTG': 'L',\n",
      "    'CCT': 'P', 'CCC': 'P', 'CCA': 'P', 'CCG': 'P',\n",
      "    'CAT': 'H', 'CAC': 'H', 'CAA': 'Q', 'CAG': 'Q',\n",
      "    'CGT': 'R', 'CGC': 'R', 'CGA': 'R', 'CGG': 'R',\n",
      "\n",
      "    'ATT': 'I', 'ATC': 'I', 'ATA': 'I', 'ATG': 'M',\n",
      "    'ACT': 'T', 'ACC': 'T', 'ACA': 'T', 'ACG': 'T',\n",
      "    'AAT': 'N', 'AAC': 'N', 'AAA': 'K', 'AAG': 'K',\n",
      "    'AGT': 'S', 'AGC': 'S', 'AGA': 'R', 'AGG': 'R',\n",
      "\n",
      "    'GTT': 'V', 'GTC': 'V', 'GTA': 'V', 'GTG': 'V',\n",
      "    'GCT': 'A', 'GCC': 'A', 'GCA': 'A', 'GCG': 'A',\n",
      "    'GAT': 'D', 'GAC': 'D', 'GAA': 'E', 'GAG': 'E',\n",
      "    'GGT': 'G', 'GGC': 'G', 'GGA': 'G', 'GGG': 'G',\n",
      "}\n"
     ],
     "language": "python",
     "metadata": {},
     "outputs": [],
     "prompt_number": 1
    },
    {
     "cell_type": "markdown",
     "metadata": {},
     "source": [
      "First write some code to translate the first amino acid in the first reading frame and print it out."
     ]
    },
    {
     "cell_type": "code",
     "collapsed": false,
     "input": [],
     "language": "python",
     "metadata": {},
     "outputs": [],
     "prompt_number": 1
    },
    {
     "cell_type": "markdown",
     "metadata": {},
     "source": [
      "Next, write some code to iterate over the whole length of the sequence, printing out the codon and amino acid for each codon in the first reading frame. What kind of loop will you use? You may want to look up the range( ) function for how to step by 3."
     ]
    },
    {
     "cell_type": "code",
     "collapsed": false,
     "input": [],
     "language": "python",
     "metadata": {},
     "outputs": [],
     "prompt_number": 1
    },
    {
     "cell_type": "markdown",
     "metadata": {},
     "source": [
      "Modify your code to print out the amino acids of the second and third reading frames. Did you get an error?   Why?"
     ]
    },
    {
     "cell_type": "code",
     "collapsed": false,
     "input": [],
     "language": "python",
     "metadata": {},
     "outputs": [],
     "prompt_number": 1
    },
    {
     "cell_type": "markdown",
     "metadata": {},
     "source": [
      "Modify your code to capture the full amino acid sequence of the three reading frame. Can you do it as a loop?"
     ]
    },
    {
     "cell_type": "code",
     "collapsed": false,
     "input": [],
     "language": "python",
     "metadata": {},
     "outputs": [],
     "prompt_number": 1
    },
    {
     "cell_type": "markdown",
     "metadata": {},
     "source": [
      "We want to find the longest open reading frame in the first translation frame. First write code to make a list of the positions of all the stop codons.  Use list.append( ).  What kind of loop will you use?"
     ]
    },
    {
     "cell_type": "code",
     "collapsed": false,
     "input": [],
     "language": "python",
     "metadata": {},
     "outputs": [],
     "prompt_number": 1
    },
    {
     "cell_type": "markdown",
     "metadata": {},
     "source": [
      "Next write some code to find the longest orf.  Use the list of stop codons you generated. "
     ]
    },
    {
     "cell_type": "code",
     "collapsed": false,
     "input": [],
     "language": "python",
     "metadata": {},
     "outputs": [],
     "prompt_number": 1
    },
    {
     "cell_type": "markdown",
     "metadata": {},
     "source": [
      "What whould happen if there were no stop codons?  Or if the orf at the end of the translation frame were the longest?  Modify your code to account for these conditions."
     ]
    },
    {
     "cell_type": "code",
     "collapsed": false,
     "input": [],
     "language": "python",
     "metadata": {},
     "outputs": [],
     "prompt_number": 1
    },
    {
     "cell_type": "markdown",
     "metadata": {},
     "source": [
      "Add some code to capture the start and stop positions of the longest orf.  Print out the amino acid sequence of the orf."
     ]
    },
    {
     "cell_type": "code",
     "collapsed": false,
     "input": [],
     "language": "python",
     "metadata": {},
     "outputs": [],
     "prompt_number": 1
    },
    {
     "cell_type": "markdown",
     "metadata": {},
     "source": [
      "Modify your code to find the longest orf in all 3 frames. Print out the longest orf and the longest polypeptide."
     ]
    },
    {
     "cell_type": "code",
     "collapsed": false,
     "input": [],
     "language": "python",
     "metadata": {},
     "outputs": [],
     "prompt_number": 1
    }
   ],
   "metadata": {}
  }
 ]
}