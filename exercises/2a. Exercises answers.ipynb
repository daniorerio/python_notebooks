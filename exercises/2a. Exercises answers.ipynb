{
 "metadata": {
  "name": "",
  "signature": "sha256:8639f74b5a4e15f4c18cd5b1ec9ac56143fac71811f45ace4b1f84f71f660081"
 },
 "nbformat": 3,
 "nbformat_minor": 0,
 "worksheets": [
  {
   "cells": [
    {
     "cell_type": "heading",
     "level": 1,
     "metadata": {},
     "source": [
      "Exercises Week 2"
     ]
    },
    {
     "cell_type": "heading",
     "level": 3,
     "metadata": {},
     "source": [
      "Problem 1"
     ]
    },
    {
     "cell_type": "markdown",
     "metadata": {},
     "source": [
      "Numbers and strings can be evalued to True or False.\n",
      "Write a program to evaluate the following list of variables.\n",
      "Print out whether each variable is true or false, using string formatting."
     ]
    },
    {
     "cell_type": "code",
     "collapsed": false,
     "input": [
      "values = [1.0,1,0,'fish','','True','False',True,False]\n",
      "\n",
      "for value in values:\n",
      "    if value == True:\n",
      "        print '{0} is True'.format(value)\n",
      "    else:\n",
      "        print '{0} is False'.format(value)"
     ],
     "language": "python",
     "metadata": {},
     "outputs": []
    },
    {
     "cell_type": "heading",
     "level": 3,
     "metadata": {},
     "source": [
      "Problem 2"
     ]
    },
    {
     "cell_type": "markdown",
     "metadata": {},
     "source": [
      "Last week you found restriction sites in a sequence.  Use a loop to find all the sites. Since the number of iterations is unknown, what kind of loop would you use?"
     ]
    },
    {
     "cell_type": "code",
     "collapsed": false,
     "input": [
      "atoh1a = 'GAGACATCAGTAAAGAAATCCCCTTCACCACAGGTGTAAGAAGAGAAATCTTCCCAGGCAAAATATCCGTCCCTGTATCCATAGCCACAAACTTTCCTCCCAAAAGCACAAACCAACAGAATGGATGGAATGAGCACGGATACAAGAGAGGTGGTTGAACTCGACGTCCAGCATTCGAGCTTGGGGCGGGGGGAGCAGAGCGAGTACCCACCAGCCTTGGCACTCATGGCCAGCAGTGACCCACGCGCCTGGCTGGCTCCCGTGCAGGCTGGCACCTGCGCGGCACACGCCGAATACCTGCTGCACTCGCCCGGCTCGAGCGCGGAAGGCGTGTCCTCTGCCTCCAACTTCAGGAAGAGCAGCAAGAGTCCTGTCAAAGTACGCGAGCTCTGCCGGCTTAAAGGAGCTGTGGGGGCAGATGAGGGCAGACAGCGGGCCCCATCCAGCAAATCCACCAACGTCGTGCAGAAACAGAGGCGAATGGCTGCCAATGCCCGGGAGAGGCGAAGAATGCACGGATTGAACCACGCGTTCGACGAGCTGCGCAGTGTCATCCCAGCCTTTGACAACGACAAGAAACTCTCCAAGTACGAAACCCTGCAGATGGCCCAGATCTACATCAACGCCCTGTCCGACTTACTACAGGGCCCCGGTGCTAAAGCCGACCCGCCAAACTGCGACCTGCTGCATGCCAACGTGTTAGAAACGGACCGATCTCCCAGAGGATCACCGGGCGTCTGTCGGAGAGGCACGGGCGTGGGTTACCCGTACCAGTACGAGGACGGAACATTCAACTCTTTCATGGAGCAAGACCTCCAGTCGCCCTCTGGAACGAGCAAGTCTGGTTCGGAGGCCAGTAAAGACTCGCCTCGGTCGAACCGGAGTGATGGAGAGTTCTCGCCTCACTCGCACTTCAGTGACTCAGACGAAACGCACTTGGAGCTGCAGAGTGAAGACGAGCTGTCGGAACTGAAACTGGCCAAGCGCCGCGCTTTTTAAGAAAACACACCGCCGGACTGTCCCTCAATCGTGTCAATCGCATATCTGGGCTTTGTAATGGGTTGCTTTATTTATCCATTTGTTTTATGATCTTTTGACAATGCTGTTGTTGTGTCTGACGCCAATAGATTTTAGTTGCCTTCTCGTGACATTGACCAGACCCCTACGCCATGAGAACTGCCGCGAGCAGCAGTGCCATGGGCTCGAATGTCATGCATAAAACTGTCTTCCGCAAACTGTTTTGAGACTATTCATTCACACATGATTGTCATGGACCTATTTCACAGATACGATTGATTTTGAACCCTGTAACAATTTGCGACTTCTAAAGTTTACTTGCACTTTAAAAAACGGGCCGTAGGCTTGAGAAATATTCTTTTTTTCATGGAACAAGAAATGATGTGTTTATGTAGAAGTAATGCCAATTTGATGAATATATTTAATATAGCCATTAGATTTTGTACATCCGTTCATTTTTAATATTTGATTTCAATGCAAAGAAGTTGTGTTCTGCTTCTGTAGCTGAAGTAAGCTATTTATTCGTTTGCCTTGTCAATTTTTGTGTTACATTGGAAATGAGCTGTTTTGTTACTCTTATGATTTGTTTTATTGTAGGAATAAAAGAAAAAACAAACATGA'\n",
      "pst1 = 'CTGCAG'\n",
      "\n",
      "loc = 0\n",
      "\n",
      "while True:\n",
      "    loc = atoh1a.find(pst1,loc)\n",
      "    \n",
      "    if loc == -1:\n",
      "        break\n",
      "    \n",
      "    print loc\n",
      "    loc += 1"
     ],
     "language": "python",
     "metadata": {},
     "outputs": []
    },
    {
     "cell_type": "markdown",
     "metadata": {},
     "source": [
      "Modify your code to print out each successive site location as Site 1, Site 2, etc."
     ]
    },
    {
     "cell_type": "code",
     "collapsed": false,
     "input": [
      "atoh1a = 'GAGACATCAGTAAAGAAATCCCCTTCACCACAGGTGTAAGAAGAGAAATCTTCCCAGGCAAAATATCCGTCCCTGTATCCATAGCCACAAACTTTCCTCCCAAAAGCACAAACCAACAGAATGGATGGAATGAGCACGGATACAAGAGAGGTGGTTGAACTCGACGTCCAGCATTCGAGCTTGGGGCGGGGGGAGCAGAGCGAGTACCCACCAGCCTTGGCACTCATGGCCAGCAGTGACCCACGCGCCTGGCTGGCTCCCGTGCAGGCTGGCACCTGCGCGGCACACGCCGAATACCTGCTGCACTCGCCCGGCTCGAGCGCGGAAGGCGTGTCCTCTGCCTCCAACTTCAGGAAGAGCAGCAAGAGTCCTGTCAAAGTACGCGAGCTCTGCCGGCTTAAAGGAGCTGTGGGGGCAGATGAGGGCAGACAGCGGGCCCCATCCAGCAAATCCACCAACGTCGTGCAGAAACAGAGGCGAATGGCTGCCAATGCCCGGGAGAGGCGAAGAATGCACGGATTGAACCACGCGTTCGACGAGCTGCGCAGTGTCATCCCAGCCTTTGACAACGACAAGAAACTCTCCAAGTACGAAACCCTGCAGATGGCCCAGATCTACATCAACGCCCTGTCCGACTTACTACAGGGCCCCGGTGCTAAAGCCGACCCGCCAAACTGCGACCTGCTGCATGCCAACGTGTTAGAAACGGACCGATCTCCCAGAGGATCACCGGGCGTCTGTCGGAGAGGCACGGGCGTGGGTTACCCGTACCAGTACGAGGACGGAACATTCAACTCTTTCATGGAGCAAGACCTCCAGTCGCCCTCTGGAACGAGCAAGTCTGGTTCGGAGGCCAGTAAAGACTCGCCTCGGTCGAACCGGAGTGATGGAGAGTTCTCGCCTCACTCGCACTTCAGTGACTCAGACGAAACGCACTTGGAGCTGCAGAGTGAAGACGAGCTGTCGGAACTGAAACTGGCCAAGCGCCGCGCTTTTTAAGAAAACACACCGCCGGACTGTCCCTCAATCGTGTCAATCGCATATCTGGGCTTTGTAATGGGTTGCTTTATTTATCCATTTGTTTTATGATCTTTTGACAATGCTGTTGTTGTGTCTGACGCCAATAGATTTTAGTTGCCTTCTCGTGACATTGACCAGACCCCTACGCCATGAGAACTGCCGCGAGCAGCAGTGCCATGGGCTCGAATGTCATGCATAAAACTGTCTTCCGCAAACTGTTTTGAGACTATTCATTCACACATGATTGTCATGGACCTATTTCACAGATACGATTGATTTTGAACCCTGTAACAATTTGCGACTTCTAAAGTTTACTTGCACTTTAAAAAACGGGCCGTAGGCTTGAGAAATATTCTTTTTTTCATGGAACAAGAAATGATGTGTTTATGTAGAAGTAATGCCAATTTGATGAATATATTTAATATAGCCATTAGATTTTGTACATCCGTTCATTTTTAATATTTGATTTCAATGCAAAGAAGTTGTGTTCTGCTTCTGTAGCTGAAGTAAGCTATTTATTCGTTTGCCTTGTCAATTTTTGTGTTACATTGGAAATGAGCTGTTTTGTTACTCTTATGATTTGTTTTATTGTAGGAATAAAAGAAAAAACAAACATGA'\n",
      "pst1 = 'CTGCAG'\n",
      "loc = 0\n",
      "site = 0\n",
      "\n",
      "while True:\n",
      "    loc = atoh1a.find(pst1,loc)\n",
      "    \n",
      "    if loc == -1:\n",
      "        break\n",
      "    \n",
      "    site += 1    \n",
      "    print 'Site {0}: {1}'.format(site,loc)\n",
      "    loc += 1"
     ],
     "language": "python",
     "metadata": {},
     "outputs": []
    },
    {
     "cell_type": "markdown",
     "metadata": {},
     "source": [
      "Modify your code to notify if there are no restriction sites."
     ]
    },
    {
     "cell_type": "code",
     "collapsed": false,
     "input": [
      "atoh1a = 'GAGACATCAGTAAAGAAATCCCCTTCACCACAGGTGTAAGAAGAGAAATCTTCCCAGGCAAAATATCCGTCCCTGTATCCATAGCCACAAACTTTCCTCCCAAAAGCACAAACCAACAGAATGGATGGAATGAGCACGGATACAAGAGAGGTGGTTGAACTCGACGTCCAGCATTCGAGCTTGGGGCGGGGGGAGCAGAGCGAGTACCCACCAGCCTTGGCACTCATGGCCAGCAGTGACCCACGCGCCTGGCTGGCTCCCGTGCAGGCTGGCACCTGCGCGGCACACGCCGAATACCTGCTGCACTCGCCCGGCTCGAGCGCGGAAGGCGTGTCCTCTGCCTCCAACTTCAGGAAGAGCAGCAAGAGTCCTGTCAAAGTACGCGAGCTCTGCCGGCTTAAAGGAGCTGTGGGGGCAGATGAGGGCAGACAGCGGGCCCCATCCAGCAAATCCACCAACGTCGTGCAGAAACAGAGGCGAATGGCTGCCAATGCCCGGGAGAGGCGAAGAATGCACGGATTGAACCACGCGTTCGACGAGCTGCGCAGTGTCATCCCAGCCTTTGACAACGACAAGAAACTCTCCAAGTACGAAACCCTGCAGATGGCCCAGATCTACATCAACGCCCTGTCCGACTTACTACAGGGCCCCGGTGCTAAAGCCGACCCGCCAAACTGCGACCTGCTGCATGCCAACGTGTTAGAAACGGACCGATCTCCCAGAGGATCACCGGGCGTCTGTCGGAGAGGCACGGGCGTGGGTTACCCGTACCAGTACGAGGACGGAACATTCAACTCTTTCATGGAGCAAGACCTCCAGTCGCCCTCTGGAACGAGCAAGTCTGGTTCGGAGGCCAGTAAAGACTCGCCTCGGTCGAACCGGAGTGATGGAGAGTTCTCGCCTCACTCGCACTTCAGTGACTCAGACGAAACGCACTTGGAGCTGCAGAGTGAAGACGAGCTGTCGGAACTGAAACTGGCCAAGCGCCGCGCTTTTTAAGAAAACACACCGCCGGACTGTCCCTCAATCGTGTCAATCGCATATCTGGGCTTTGTAATGGGTTGCTTTATTTATCCATTTGTTTTATGATCTTTTGACAATGCTGTTGTTGTGTCTGACGCCAATAGATTTTAGTTGCCTTCTCGTGACATTGACCAGACCCCTACGCCATGAGAACTGCCGCGAGCAGCAGTGCCATGGGCTCGAATGTCATGCATAAAACTGTCTTCCGCAAACTGTTTTGAGACTATTCATTCACACATGATTGTCATGGACCTATTTCACAGATACGATTGATTTTGAACCCTGTAACAATTTGCGACTTCTAAAGTTTACTTGCACTTTAAAAAACGGGCCGTAGGCTTGAGAAATATTCTTTTTTTCATGGAACAAGAAATGATGTGTTTATGTAGAAGTAATGCCAATTTGATGAATATATTTAATATAGCCATTAGATTTTGTACATCCGTTCATTTTTAATATTTGATTTCAATGCAAAGAAGTTGTGTTCTGCTTCTGTAGCTGAAGTAAGCTATTTATTCGTTTGCCTTGTCAATTTTTGTGTTACATTGGAAATGAGCTGTTTTGTTACTCTTATGATTTGTTTTATTGTAGGAATAAAAGAAAAAACAAACATGA'\n",
      "pst1 = 'CTGCAG'\n",
      "\n",
      "loc = 0\n",
      "site = 0\n",
      "\n",
      "while True:\n",
      "    loc = atoh1a.find(pst1,loc)\n",
      "    \n",
      "    if loc == -1:\n",
      "        if site == 0:\n",
      "            print \"There are no Pst1 sites\"\n",
      "        break\n",
      "    \n",
      "    site += 1    \n",
      "    print 'Site {0}: {1}'.format(site,loc)\n",
      "    loc += 1"
     ],
     "language": "python",
     "metadata": {},
     "outputs": []
    },
    {
     "cell_type": "heading",
     "level": 3,
     "metadata": {},
     "source": [
      "Problem 3"
     ]
    },
    {
     "cell_type": "markdown",
     "metadata": {},
     "source": [
      "Use the following dictionaries to find the full name of the amino acid encoded by CAA."
     ]
    },
    {
     "cell_type": "code",
     "collapsed": false,
     "input": [
      "codon_table = {\n",
      "    'TTT': 'F', 'TTC': 'F', 'TTA': 'L', 'TTG': 'L',\n",
      "    'TCT': 'S', 'TCC': 'S', 'TCA': 'S', 'TCG': 'S',\n",
      "    'TAT': 'Y', 'TAC': 'Y', 'TAA': '*', 'TAG': '*',\n",
      "    'TGT': 'C', 'TGC': 'C', 'TGA': '*', 'TGG': 'W',\n",
      "\n",
      "    'CTT': 'L', 'CTC': 'L', 'CTA': 'L', 'CTG': 'L',\n",
      "    'CCT': 'P', 'CCC': 'P', 'CCA': 'P', 'CCG': 'P',\n",
      "    'CAT': 'H', 'CAC': 'H', 'CAA': 'Q', 'CAG': 'Q',\n",
      "    'CGT': 'R', 'CGC': 'R', 'CGA': 'R', 'CGG': 'R',\n",
      "\n",
      "    'ATT': 'I', 'ATC': 'I', 'ATA': 'I', 'ATG': 'M',\n",
      "    'ACT': 'T', 'ACC': 'T', 'ACA': 'T', 'ACG': 'T',\n",
      "    'AAT': 'N', 'AAC': 'N', 'AAA': 'K', 'AAG': 'K',\n",
      "    'AGT': 'S', 'AGC': 'S', 'AGA': 'R', 'AGG': 'R',\n",
      "\n",
      "    'GTT': 'V', 'GTC': 'V', 'GTA': 'V', 'GTG': 'V',\n",
      "    'GCT': 'A', 'GCC': 'A', 'GCA': 'A', 'GCG': 'A',\n",
      "    'GAT': 'D', 'GAC': 'D', 'GAA': 'E', 'GAG': 'E',\n",
      "    'GGT': 'G', 'GGC': 'G', 'GGA': 'G', 'GGG': 'G',\n",
      "}\n",
      "\n",
      "amino_acid_table = {\n",
      "    'A': \"alanine\",\n",
      "    'C': \"cystine\",\n",
      "    'D': \"aspartic acid\",\n",
      "    'E': \"glutamic acid\",\n",
      "    'F': \"phenylalanine\",\n",
      "    'G': \"glycine\",\n",
      "    'H': \"histidine\",\n",
      "    'I': \"isoleucine\",\n",
      "    'K': \"lysine\",\n",
      "    'L': \"leucine\",\n",
      "    'M': \"methionine/start\",\n",
      "    'N': \"asparagine\",\n",
      "    'P': \"proline\",\n",
      "    'Q': \"glutamine\",\n",
      "    'R': \"arginine\",\n",
      "    'S': \"serine\",\n",
      "    'T': \"threonine\",\n",
      "    'V': \"valine\",\n",
      "    'W': \"tryptophan\",\n",
      "    'Y': \"tyrosine\",\n",
      "    '*': \"stop\",\n",
      "}\n",
      "\n",
      "aa = codon_table['GAC']\n",
      "print amino_acid_table[aa]\n",
      "\n",
      "print amino_acid_table[codon_table['CAA']]"
     ],
     "language": "python",
     "metadata": {},
     "outputs": []
    },
    {
     "cell_type": "heading",
     "level": 3,
     "metadata": {},
     "source": [
      "Problem 4"
     ]
    },
    {
     "cell_type": "markdown",
     "metadata": {},
     "source": [
      "Build a list of codons that encode \"serine\". \n",
      "\n",
      "First, print out all the codon:aa pairs in the codon_table dictionary.  Use the dict.items method.  What kind of loop should you use?"
     ]
    },
    {
     "cell_type": "code",
     "collapsed": false,
     "input": [
      "dict.items?"
     ],
     "language": "python",
     "metadata": {},
     "outputs": []
    },
    {
     "cell_type": "code",
     "collapsed": false,
     "input": [
      "for codon,aa in codon_table.items():\n",
      "    print codon,aa"
     ],
     "language": "python",
     "metadata": {},
     "outputs": []
    },
    {
     "cell_type": "markdown",
     "metadata": {},
     "source": [
      "Next make a list of all the codons for 'S'. What kind of loop?  How do you build a list item by item?"
     ]
    },
    {
     "cell_type": "code",
     "collapsed": false,
     "input": [
      "codons = []\n",
      "\n",
      "for codon,aa in codon_table.items():\n",
      "    if aa == 'S':\n",
      "        codons.append(codon)\n",
      "        \n",
      "print codons\n",
      "        "
     ],
     "language": "python",
     "metadata": {},
     "outputs": []
    },
    {
     "cell_type": "markdown",
     "metadata": {},
     "source": [
      "Change your code to use the amino_acid_table dictionary and find all the codons for 'serine'"
     ]
    },
    {
     "cell_type": "code",
     "collapsed": false,
     "input": [
      "codons = []\n",
      "\n",
      "for codon,aa in codon_table.items():\n",
      "    if amino_acid_table[aa] == 'arginine':\n",
      "        codons.append(codon)\n",
      "        \n",
      "print codons"
     ],
     "language": "python",
     "metadata": {},
     "outputs": []
    }
   ],
   "metadata": {}
  }
 ]
}