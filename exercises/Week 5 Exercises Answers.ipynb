{
 "metadata": {
  "name": "",
  "signature": "sha256:e9327612ec88ef0375734cc34bab19b21f3b31492d53e9c0c497dfc37477cb33"
 },
 "nbformat": 3,
 "nbformat_minor": 0,
 "worksheets": [
  {
   "cells": [
    {
     "cell_type": "heading",
     "level": 3,
     "metadata": {},
     "source": [
      "Problem 1"
     ]
    },
    {
     "cell_type": "markdown",
     "metadata": {},
     "source": [
      "In Week 2 you wrote some code to find stops in a translated amino acid sequence.  Write a function that more generally finds and returns the positions of any given amino acid in any given translation sequence."
     ]
    },
    {
     "cell_type": "code",
     "collapsed": false,
     "input": [
      "Frame1 = 'ETSVKKSPSPQV*EEKSSQAKYPSLYP*PQTFLPKAQTNRMDGMSTDTREVVELDVQHSSLGRGEQSEYPPALALMASSDPRAWLAPVQAGTCAAHAEYLLHSPGSSAEGVSSASNFRKSSKSPVKVRELCRLKGAVGADEGRQRAPSSKSTNVVQKQRRMAANARERRRMHGLNHAFDELRSVIPAFDNDKKLSKYETLQMAQIYINALSDLLQGPGAKADPPNCDLLHANVLETDRSPRGSPGVCRRGTGVGYPYQYEDGTFNSFMEQDLQSPSGTSKSGSEASKDSPRSNRSDGEFSPHSHFSDSDETHLELQSEDELSELKLAKRRAF*ENTPPDCPSIVSIAYLGFVMGCFIYPFVL*SFDNAVVVSDANRF*LPSRDIDQTPTP*ELPRAAVPWARMSCIKLSSANCFETIHSHMIVMDLFHRYD*F*TL*QFATSKVYLHFKKRAVGLRNILFFMEQEMMCLCRSNANLMNIFNIAIRFCTSVHF*YLISMQRSCVLLL*LK*AIYSFALSIFVLHWK*AVLLLL*FVLL*E*KKKQT*'\n",
      "\n",
      "def find_aa(aa,pp):\n",
      "    aa_loc = 0\n",
      "    aa_locs = []\n",
      "    while True:\n",
      "        aa_loc = pp.find(aa,aa_loc)\n",
      "        if aa_loc == -1:\n",
      "            break\n",
      "        aa_locs.append(aa_loc)\n",
      "        aa_loc +=1\n",
      "    return aa_locs\n",
      "\n",
      "locs = find_aa('*',Frame1)\n",
      "print locs"
     ],
     "language": "python",
     "metadata": {},
     "outputs": []
    },
    {
     "cell_type": "markdown",
     "metadata": {},
     "source": [
      "Modify your code to include a keyword argument that determines if only the first incidence of an amino acid is returned.   "
     ]
    },
    {
     "cell_type": "code",
     "collapsed": false,
     "input": [
      "Frame1 = 'ETSVKKSPSPQV*EEKSSQAKYPSLYP*PQTFLPKAQTNRMDGMSTDTREVVELDVQHSSLGRGEQSEYPPALALMASSDPRAWLAPVQAGTCAAHAEYLLHSPGSSAEGVSSASNFRKSSKSPVKVRELCRLKGAVGADEGRQRAPSSKSTNVVQKQRRMAANARERRRMHGLNHAFDELRSVIPAFDNDKKLSKYETLQMAQIYINALSDLLQGPGAKADPPNCDLLHANVLETDRSPRGSPGVCRRGTGVGYPYQYEDGTFNSFMEQDLQSPSGTSKSGSEASKDSPRSNRSDGEFSPHSHFSDSDETHLELQSEDELSELKLAKRRAF*ENTPPDCPSIVSIAYLGFVMGCFIYPFVL*SFDNAVVVSDANRF*LPSRDIDQTPTP*ELPRAAVPWARMSCIKLSSANCFETIHSHMIVMDLFHRYD*F*TL*QFATSKVYLHFKKRAVGLRNILFFMEQEMMCLCRSNANLMNIFNIAIRFCTSVHF*YLISMQRSCVLLL*LK*AIYSFALSIFVLHWK*AVLLLL*FVLL*E*KKKQT*'\n",
      "\n",
      "def find_aa(aa,pp, first = True):\n",
      "    aa_loc = 0\n",
      "    aa_locs = []\n",
      "    while True:\n",
      "        aa_loc = pp.find(aa,aa_loc)\n",
      "        if aa_loc == -1:\n",
      "            break\n",
      "        aa_locs.append(aa_loc)\n",
      "        if first == True:\n",
      "            break\n",
      "        aa_loc +=1\n",
      "    return aa_locs\n",
      "\n",
      "locs = find_aa('*',Frame1)\n",
      "print locs\n",
      "\n",
      "locs = find_aa('*',Frame1, first = False)\n",
      "print locs"
     ],
     "language": "python",
     "metadata": {},
     "outputs": []
    },
    {
     "cell_type": "markdown",
     "metadata": {},
     "source": [
      "Modify your code to use the amino acid list to check if the input is included."
     ]
    },
    {
     "cell_type": "code",
     "collapsed": false,
     "input": [
      "Frame1 = 'ETSVKKSPSPQV*EEKSSQAKYPSLYP*PQTFLPKAQTNRMDGMSTDTREVVELDVQHSSLGRGEQSEYPPALALMASSDPRAWLAPVQAGTCAAHAEYLLHSPGSSAEGVSSASNFRKSSKSPVKVRELCRLKGAVGADEGRQRAPSSKSTNVVQKQRRMAANARERRRMHGLNHAFDELRSVIPAFDNDKKLSKYETLQMAQIYINALSDLLQGPGAKADPPNCDLLHANVLETDRSPRGSPGVCRRGTGVGYPYQYEDGTFNSFMEQDLQSPSGTSKSGSEASKDSPRSNRSDGEFSPHSHFSDSDETHLELQSEDELSELKLAKRRAF*ENTPPDCPSIVSIAYLGFVMGCFIYPFVL*SFDNAVVVSDANRF*LPSRDIDQTPTP*ELPRAAVPWARMSCIKLSSANCFETIHSHMIVMDLFHRYD*F*TL*QFATSKVYLHFKKRAVGLRNILFFMEQEMMCLCRSNANLMNIFNIAIRFCTSVHF*YLISMQRSCVLLL*LK*AIYSFALSIFVLHWK*AVLLLL*FVLL*E*KKKQT*'\n",
      "\n",
      "\n",
      "def find_aa(aa,pp, first = True):    \n",
      "    aa_list = ['A','C','D','E','F','G','H','I','K','L','M','N','P','Q','R','S','T','V','W','Y','*']\n",
      "    if aa in aa_list:\n",
      "        aa_loc = 0\n",
      "        aa_locs = []\n",
      "        while True:\n",
      "            aa_loc = pp.find(aa,aa_loc)\n",
      "            if aa_loc == -1:\n",
      "                break\n",
      "            aa_locs.append(aa_loc)\n",
      "            if first == True:\n",
      "                break\n",
      "            aa_loc +=1\n",
      "        return aa_locs\n",
      "    else:\n",
      "        print 'Input must be an amino acid symbol.'\n",
      "\n",
      "locs = find_aa('*',Frame1)\n",
      "print locs\n",
      "\n",
      "locs = find_aa('*',Frame1, first = False)\n",
      "print locs\n",
      "\n",
      "locs = find_aa('a',Frame1, first = False)\n",
      "print locs"
     ],
     "language": "python",
     "metadata": {},
     "outputs": []
    },
    {
     "cell_type": "heading",
     "level": 3,
     "metadata": {},
     "source": [
      "Problem 2"
     ]
    },
    {
     "cell_type": "markdown",
     "metadata": {},
     "source": [
      "In Week 3 you wrote some code to determine the overlap between green and red pixels.  Modify this code to define a function called channel_overlap( ) that for a given image array and a threshold value returns the overlap between the pixels. Inculde a default threshold value."
     ]
    },
    {
     "cell_type": "code",
     "collapsed": false,
     "input": [
      "%cd ~/data\n",
      "import numpy as np\n",
      "from scipy.misc.pilutil import imread\n",
      "\n",
      "#import the image\n",
      "img = imread('neuro.tif')\n",
      "\n",
      "#display the image\n",
      "imshow(img)\n",
      "show()\n",
      "\n",
      "def channel_overlap(img_file,thresh=0):\n",
      "    red = img_file[:,:,0].copy()\n",
      "    green = img_file[:,:,1].copy()\n",
      "    mask = red<thresh\n",
      "    green_fluor = np.sum(green)\n",
      "    green[mask] = 0\n",
      "    masked_green_fluor = np.sum(green)\n",
      "    return float(masked_green_fluor)/green_fluor*100\n",
      "    \n",
      "print channel_overlap(img,20)"
     ],
     "language": "python",
     "metadata": {},
     "outputs": []
    },
    {
     "cell_type": "markdown",
     "metadata": {},
     "source": [
      "Modify your code to make a function that finds the overlap between any two channels presented as keyword arugments."
     ]
    },
    {
     "cell_type": "code",
     "collapsed": false,
     "input": [
      "img = imread('neuro.tif')\n",
      "\n",
      "def channel_overlap(img_file,thresh=0,ch1,ch2):\n",
      "    f_chan = img_file[:,:,ch1].copy()\n",
      "    sub_chan = img_file[:,:,ch2].copy()\n",
      "    mask = sub_chan<thresh\n",
      "    tot_fluor = np.sum(f_chan)\n",
      "    f_chan[mask] = 0\n",
      "    masked_fluor = np.sum(f_chan)\n",
      "    return float(masked_fluor)/tot_fluor*100\n",
      "    \n",
      "print channel_overlap(img,20,ch1=1,ch2=0)\n",
      "\n",
      "print channel_overlap(img,20,ch1=0,ch2=1)"
     ],
     "language": "python",
     "metadata": {},
     "outputs": []
    },
    {
     "cell_type": "heading",
     "level": 3,
     "metadata": {},
     "source": [
      "Problem 3"
     ]
    },
    {
     "cell_type": "markdown",
     "metadata": {},
     "source": [
      "In Week 4 you read in a file and made a dictionary of Ensembl and ZDB GENE identifiers.  Make a function that returns a dictionary from a tab-delimited file.  Pass the positions of the key and items in each line to the function."
     ]
    },
    {
     "cell_type": "code",
     "collapsed": false,
     "input": [
      "import csv\n",
      "import os\n",
      "import urllib2\n",
      "\n",
      "zfin = 'http://zfin.org/downloads/ensembl_1_to_1.txt'\n",
      "ensembl = urllib2.urlopen(zfin)\n",
      "\n",
      "def make_dict(file_name, key_pos, i_pos):\n",
      "    new_dict = {}\n",
      "    for line in file_name:\n",
      "        new_line = line.strip()\n",
      "        line_list = new_line.split('\\t')\n",
      "        key = line_list[key_pos]\n",
      "        item = line_list[i_pos]\n",
      "        new_dict[key] = item\n",
      "    return new_dict\n",
      "    \n",
      "print make_dict(ensembl, 0, -1)"
     ],
     "language": "python",
     "metadata": {},
     "outputs": []
    },
    {
     "cell_type": "heading",
     "level": 3,
     "metadata": {},
     "source": [
      "Problem 4"
     ]
    },
    {
     "cell_type": "markdown",
     "metadata": {},
     "source": [
      "Write a function new_folder( ) to make a new folder in your home directory.\n",
      "\n",
      "First, write a function that takes the folder name and returns the file path."
     ]
    },
    {
     "cell_type": "code",
     "collapsed": false,
     "input": [
      "import os\n",
      "def new_folder(folder_name):\n",
      "    folder_path = os.path.join(os.path.expanduser(\"~\"),folder_name)\n",
      "    return folder_path\n",
      "\n",
      "dir_path = new_folder('new_data')\n",
      "print dir_path"
     ],
     "language": "python",
     "metadata": {},
     "outputs": []
    },
    {
     "cell_type": "markdown",
     "metadata": {},
     "source": [
      "Modify your code so that it no longer takes the file name as an argument and instead queries the user for the name."
     ]
    },
    {
     "cell_type": "code",
     "collapsed": false,
     "input": [
      "import os\n",
      "def new_folder():\n",
      "    folder_name = raw_input('Enter the name of the new folder: ')\n",
      "    folder_path = os.path.join(os.path.expanduser(\"~\"),folder_name)\n",
      "    return folder_path\n",
      "\n",
      "dir_path = new_folder()\n",
      "print dir_path"
     ],
     "language": "python",
     "metadata": {},
     "outputs": []
    },
    {
     "cell_type": "markdown",
     "metadata": {},
     "source": [
      "Next add some code to make the new folder and change directory to that folder. Use %pwd to see if your function worked and you are in the right place."
     ]
    },
    {
     "cell_type": "code",
     "collapsed": false,
     "input": [
      "import os\n",
      "def new_folder():\n",
      "    folder_name = raw_input('Enter the name of the new folder: ')\n",
      "    folder_path = os.path.join(os.path.expanduser(\"~\"),folder_name)\n",
      "    os.mkdir(folder_path)\n",
      "    os.chdir(folder_path)\n",
      "    return folder_path\n",
      "\n",
      "dir_path = new_folder()\n",
      "\n",
      "%pwd"
     ],
     "language": "python",
     "metadata": {},
     "outputs": []
    },
    {
     "cell_type": "markdown",
     "metadata": {},
     "source": [
      "If a folder already exists, chdir( ) gives an error.  Modify your function to catch this error and return a second variable indicating if the folder was generated or not. Call the function and print out whether you made a new folder or that it already exists."
     ]
    },
    {
     "cell_type": "code",
     "collapsed": false,
     "input": [
      "import os\n",
      "def new_folder():\n",
      "    folder_name = raw_input('Enter the name of the new folder: ')\n",
      "    folder_path = os.path.join(os.path.expanduser(\"~\"),folder_name)\n",
      "    try:\n",
      "        os.mkdir(folder_path)\n",
      "        os.chdir(folder_path)\n",
      "        return folder_path,'done'\n",
      "    except: \n",
      "        return folder_path,'fail'\n",
      "\n",
      "dir_path,complete = new_folder()\n",
      "if complete == 'fail':\n",
      "    print 'folder already exists'\n",
      "else:\n",
      "    print 'success'\n",
      "%pwd"
     ],
     "language": "python",
     "metadata": {},
     "outputs": []
    },
    {
     "cell_type": "markdown",
     "metadata": {},
     "source": [
      "Modify your code to make a second function, create_folder( ), that uses new_folder( ),  and prints out whether the folder was made or already exists."
     ]
    },
    {
     "cell_type": "code",
     "collapsed": false,
     "input": [
      "import os\n",
      "def new_folder():\n",
      "    folder_name = raw_input('Enter the name of the new folder: ')\n",
      "    folder_path = os.path.join(os.path.expanduser(\"~\"),folder_name)\n",
      "    try:\n",
      "        os.mkdir(folder_path)\n",
      "        os.chdir(folder_path)\n",
      "        return folder_path,'done'\n",
      "    except: \n",
      "        return folder_path,'fail'\n",
      "\n",
      "def create_folder():\n",
      "    dir_path,complete = new_folder()\n",
      "    if complete == 'fail':\n",
      "        print 'folder already exists'\n",
      "    else:\n",
      "        print 'new folder made'\n",
      "        \n",
      "create_folder()"
     ],
     "language": "python",
     "metadata": {},
     "outputs": []
    },
    {
     "cell_type": "markdown",
     "metadata": {},
     "source": [
      "Modify create_folder( ) to query the user whether they want to change directory to the existing folder if it already exists. Notify the user that the directory change occurred."
     ]
    },
    {
     "cell_type": "code",
     "collapsed": false,
     "input": [
      "import os\n",
      "def new_folder():\n",
      "    folder_name = raw_input('Enter the name of the new folder: ')\n",
      "    folder_path = os.path.join(os.path.expanduser(\"~\"),folder_name)\n",
      "    try:\n",
      "        os.mkdir(folder_path)\n",
      "        os.chdir(folder_path)\n",
      "        return folder_path,'done'\n",
      "    except: \n",
      "        return folder_path,'fail'\n",
      "\n",
      "def create_folder():\n",
      "    dir_path,complete = new_folder()\n",
      "    if complete == 'fail':\n",
      "        answer = raw_input('Folder already exists.  Do you want to change to that directory (y/n)? ')\n",
      "        if answer == 'y':\n",
      "            print 'Changing directories...'\n",
      "            os.chdir(dir_path)\n",
      "    else:\n",
      "        print 'new folder made'    \n",
      "        \n",
      "create_folder()\n",
      "%pwd"
     ],
     "language": "python",
     "metadata": {},
     "outputs": []
    },
    {
     "cell_type": "markdown",
     "metadata": {},
     "source": [
      "Modify create_folder( ) to ask the user if they want to try another name.  Construct the function so that it continues until a new folder is made or the user no longer wants to make a folder.  What kind of control structure will you use?"
     ]
    },
    {
     "cell_type": "code",
     "collapsed": false,
     "input": [
      "import os\n",
      "def new_folder():\n",
      "    folder_name = raw_input('Enter the name of the new folder: ')\n",
      "    folder_path = os.path.join(os.path.expanduser(\"~\"),folder_name)\n",
      "    try:\n",
      "        os.mkdir(folder_path)\n",
      "        os.chdir(folder_path)\n",
      "        return folder_path,'done'\n",
      "    except: \n",
      "        return folder_path,'fail'\n",
      "\n",
      "def create_folder():\n",
      "    complete = 'fail'\n",
      "    while complete == 'fail':\n",
      "        dir_path,complete = new_folder()\n",
      "        if complete == 'done':\n",
      "            print 'New folder made'\n",
      "            break\n",
      "        answer = raw_input('Folder already exists.  Do you want to change to that directory (y/n)? ')\n",
      "        if answer == 'y':\n",
      "            print 'Changing directories...'\n",
      "            os.chdir(dir_path)\n",
      "            break\n",
      "        answer = raw_input('Do you want to try another folder name (y/n)? ')\n",
      "        if answer == 'n':\n",
      "            print 'No folder made'\n",
      "            break\n",
      "        \n",
      "create_folder()\n",
      "%pwd"
     ],
     "language": "python",
     "metadata": {},
     "outputs": []
    },
    {
     "cell_type": "code",
     "collapsed": false,
     "input": [],
     "language": "python",
     "metadata": {},
     "outputs": []
    }
   ],
   "metadata": {}
  }
 ]
}