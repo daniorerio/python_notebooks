{
 "metadata": {
  "name": "",
  "signature": "sha256:55b830f6a67992ca98874400d83e0950526e269c3605010fce47b8f2c3b7fd8b"
 },
 "nbformat": 3,
 "nbformat_minor": 0,
 "worksheets": [
  {
   "cells": [
    {
     "cell_type": "heading",
     "level": 3,
     "metadata": {},
     "source": [
      "Problem 1"
     ]
    },
    {
     "cell_type": "markdown",
     "metadata": {},
     "source": [
      "In Week 2 you wrote some code to find stops in a translated amino acid sequence.  Write a function that more generally finds and returns the positions of any given amino acid in any given translation sequence."
     ]
    },
    {
     "cell_type": "code",
     "collapsed": false,
     "input": [
      "Frame1 = 'ETSVKKSPSPQV*EEKSSQAKYPSLYP*PQTFLPKAQTNRMDGMSTDTREVVELDVQHSSLGRGEQSEYPPALALMASSDPRAWLAPVQAGTCAAHAEYLLHSPGSSAEGVSSASNFRKSSKSPVKVRELCRLKGAVGADEGRQRAPSSKSTNVVQKQRRMAANARERRRMHGLNHAFDELRSVIPAFDNDKKLSKYETLQMAQIYINALSDLLQGPGAKADPPNCDLLHANVLETDRSPRGSPGVCRRGTGVGYPYQYEDGTFNSFMEQDLQSPSGTSKSGSEASKDSPRSNRSDGEFSPHSHFSDSDETHLELQSEDELSELKLAKRRAF*ENTPPDCPSIVSIAYLGFVMGCFIYPFVL*SFDNAVVVSDANRF*LPSRDIDQTPTP*ELPRAAVPWARMSCIKLSSANCFETIHSHMIVMDLFHRYD*F*TL*QFATSKVYLHFKKRAVGLRNILFFMEQEMMCLCRSNANLMNIFNIAIRFCTSVHF*YLISMQRSCVLLL*LK*AIYSFALSIFVLHWK*AVLLLL*FVLL*E*KKKQT*'\n",
      "\n"
     ],
     "language": "python",
     "metadata": {},
     "outputs": []
    },
    {
     "cell_type": "markdown",
     "metadata": {},
     "source": [
      "Modify your code to include a keyword argument that determines if only the first incidence of an amino acid is returned.   "
     ]
    },
    {
     "cell_type": "code",
     "collapsed": false,
     "input": [
      "Frame1 = 'ETSVKKSPSPQV*EEKSSQAKYPSLYP*PQTFLPKAQTNRMDGMSTDTREVVELDVQHSSLGRGEQSEYPPALALMASSDPRAWLAPVQAGTCAAHAEYLLHSPGSSAEGVSSASNFRKSSKSPVKVRELCRLKGAVGADEGRQRAPSSKSTNVVQKQRRMAANARERRRMHGLNHAFDELRSVIPAFDNDKKLSKYETLQMAQIYINALSDLLQGPGAKADPPNCDLLHANVLETDRSPRGSPGVCRRGTGVGYPYQYEDGTFNSFMEQDLQSPSGTSKSGSEASKDSPRSNRSDGEFSPHSHFSDSDETHLELQSEDELSELKLAKRRAF*ENTPPDCPSIVSIAYLGFVMGCFIYPFVL*SFDNAVVVSDANRF*LPSRDIDQTPTP*ELPRAAVPWARMSCIKLSSANCFETIHSHMIVMDLFHRYD*F*TL*QFATSKVYLHFKKRAVGLRNILFFMEQEMMCLCRSNANLMNIFNIAIRFCTSVHF*YLISMQRSCVLLL*LK*AIYSFALSIFVLHWK*AVLLLL*FVLL*E*KKKQT*'\n",
      "\n"
     ],
     "language": "python",
     "metadata": {},
     "outputs": []
    },
    {
     "cell_type": "markdown",
     "metadata": {},
     "source": [
      "Modify your code to use the amino acid list to check if the input is included."
     ]
    },
    {
     "cell_type": "code",
     "collapsed": false,
     "input": [
      "Frame1 = 'ETSVKKSPSPQV*EEKSSQAKYPSLYP*PQTFLPKAQTNRMDGMSTDTREVVELDVQHSSLGRGEQSEYPPALALMASSDPRAWLAPVQAGTCAAHAEYLLHSPGSSAEGVSSASNFRKSSKSPVKVRELCRLKGAVGADEGRQRAPSSKSTNVVQKQRRMAANARERRRMHGLNHAFDELRSVIPAFDNDKKLSKYETLQMAQIYINALSDLLQGPGAKADPPNCDLLHANVLETDRSPRGSPGVCRRGTGVGYPYQYEDGTFNSFMEQDLQSPSGTSKSGSEASKDSPRSNRSDGEFSPHSHFSDSDETHLELQSEDELSELKLAKRRAF*ENTPPDCPSIVSIAYLGFVMGCFIYPFVL*SFDNAVVVSDANRF*LPSRDIDQTPTP*ELPRAAVPWARMSCIKLSSANCFETIHSHMIVMDLFHRYD*F*TL*QFATSKVYLHFKKRAVGLRNILFFMEQEMMCLCRSNANLMNIFNIAIRFCTSVHF*YLISMQRSCVLLL*LK*AIYSFALSIFVLHWK*AVLLLL*FVLL*E*KKKQT*'\n",
      "\n",
      "aa_list = ['A','C','D','E','F','G','H','I','K','L','M','N','P','Q','R','S','T','V','W','Y','*']\n",
      "    "
     ],
     "language": "python",
     "metadata": {},
     "outputs": []
    },
    {
     "cell_type": "heading",
     "level": 3,
     "metadata": {},
     "source": [
      "Problem 2"
     ]
    },
    {
     "cell_type": "markdown",
     "metadata": {},
     "source": [
      "In Week 3 you wrote some code to determine the overlap between green and red pixels.  Modify this code to define a function called channel_overlap( ) that for a given image array and a threshold value returns the overlap between the pixels. Inculde a default threshold value."
     ]
    },
    {
     "cell_type": "code",
     "collapsed": false,
     "input": [
      "%cd ~/data\n",
      "import numpy as np\n",
      "from scipy.misc.pilutil import imread\n",
      "\n",
      "#import the image\n",
      "img = imread('neuro.tif')\n",
      "\n",
      "#display the image\n",
      "imshow(img)\n",
      "show()\n"
     ],
     "language": "python",
     "metadata": {},
     "outputs": []
    },
    {
     "cell_type": "markdown",
     "metadata": {},
     "source": [
      "Modify your code to make a function that finds the overlap between any two channels presented as keyword arugments."
     ]
    },
    {
     "cell_type": "code",
     "collapsed": false,
     "input": [],
     "language": "python",
     "metadata": {},
     "outputs": []
    },
    {
     "cell_type": "heading",
     "level": 3,
     "metadata": {},
     "source": [
      "Problem 3"
     ]
    },
    {
     "cell_type": "markdown",
     "metadata": {},
     "source": [
      "In Week 4 you read in a file and made a dictionary of Ensembl and ZDB GENE identifiers.  Make a function that returns a dictionary from a tab-delimited file.  Pass the positions of the key and items in each line to the function."
     ]
    },
    {
     "cell_type": "code",
     "collapsed": false,
     "input": [
      "import csv\n",
      "import os\n",
      "import urllib2\n",
      "\n",
      "zfin = 'http://zfin.org/downloads/ensembl_1_to_1.txt'\n"
     ],
     "language": "python",
     "metadata": {},
     "outputs": []
    },
    {
     "cell_type": "heading",
     "level": 3,
     "metadata": {},
     "source": [
      "Problem 4"
     ]
    },
    {
     "cell_type": "markdown",
     "metadata": {},
     "source": [
      "Write a function new_folder( ) to make a new folder in your home directory.\n",
      "\n",
      "First, write a function that takes the folder name and returns the file path."
     ]
    },
    {
     "cell_type": "code",
     "collapsed": false,
     "input": [
      "import os\n"
     ],
     "language": "python",
     "metadata": {},
     "outputs": []
    },
    {
     "cell_type": "markdown",
     "metadata": {},
     "source": [
      "Modify your code so that it no longer takes the file name as an argument and instead queries the user for the name."
     ]
    },
    {
     "cell_type": "code",
     "collapsed": false,
     "input": [],
     "language": "python",
     "metadata": {},
     "outputs": []
    },
    {
     "cell_type": "markdown",
     "metadata": {},
     "source": [
      "Next add some code to make the new folder and change directory to that folder. Use %pwd to see if your function worked and you are in the right place."
     ]
    },
    {
     "cell_type": "code",
     "collapsed": false,
     "input": [
      "#your code here\n",
      "%pwd"
     ],
     "language": "python",
     "metadata": {},
     "outputs": []
    },
    {
     "cell_type": "markdown",
     "metadata": {},
     "source": [
      "If a folder already exists, chdir( ) gives an error.  Modify your function to catch this error and return a second variable indicating if the folder was generated or not. Call the function and print out whether you made a new folder or that it already exists."
     ]
    },
    {
     "cell_type": "code",
     "collapsed": false,
     "input": [],
     "language": "python",
     "metadata": {},
     "outputs": []
    },
    {
     "cell_type": "markdown",
     "metadata": {},
     "source": [
      "Modify your code to make a second function, create_folder( ), that uses new_folder( ),  and prints out whether the folder was made or already exists."
     ]
    },
    {
     "cell_type": "code",
     "collapsed": false,
     "input": [],
     "language": "python",
     "metadata": {},
     "outputs": []
    },
    {
     "cell_type": "markdown",
     "metadata": {},
     "source": [
      "Modify create_folder( ) to query the user whether they want to change directory to the existing folder if it already exists. Notify the user that the directory change occurred."
     ]
    },
    {
     "cell_type": "code",
     "collapsed": false,
     "input": [],
     "language": "python",
     "metadata": {},
     "outputs": []
    },
    {
     "cell_type": "markdown",
     "metadata": {},
     "source": [
      "Modify create_folder( ) to ask the user if they want to try another name.  Construct the function so that it continues until a new folder is made or the user no longer wants to make a folder.  What kind of control structure will you use?"
     ]
    },
    {
     "cell_type": "code",
     "collapsed": false,
     "input": [],
     "language": "python",
     "metadata": {},
     "outputs": []
    },
    {
     "cell_type": "code",
     "collapsed": false,
     "input": [],
     "language": "python",
     "metadata": {},
     "outputs": []
    }
   ],
   "metadata": {}
  }
 ]
}