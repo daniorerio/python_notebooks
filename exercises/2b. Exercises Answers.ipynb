{
 "metadata": {
  "name": "",
  "signature": "sha256:e7a2c056e746b14da92f7a4104e56f9e1d18b31400e10301af2a8dcc47680430"
 },
 "nbformat": 3,
 "nbformat_minor": 0,
 "worksheets": [
  {
   "cells": [
    {
     "cell_type": "heading",
     "level": 3,
     "metadata": {},
     "source": [
      "Problem 5"
     ]
    },
    {
     "cell_type": "markdown",
     "metadata": {},
     "source": [
      "Write a program to translate the atoh1a sequence in all 3 reading frames.  Then find the longest orf and polypeptide sequence."
     ]
    },
    {
     "cell_type": "code",
     "collapsed": false,
     "input": [
      "atoh1a = 'GAGACATCAGTAAAGAAATCCCCTTCACCACAGGTGTAAGAAGAGAAATCTTCCCAGGCAAAATATCCGTCCCTGTATCCATAGCCACAAACTTTCCTCCCAAAAGCACAAACCAACAGAATGGATGGAATGAGCACGGATACAAGAGAGGTGGTTGAACTCGACGTCCAGCATTCGAGCTTGGGGCGGGGGGAGCAGAGCGAGTACCCACCAGCCTTGGCACTCATGGCCAGCAGTGACCCACGCGCCTGGCTGGCTCCCGTGCAGGCTGGCACCTGCGCGGCACACGCCGAATACCTGCTGCACTCGCCCGGCTCGAGCGCGGAAGGCGTGTCCTCTGCCTCCAACTTCAGGAAGAGCAGCAAGAGTCCTGTCAAAGTACGCGAGCTCTGCCGGCTTAAAGGAGCTGTGGGGGCAGATGAGGGCAGACAGCGGGCCCCATCCAGCAAATCCACCAACGTCGTGCAGAAACAGAGGCGAATGGCTGCCAATGCCCGGGAGAGGCGAAGAATGCACGGATTGAACCACGCGTTCGACGAGCTGCGCAGTGTCATCCCAGCCTTTGACAACGACAAGAAACTCTCCAAGTACGAAACCCTGCAGATGGCCCAGATCTACATCAACGCCCTGTCCGACTTACTACAGGGCCCCGGTGCTAAAGCCGACCCGCCAAACTGCGACCTGCTGCATGCCAACGTGTTAGAAACGGACCGATCTCCCAGAGGATCACCGGGCGTCTGTCGGAGAGGCACGGGCGTGGGTTACCCGTACCAGTACGAGGACGGAACATTCAACTCTTTCATGGAGCAAGACCTCCAGTCGCCCTCTGGAACGAGCAAGTCTGGTTCGGAGGCCAGTAAAGACTCGCCTCGGTCGAACCGGAGTGATGGAGAGTTCTCGCCTCACTCGCACTTCAGTGACTCAGACGAAACGCACTTGGAGCTGCAGAGTGAAGACGAGCTGTCGGAACTGAAACTGGCCAAGCGCCGCGCTTTTTAAGAAAACACACCGCCGGACTGTCCCTCAATCGTGTCAATCGCATATCTGGGCTTTGTAATGGGTTGCTTTATTTATCCATTTGTTTTATGATCTTTTGACAATGCTGTTGTTGTGTCTGACGCCAATAGATTTTAGTTGCCTTCTCGTGACATTGACCAGACCCCTACGCCATGAGAACTGCCGCGAGCAGCAGTGCCATGGGCTCGAATGTCATGCATAAAACTGTCTTCCGCAAACTGTTTTGAGACTATTCATTCACACATGATTGTCATGGACCTATTTCACAGATACGATTGATTTTGAACCCTGTAACAATTTGCGACTTCTAAAGTTTACTTGCACTTTAAAAAACGGGCCGTAGGCTTGAGAAATATTCTTTTTTTCATGGAACAAGAAATGATGTGTTTATGTAGAAGTAATGCCAATTTGATGAATATATTTAATATAGCCATTAGATTTTGTACATCCGTTCATTTTTAATATTTGATTTCAATGCAAAGAAGTTGTGTTCTGCTTCTGTAGCTGAAGTAAGCTATTTATTCGTTTGCCTTGTCAATTTTTGTGTTACATTGGAAATGAGCTGTTTTGTTACTCTTATGATTTGTTTTATTGTAGGAATAAAAGAAAAAACAAACATGA'\n",
      "\n",
      "codon_table = {\n",
      "    'TTT': 'F', 'TTC': 'F', 'TTA': 'L', 'TTG': 'L',\n",
      "    'TCT': 'S', 'TCC': 'S', 'TCA': 'S', 'TCG': 'S',\n",
      "    'TAT': 'Y', 'TAC': 'Y', 'TAA': '*', 'TAG': '*',\n",
      "    'TGT': 'C', 'TGC': 'C', 'TGA': '*', 'TGG': 'W',\n",
      "\n",
      "    'CTT': 'L', 'CTC': 'L', 'CTA': 'L', 'CTG': 'L',\n",
      "    'CCT': 'P', 'CCC': 'P', 'CCA': 'P', 'CCG': 'P',\n",
      "    'CAT': 'H', 'CAC': 'H', 'CAA': 'Q', 'CAG': 'Q',\n",
      "    'CGT': 'R', 'CGC': 'R', 'CGA': 'R', 'CGG': 'R',\n",
      "\n",
      "    'ATT': 'I', 'ATC': 'I', 'ATA': 'I', 'ATG': 'M',\n",
      "    'ACT': 'T', 'ACC': 'T', 'ACA': 'T', 'ACG': 'T',\n",
      "    'AAT': 'N', 'AAC': 'N', 'AAA': 'K', 'AAG': 'K',\n",
      "    'AGT': 'S', 'AGC': 'S', 'AGA': 'R', 'AGG': 'R',\n",
      "\n",
      "    'GTT': 'V', 'GTC': 'V', 'GTA': 'V', 'GTG': 'V',\n",
      "    'GCT': 'A', 'GCC': 'A', 'GCA': 'A', 'GCG': 'A',\n",
      "    'GAT': 'D', 'GAC': 'D', 'GAA': 'E', 'GAG': 'E',\n",
      "    'GGT': 'G', 'GGC': 'G', 'GGA': 'G', 'GGG': 'G',\n",
      "}\n"
     ],
     "language": "python",
     "metadata": {},
     "outputs": [],
     "prompt_number": 1
    },
    {
     "cell_type": "markdown",
     "metadata": {},
     "source": [
      "First write some code to translate the first amino acid in the first reading frame and print it out."
     ]
    },
    {
     "cell_type": "code",
     "collapsed": false,
     "input": [
      "loc = 0\n",
      "print atoh1a[loc:loc+3],\n",
      "print codon_table[atoh1a[loc:loc+3]]"
     ],
     "language": "python",
     "metadata": {},
     "outputs": []
    },
    {
     "cell_type": "markdown",
     "metadata": {},
     "source": [
      "Next, write some code to iterate over the whole length of the sequence, printing out the codon and amino acid for each codon in the first reading frame. What kind of loop will you use? You may want to look up the range( ) function for how to step by 3."
     ]
    },
    {
     "cell_type": "code",
     "collapsed": false,
     "input": [
      "for loc in range(0,len(atoh1a)-2,3):\n",
      "    print atoh1a[loc:loc+3],\n",
      "    print codon_table[atoh1a[loc:loc+3]]"
     ],
     "language": "python",
     "metadata": {},
     "outputs": []
    },
    {
     "cell_type": "markdown",
     "metadata": {},
     "source": [
      "Modify your code to print out the amino acids of the second and third reading frames. Did you get an error?   Why?"
     ]
    },
    {
     "cell_type": "code",
     "collapsed": false,
     "input": [
      "for loc in range(0,len(atoh1a)-2,3):\n",
      "    print atoh1a[loc:loc+3],\n",
      "    print codon_table[atoh1a[loc:loc+3]]\n",
      "    \n",
      "for loc in range(0,len(atoh1a)-2,3):\n",
      "    print atoh1a[loc:loc+3],\n",
      "    print codon_table[atoh1a[loc:loc+3]]"
     ],
     "language": "python",
     "metadata": {},
     "outputs": []
    },
    {
     "cell_type": "markdown",
     "metadata": {},
     "source": [
      "Modify your code to capture the full amino acid sequence of the three reading frame. Can you do it as a loop?"
     ]
    },
    {
     "cell_type": "code",
     "collapsed": false,
     "input": [
      "for start in range(3):\n",
      "    frame = ''\n",
      "    for loc in range(start,len(atoh1a)-2,3):\n",
      "        frame = frame + codon_table[atoh1a[loc:loc+3]]\n",
      "\n",
      "    print 'Frame {0}: {1}'.format(start+1,frame)\n"
     ],
     "language": "python",
     "metadata": {},
     "outputs": [
      {
       "output_type": "stream",
       "stream": "stdout",
       "text": [
        "Frame 1: ETSVKKSPSPQV*EEKSSQAKYPSLYP*PQTFLPKAQTNRMDGMSTDTREVVELDVQHSSLGRGEQSEYPPALALMASSDPRAWLAPVQAGTCAAHAEYLLHSPGSSAEGVSSASNFRKSSKSPVKVRELCRLKGAVGADEGRQRAPSSKSTNVVQKQRRMAANARERRRMHGLNHAFDELRSVIPAFDNDKKLSKYETLQMAQIYINALSDLLQGPGAKADPPNCDLLHANVLETDRSPRGSPGVCRRGTGVGYPYQYEDGTFNSFMEQDLQSPSGTSKSGSEASKDSPRSNRSDGEFSPHSHFSDSDETHLELQSEDELSELKLAKRRAF*ENTPPDCPSIVSIAYLGFVMGCFIYPFVL*SFDNAVVVSDANRF*LPSRDIDQTPTP*ELPRAAVPWARMSCIKLSSANCFETIHSHMIVMDLFHRYD*F*TL*QFATSKVYLHFKKRAVGLRNILFFMEQEMMCLCRSNANLMNIFNIAIRFCTSVHF*YLISMQRSCVLLL*LK*AIYSFALSIFVLHWK*AVLLLL*FVLL*E*KKKQT*\n",
        "Frame 2: RHQ*RNPLHHRCKKRNLPRQNIRPCIHSHKLSSQKHKPTEWME*ARIQERWLNSTSSIRAWGGGSRASTHQPWHSWPAVTHAPGWLPCRLAPARHTPNTCCTRPARARKACPLPPTSGRAARVLSKYASSAGLKELWGQMRADSGPHPANPPTSCRNRGEWLPMPGRGEECTD*TTRSTSCAVSSQPLTTTRNSPSTKPCRWPRSTSTPCPTYYRAPVLKPTRQTATCCMPTC*KRTDLPEDHRASVGEARAWVTRTSTRTEHSTLSWSKTSSRPLERASLVRRPVKTRLGRTGVMESSRLTRTSVTQTKRTWSCRVKTSCRN*NWPSAALFKKTHRRTVPQSCQSHIWAL*WVALFIHLFYDLLTMLLLCLTPIDFSCLLVTLTRPLRHENCREQQCHGLECHA*NCLPQTVLRLFIHT*LSWTYFTDTIDFEPCNNLRLLKFTCTLKNGP*A*EIFFFSWNKK*CVYVEVMPI**IYLI*PLDFVHPFIFNI*FQCKEVVFCFCS*SKLFIRLPCQFLCYIGNELFCYSYDLFYCRNKRKNKH\n",
        "Frame 3: DISKEIPFTTGVRREIFPGKISVPVSIATNFPPKSTNQQNGWNEHGYKRGG*TRRPAFELGAGGAERVPTSLGTHGQQ*PTRLAGSRAGWHLRGTRRIPAALARLERGRRVLCLQLQEEQQESCQSTRALPA*RSCGGR*GQTAGPIQQIHQRRAETEANGCQCPGEAKNARIEPRVRRAAQCHPSL*QRQETLQVRNPADGPDLHQRPVRLTTGPRC*SRPAKLRPAACQRVRNGPISQRITGRLSERHGRGLPVPVRGRNIQLFHGARPPVALWNEQVWFGGQ*RLASVEPE*WRVLASLALQ*LRRNALGAAE*RRAVGTETGQAPRFLRKHTAGLSLNRVNRISGLCNGLLYLSICFMIF*QCCCCV*RQ*ILVAFS*H*PDPYAMRTAASSSAMGSNVMHKTVFRKLF*DYSFTHDCHGPISQIRLILNPVTICDF*SLLAL*KTGRRLEKYSFFHGTRNDVFM*K*CQFDEYI*YSH*ILYIRSFLIFDFNAKKLCSASVAEVSYLFVCLVNFCVTLEMSCFVTLMICFIVGIKEKTNM\n"
       ]
      }
     ],
     "prompt_number": 23
    },
    {
     "cell_type": "markdown",
     "metadata": {},
     "source": [
      "We want to find the longest open reading frame in the first translation frame. First write code to make a list of the positions of all the stop codons.  Use list.append( ).  What kind of loop will you use?"
     ]
    },
    {
     "cell_type": "code",
     "collapsed": false,
     "input": [
      "stops = []\n",
      "frame = frame1\n",
      "stop_loc = 0\n",
      "\n",
      "while True:\n",
      "    stop_loc = frame.find('*',stop_loc)\n",
      "    if stop_loc == -1:\n",
      "        break\n",
      "    stops.append(stop_loc)\n",
      "    stop_loc +=1\n",
      "\n",
      "print stops"
     ],
     "language": "python",
     "metadata": {},
     "outputs": [
      {
       "output_type": "stream",
       "stream": "stdout",
       "text": [
        "[12, 27, 332, 362, 377, 390, 431, 433, 436, 492, 506, 509, 525, 532, 537, 539, 545]\n"
       ]
      }
     ],
     "prompt_number": 9
    },
    {
     "cell_type": "markdown",
     "metadata": {},
     "source": [
      "Next write some code to print out the lengths of each of the open reading frames, and find the longest.  Use the list of stop codons you generated. "
     ]
    },
    {
     "cell_type": "code",
     "collapsed": false,
     "input": [
      "prev_stop = 0\n",
      "max_orf = 0\n",
      "for stop in stops:\n",
      "    if stop-prev_stop > max_orf:\n",
      "        max_orf = stop-prev_stop\n",
      "    prev_stop = stop\n",
      "\n",
      "print max_orf"
     ],
     "language": "python",
     "metadata": {},
     "outputs": [
      {
       "output_type": "stream",
       "stream": "stdout",
       "text": [
        "305\n"
       ]
      }
     ],
     "prompt_number": 10
    },
    {
     "cell_type": "markdown",
     "metadata": {},
     "source": [
      "What whould happen if there were no stop codons?  Or if the orf at the end of the translation frame were the longest?  Modify your code to account for these conditions."
     ]
    },
    {
     "cell_type": "code",
     "collapsed": false,
     "input": [
      "stops = []\n",
      "frame = frame1\n",
      "stop_loc = 0\n",
      "\n",
      "while True:\n",
      "    stop_loc = frame.find('*',stop_loc)\n",
      "    if stop_loc == -1:\n",
      "        break\n",
      "    stops.append(stop_loc)\n",
      "    stop_loc +=1\n",
      "\n",
      "stops.append(len(frame)-1)\n",
      "\n",
      "prev_stop = 0\n",
      "max_orf = 0\n",
      "for stop in stops:\n",
      "    if stop-prev_stop > max_orf:\n",
      "        max_orf = stop-prev_stop\n",
      "    prev_stop = stop\n",
      "\n",
      "print max_orf\n"
     ],
     "language": "python",
     "metadata": {},
     "outputs": [
      {
       "output_type": "stream",
       "stream": "stdout",
       "text": [
        "305\n",
        "PQTFLPKAQTNRMDGMSTDTREVVELDVQHSSLGRGEQSEYPPALALMASSDPRAWLAPVQAGTCAAHAEYLLHSPGSSAEGVSSASNFRKSSKSPVKVRELCRLKGAVGADEGRQRAPSSKSTNVVQKQRRMAANARERRRMHGLNHAFDELRSVIPAFDNDKKLSKYETLQMAQIYINALSDLLQGPGAKADPPNCDLLHANVLETDRSPRGSPGVCRRGTGVGYPYQYEDGTFNSFMEQDLQSPSGTSKSGSEASKDSPRSNRSDGEFSPHSHFSDSDETHLELQSEDELSELKLAKRRAF\n"
       ]
      }
     ],
     "prompt_number": 18
    },
    {
     "cell_type": "markdown",
     "metadata": {},
     "source": [
      "Add some code to capture the start and stop positions of the longest orf.  Print out the amino acid sequence of the orf."
     ]
    },
    {
     "cell_type": "code",
     "collapsed": false,
     "input": [
      "stops = []\n",
      "frame = frame1\n",
      "stop_loc = 0\n",
      "\n",
      "while True:\n",
      "    stop_loc = frame.find('*',stop_loc)\n",
      "    if stop_loc == -1:\n",
      "        break\n",
      "    stops.append(stop_loc)\n",
      "    stop_loc +=1\n",
      "\n",
      "stops.append(len(frame)-1)\n",
      "\n",
      "prev_stop = 0\n",
      "max_orf = 0\n",
      "\n",
      "for stop in stops:\n",
      "    if stop-prev_stop > max_orf:\n",
      "        max_orf = stop-prev_stop\n",
      "        orf_start = prev_stop+1\n",
      "        orf_stop = stop\n",
      "    prev_stop = stop\n",
      "\n",
      "print max_orf\n",
      "print frame[orf_start:orf_stop]"
     ],
     "language": "python",
     "metadata": {},
     "outputs": []
    },
    {
     "cell_type": "markdown",
     "metadata": {},
     "source": [
      "Modify your code to find the longest orf in all 3 frames. Print out the longest orf and the longest polypeptide."
     ]
    },
    {
     "cell_type": "code",
     "collapsed": false,
     "input": [
      "max_orf = 0\n",
      "\n",
      "for start in range(3):\n",
      "    #first generate the frame sequences\n",
      "    frame = ''\n",
      "    for loc in range(start,len(atoh1a)-2,3):\n",
      "        frame = frame + codon_table[atoh1a[loc:loc+3]]\n",
      "\n",
      "    print 'Frame {0}: {1}'.format(start+1,frame)\n",
      "    #next find the positions of stops\n",
      "    stops = []\n",
      "    while True:\n",
      "        stop_loc = frame.find('*',stop_loc)\n",
      "        if stop_loc == -1:\n",
      "            break\n",
      "        stops.append(stop_loc)\n",
      "        stop_loc +=1\n",
      "        \n",
      "    #include the end of the frame\n",
      "    stops.append(len(frame)-1)\n",
      "\n",
      "    #find the max orf\n",
      "    stop_loc = 0\n",
      "    prev_stop = 0\n",
      "    for stop in stops:\n",
      "        if stop-prev_stop > max_orf:\n",
      "            max_orf = stop-prev_stop\n",
      "            orf_start = prev_stop+1\n",
      "            orf_stop = stop\n",
      "            max_frame = frame\n",
      "        prev_stop = stop\n",
      "\n",
      "print 'Largest open reading frame: ' +max_frame[orf_start:orf_stop]\n",
      "\n",
      "met_pos = max_frame[orf_start:orf_stop].find('M')\n",
      "\n",
      "print 'Longest polypeptide: ' +max_frame[orf_start+met_pos:orf_stop]"
     ],
     "language": "python",
     "metadata": {},
     "outputs": [
      {
       "output_type": "stream",
       "stream": "stdout",
       "text": [
        "Frame 1: ETSVKKSPSPQV*EEKSSQAKYPSLYP*PQTFLPKAQTNRMDGMSTDTREVVELDVQHSSLGRGEQSEYPPALALMASSDPRAWLAPVQAGTCAAHAEYLLHSPGSSAEGVSSASNFRKSSKSPVKVRELCRLKGAVGADEGRQRAPSSKSTNVVQKQRRMAANARERRRMHGLNHAFDELRSVIPAFDNDKKLSKYETLQMAQIYINALSDLLQGPGAKADPPNCDLLHANVLETDRSPRGSPGVCRRGTGVGYPYQYEDGTFNSFMEQDLQSPSGTSKSGSEASKDSPRSNRSDGEFSPHSHFSDSDETHLELQSEDELSELKLAKRRAF*ENTPPDCPSIVSIAYLGFVMGCFIYPFVL*SFDNAVVVSDANRF*LPSRDIDQTPTP*ELPRAAVPWARMSCIKLSSANCFETIHSHMIVMDLFHRYD*F*TL*QFATSKVYLHFKKRAVGLRNILFFMEQEMMCLCRSNANLMNIFNIAIRFCTSVHF*YLISMQRSCVLLL*LK*AIYSFALSIFVLHWK*AVLLLL*FVLL*E*KKKQT*\n",
        "Frame 2: RHQ*RNPLHHRCKKRNLPRQNIRPCIHSHKLSSQKHKPTEWME*ARIQERWLNSTSSIRAWGGGSRASTHQPWHSWPAVTHAPGWLPCRLAPARHTPNTCCTRPARARKACPLPPTSGRAARVLSKYASSAGLKELWGQMRADSGPHPANPPTSCRNRGEWLPMPGRGEECTD*TTRSTSCAVSSQPLTTTRNSPSTKPCRWPRSTSTPCPTYYRAPVLKPTRQTATCCMPTC*KRTDLPEDHRASVGEARAWVTRTSTRTEHSTLSWSKTSSRPLERASLVRRPVKTRLGRTGVMESSRLTRTSVTQTKRTWSCRVKTSCRN*NWPSAALFKKTHRRTVPQSCQSHIWAL*WVALFIHLFYDLLTMLLLCLTPIDFSCLLVTLTRPLRHENCREQQCHGLECHA*NCLPQTVLRLFIHT*LSWTYFTDTIDFEPCNNLRLLKFTCTLKNGP*A*EIFFFSWNKK*CVYVEVMPI**IYLI*PLDFVHPFIFNI*FQCKEVVFCFCS*SKLFIRLPCQFLCYIGNELFCYSYDLFYCRNKRKNKH\n",
        "Frame 3: DISKEIPFTTGVRREIFPGKISVPVSIATNFPPKSTNQQNGWNEHGYKRGG*TRRPAFELGAGGAERVPTSLGTHGQQ*PTRLAGSRAGWHLRGTRRIPAALARLERGRRVLCLQLQEEQQESCQSTRALPA*RSCGGR*GQTAGPIQQIHQRRAETEANGCQCPGEAKNARIEPRVRRAAQCHPSL*QRQETLQVRNPADGPDLHQRPVRLTTGPRC*SRPAKLRPAACQRVRNGPISQRITGRLSERHGRGLPVPVRGRNIQLFHGARPPVALWNEQVWFGGQ*RLASVEPE*WRVLASLALQ*LRRNALGAAE*RRAVGTETGQAPRFLRKHTAGLSLNRVNRISGLCNGLLYLSICFMIF*QCCCCV*RQ*ILVAFS*H*PDPYAMRTAASSSAMGSNVMHKTVFRKLF*DYSFTHDCHGPISQIRLILNPVTICDF*SLLAL*KTGRRLEKYSFFHGTRNDVFM*K*CQFDEYI*YSH*ILYIRSFLIFDFNAKKLCSASVAEVSYLFVCLVNFCVTLEMSCFVTLMICFIVGIKEKTNM\n",
        "Largest open reading frame: PQTFLPKAQTNRMDGMSTDTREVVELDVQHSSLGRGEQSEYPPALALMASSDPRAWLAPVQAGTCAAHAEYLLHSPGSSAEGVSSASNFRKSSKSPVKVRELCRLKGAVGADEGRQRAPSSKSTNVVQKQRRMAANARERRRMHGLNHAFDELRSVIPAFDNDKKLSKYETLQMAQIYINALSDLLQGPGAKADPPNCDLLHANVLETDRSPRGSPGVCRRGTGVGYPYQYEDGTFNSFMEQDLQSPSGTSKSGSEASKDSPRSNRSDGEFSPHSHFSDSDETHLELQSEDELSELKLAKRRAF\n",
        "Longest polypeptide: MDGMSTDTREVVELDVQHSSLGRGEQSEYPPALALMASSDPRAWLAPVQAGTCAAHAEYLLHSPGSSAEGVSSASNFRKSSKSPVKVRELCRLKGAVGADEGRQRAPSSKSTNVVQKQRRMAANARERRRMHGLNHAFDELRSVIPAFDNDKKLSKYETLQMAQIYINALSDLLQGPGAKADPPNCDLLHANVLETDRSPRGSPGVCRRGTGVGYPYQYEDGTFNSFMEQDLQSPSGTSKSGSEASKDSPRSNRSDGEFSPHSHFSDSDETHLELQSEDELSELKLAKRRAF\n"
       ]
      }
     ],
     "prompt_number": 32
    },
    {
     "cell_type": "code",
     "collapsed": false,
     "input": [],
     "language": "python",
     "metadata": {},
     "outputs": []
    }
   ],
   "metadata": {}
  }
 ]
}