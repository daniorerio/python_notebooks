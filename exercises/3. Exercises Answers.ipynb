{
 "metadata": {
  "name": "",
  "signature": "sha256:9031d0f55a2163206161cdac82695e4597ec796bbdbe096b3f1fdaa8cc9ad5ba"
 },
 "nbformat": 3,
 "nbformat_minor": 0,
 "worksheets": [
  {
   "cells": [
    {
     "cell_type": "heading",
     "level": 1,
     "metadata": {},
     "source": [
      "Exercises Week 3: Arrays"
     ]
    },
    {
     "cell_type": "heading",
     "level": 3,
     "metadata": {},
     "source": [
      "Road trip calculation table"
     ]
    },
    {
     "cell_type": "markdown",
     "metadata": {},
     "source": [
      "Create an array of distances between all cities along I-5, using the signpost information in the string.\n",
      "\n",
      "First generate a list of cities from the signposts string using split. Then iterate over the list to get the miles."
     ]
    },
    {
     "cell_type": "code",
     "collapsed": false,
     "input": [
      "import numpy as np\n",
      "signposts = 'Vancouver:0, Bellingham:90, Seattle:230, Portland:508, Eugene:684'\n",
      "\n",
      "cities = signposts.split(',')\n",
      "print cities\n",
      "\n",
      "miles = []\n",
      "for city in cities:\n",
      "    city.strip()\n",
      "    distance = int(city[city.find(':')+1:])\n",
      "    miles.append(distance)\n",
      "\n",
      "print miles"
     ],
     "language": "python",
     "metadata": {},
     "outputs": []
    },
    {
     "cell_type": "markdown",
     "metadata": {},
     "source": [
      "Use array broadcasting to create an array of the distances."
     ]
    },
    {
     "cell_type": "code",
     "collapsed": false,
     "input": [
      "mileposts = np.array(miles)\n",
      "mileposts_v = mileposts[:, newaxis]\n",
      "\n",
      "print mileposts.shape\n",
      "print mileposts_v.shape\n",
      "print mileposts\n",
      "print mileposts_v\n",
      "distance_array = np.abs(mileposts - mileposts_v)\n",
      "print distance_array"
     ],
     "language": "python",
     "metadata": {},
     "outputs": []
    },
    {
     "cell_type": "heading",
     "level": 3,
     "metadata": {},
     "source": [
      "Image manipulation"
     ]
    },
    {
     "cell_type": "markdown",
     "metadata": {},
     "source": [
      "Images can simply be represented as arrays of numbers. Use the code below to do the following exercises.  "
     ]
    },
    {
     "cell_type": "code",
     "collapsed": false,
     "input": [
      "#change the directory to your data folder\n",
      "%cd data"
     ],
     "language": "python",
     "metadata": {},
     "outputs": []
    },
    {
     "cell_type": "code",
     "collapsed": false,
     "input": [
      "import numpy as np\n",
      "from scipy.misc.pilutil import imread\n",
      "\n",
      "#import the image\n",
      "img = imread('neuro.tif')\n",
      "\n",
      "#display the image\n",
      "imshow(img)\n",
      "show()"
     ],
     "language": "python",
     "metadata": {},
     "outputs": []
    },
    {
     "cell_type": "markdown",
     "metadata": {},
     "source": [
      "What is the shape of the img array?  Can you display the red, green and blue channels?"
     ]
    },
    {
     "cell_type": "code",
     "collapsed": false,
     "input": [
      "print img.shape\n",
      "red = img[:,:,0]\n",
      "green = img[:,:,1]\n",
      "blue =  img[:,:,2]\n",
      "\n",
      "imshow(red)\n",
      "show()\n",
      "imshow(green)\n",
      "show()\n",
      "imshow(blue)\n",
      "show()"
     ],
     "language": "python",
     "metadata": {},
     "outputs": []
    },
    {
     "cell_type": "markdown",
     "metadata": {},
     "source": [
      "Convert red to magenta."
     ]
    },
    {
     "cell_type": "code",
     "collapsed": false,
     "input": [
      "img[:,:,2] = img[:,:,0]\n",
      "imshow(img)\n",
      "show()"
     ],
     "language": "python",
     "metadata": {},
     "outputs": []
    },
    {
     "cell_type": "markdown",
     "metadata": {},
     "source": [
      "Display the image rotated 90 degrees clockwise."
     ]
    },
    {
     "cell_type": "code",
     "collapsed": false,
     "input": [
      "imshow(rot90(img,3))\n",
      "show()"
     ],
     "language": "python",
     "metadata": {},
     "outputs": []
    },
    {
     "cell_type": "markdown",
     "metadata": {},
     "source": [
      "Reload the image. Change the threshold of the red channel so that all pixels below 20 are zero. Use array masking."
     ]
    },
    {
     "cell_type": "code",
     "collapsed": false,
     "input": [
      "img = imread('neuro.tif')\n",
      "red = img[:,:,0]\n",
      "\n",
      "mask = red<20\n",
      "red[mask] = 0\n",
      "img[:,:,0]=red\n",
      "imshow(img)\n",
      "show()"
     ],
     "language": "python",
     "metadata": {},
     "outputs": []
    },
    {
     "cell_type": "markdown",
     "metadata": {},
     "source": [
      "Show an image of the green fluorescence that overlaps with red.  Find the percentage of green fluorescence that overlap with red. Did you get an unexpected number?  Why?  Did you get the same answer if you re-ran the cell?  If not, why?"
     ]
    },
    {
     "cell_type": "code",
     "collapsed": false,
     "input": [
      "img = imread('neuro.tif')\n",
      "red = img[:,:,0].copy()\n",
      "green = img[:,:,1].copy()\n",
      "\n",
      "\n",
      "green_fluor = np.sum(green)\n",
      "imshow(green)\n",
      "show()\n",
      "\n",
      "\n",
      "red_mask = red<20\n",
      "green[red_mask] = 0\n",
      "\n",
      "masked_green_fluor = float(np.sum(green))\n",
      "\n",
      "imshow(green)\n",
      "show()\n",
      "print masked_green_fluor/green_fluor*100"
     ],
     "language": "python",
     "metadata": {},
     "outputs": []
    },
    {
     "cell_type": "code",
     "collapsed": false,
     "input": [],
     "language": "python",
     "metadata": {},
     "outputs": []
    }
   ],
   "metadata": {}
  }
 ]
}