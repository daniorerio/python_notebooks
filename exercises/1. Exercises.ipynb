{
 "metadata": {
  "name": "",
  "signature": "sha256:6dfe7f95bd5097aa9c7171ca1a61a632f9912a6ecf2546bc66cd9bf7d3929e98"
 },
 "nbformat": 3,
 "nbformat_minor": 0,
 "worksheets": [
  {
   "cells": [
    {
     "cell_type": "heading",
     "level": 1,
     "metadata": {},
     "source": [
      "Exercises Week 1"
     ]
    },
    {
     "cell_type": "markdown",
     "metadata": {},
     "source": [
      "String functions are useful for organizing and changing file names.  We will examine opening and closing files next week.\n",
      "\n",
      "Modify the given file names to indicate the file has been processed in same way, keeping the extension.\n",
      "Print a formatted string with the input and output file names.\n",
      "\n",
      "Try it using find.  Try using split.  Try again using replace.  Remember how to get help for str methods. "
     ]
    },
    {
     "cell_type": "code",
     "collapsed": false,
     "input": [
      "file_1 = 'image1.jpg'\n",
      "file_2 = 'data1.txt'"
     ],
     "language": "python",
     "metadata": {},
     "outputs": []
    },
    {
     "cell_type": "code",
     "collapsed": false,
     "input": [
      "str.find?"
     ],
     "language": "python",
     "metadata": {},
     "outputs": []
    },
    {
     "cell_type": "markdown",
     "metadata": {},
     "source": [
      "Find PstI sites in the atoh1a sequence.  Print out the sequence with the restriction sites in lower case."
     ]
    },
    {
     "cell_type": "code",
     "collapsed": false,
     "input": [
      "atoh1a = 'GAGACATCAGTAAAGAAATCCCCTTCACCACAGGTGTAAGAAGAGAAATCTTCCCAGGCAAAATATCCGTCCCTGTATCCATAGCCACAAACTTTCCTCCCAAAAGCACAAACCAACAGAATGGATGGAATGAGCACGGATACAAGAGAGGTGGTTGAACTCGACGTCCAGCATTCGAGCTTGGGGCGGGGGGAGCAGAGCGAGTACCCACCAGCCTTGGCACTCATGGCCAGCAGTGACCCACGCGCCTGGCTGGCTCCCGTGCAGGCTGGCACCTGCGCGGCACACGCCGAATACCTGCTGCACTCGCCCGGCTCGAGCGCGGAAGGCGTGTCCTCTGCCTCCAACTTCAGGAAGAGCAGCAAGAGTCCTGTCAAAGTACGCGAGCTCTGCCGGCTTAAAGGAGCTGTGGGGGCAGATGAGGGCAGACAGCGGGCCCCATCCAGCAAATCCACCAACGTCGTGCAGAAACAGAGGCGAATGGCTGCCAATGCCCGGGAGAGGCGAAGAATGCACGGATTGAACCACGCGTTCGACGAGCTGCGCAGTGTCATCCCAGCCTTTGACAACGACAAGAAACTCTCCAAGTACGAAACCCTGCAGATGGCCCAGATCTACATCAACGCCCTGTCCGACTTACTACAGGGCCCCGGTGCTAAAGCCGACCCGCCAAACTGCGACCTGCTGCATGCCAACGTGTTAGAAACGGACCGATCTCCCAGAGGATCACCGGGCGTCTGTCGGAGAGGCACGGGCGTGGGTTACCCGTACCAGTACGAGGACGGAACATTCAACTCTTTCATGGAGCAAGACCTCCAGTCGCCCTCTGGAACGAGCAAGTCTGGTTCGGAGGCCAGTAAAGACTCGCCTCGGTCGAACCGGAGTGATGGAGAGTTCTCGCCTCACTCGCACTTCAGTGACTCAGACGAAACGCACTTGGAGCTGCAGAGTGAAGACGAGCTGTCGGAACTGAAACTGGCCAAGCGCCGCGCTTTTTAAGAAAACACACCGCCGGACTGTCCCTCAATCGTGTCAATCGCATATCTGGGCTTTGTAATGGGTTGCTTTATTTATCCATTTGTTTTATGATCTTTTGACAATGCTGTTGTTGTGTCTGACGCCAATAGATTTTAGTTGCCTTCTCGTGACATTGACCAGACCCCTACGCCATGAGAACTGCCGCGAGCAGCAGTGCCATGGGCTCGAATGTCATGCATAAAACTGTCTTCCGCAAACTGTTTTGAGACTATTCATTCACACATGATTGTCATGGACCTATTTCACAGATACGATTGATTTTGAACCCTGTAACAATTTGCGACTTCTAAAGTTTACTTGCACTTTAAAAAACGGGCCGTAGGCTTGAGAAATATTCTTTTTTTCATGGAACAAGAAATGATGTGTTTATGTAGAAGTAATGCCAATTTGATGAATATATTTAATATAGCCATTAGATTTTGTACATCCGTTCATTTTTAATATTTGATTTCAATGCAAAGAAGTTGTGTTCTGCTTCTGTAGCTGAAGTAAGCTATTTATTCGTTTGCCTTGTCAATTTTTGTGTTACATTGGAAATGAGCTGTTTTGTTACTCTTATGATTTGTTTTATTGTAGGAATAAAAGAAAAAACAAACATGA'\n",
      "pst1 = 'CTGCAG'\n"
     ],
     "language": "python",
     "metadata": {},
     "outputs": []
    },
    {
     "cell_type": "markdown",
     "metadata": {},
     "source": [
      "(Modified from Enthought exercises)\n",
      "\n",
      "A [Caesar cypher](http://en.wikipedia.org/wiki/Caesar_cipher), also called shift-cypher is one of the simplest (and therefore most easily cracked) encryption methods. It is known to have been used by the Romans. It is a simple substitution cypher, where each letter of a document is replaced by the letter shifted some fixed distance down the alphabet, wrapping around when you reach Z.\n",
      "\n",
      "Using the letters variable below, slicing and string concatenation, build a string of all letters in the alphabet with the upper case letters shifted by 10. \n",
      "\n",
      "Make a translation table, and then use it to encode (translate) the message.  Look at  string.maketrans and string.translate for help.\n",
      "\n",
      "Make another translation table for decoding and decode the secret message."
     ]
    },
    {
     "cell_type": "code",
     "collapsed": false,
     "input": [
      "import string\n",
      "\n",
      "letters = \"ABCDEFGHIJKLMNOPQRSTUVWXYZ\"\n",
      "message = \"I CAME I SAW I CONQUERED\"\n",
      "secret_message = \"OD DE, LBEDO?\"\n"
     ],
     "language": "python",
     "metadata": {},
     "outputs": []
    },
    {
     "cell_type": "code",
     "collapsed": false,
     "input": [],
     "language": "python",
     "metadata": {},
     "outputs": []
    }
   ],
   "metadata": {}
  }
 ]
}