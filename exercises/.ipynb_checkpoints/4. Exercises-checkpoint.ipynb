{
 "metadata": {
  "name": "",
  "signature": "sha256:e861f201bad11f5793d44bfae77bb13311ab76cc88c30e6be5be9535a51f48b6"
 },
 "nbformat": 3,
 "nbformat_minor": 0,
 "worksheets": [
  {
   "cells": [
    {
     "cell_type": "heading",
     "level": 1,
     "metadata": {},
     "source": [
      "Week 4 Exercises"
     ]
    },
    {
     "cell_type": "heading",
     "level": 3,
     "metadata": {},
     "source": [
      "Problem 1"
     ]
    },
    {
     "cell_type": "markdown",
     "metadata": {},
     "source": [
      "Before you start, first copy the files 'hw1.txt' and 'hw2.txt' into a new file called 'hw' in the folder called data in your home directory.  You should have already made the data folder last week.\n",
      "\n",
      "Write a program to read in the text of each file in order, combine the text and print out the message.  \n",
      "\n",
      "First write some code to get the correct file path to access the folder containing the files."
     ]
    },
    {
     "cell_type": "code",
     "collapsed": false,
     "input": [
      "import os.path\n"
     ],
     "language": "python",
     "metadata": {},
     "outputs": []
    },
    {
     "cell_type": "markdown",
     "metadata": {},
     "source": [
      "Use the path to write some code to open 'hw1.txt', get the string it contains and print it."
     ]
    },
    {
     "cell_type": "code",
     "collapsed": false,
     "input": [],
     "language": "python",
     "metadata": {},
     "outputs": []
    },
    {
     "cell_type": "markdown",
     "metadata": {},
     "source": [
      "Next write some code to get a list of all the files in the 'hw' folder."
     ]
    },
    {
     "cell_type": "code",
     "collapsed": false,
     "input": [],
     "language": "python",
     "metadata": {},
     "outputs": []
    },
    {
     "cell_type": "markdown",
     "metadata": {},
     "source": [
      "To make a complete program, add a loop to open and print out the strings in each of the files."
     ]
    },
    {
     "cell_type": "code",
     "collapsed": false,
     "input": [],
     "language": "python",
     "metadata": {},
     "outputs": []
    },
    {
     "cell_type": "heading",
     "level": 3,
     "metadata": {},
     "source": [
      "Problem 2"
     ]
    },
    {
     "cell_type": "markdown",
     "metadata": {},
     "source": [
      "Write a program to get all zebrafish genes with expression in the structure 'neuromast'\n",
      "\n",
      "* The file containing gene expression data at http://zfin.org/downloads/wildtype-expression_fish.txt.\n"
     ]
    },
    {
     "cell_type": "markdown",
     "metadata": {},
     "source": [
      "First write some code to get the expression file.  Print out the first five lines of the file.  Were there extra newlines when you printed?  How would you get rid of these?"
     ]
    },
    {
     "cell_type": "code",
     "collapsed": false,
     "input": [
      "import csv\n",
      "import os\n",
      "import urllib2\n",
      "\n",
      "zfin = 'http://zfin.org/downloads/wildtype-expression.txt'\n",
      "\n"
     ],
     "language": "python",
     "metadata": {},
     "outputs": []
    },
    {
     "cell_type": "markdown",
     "metadata": {},
     "source": [
      "Modify your code to get just the ZDB-GENE name and the tissue expression from the first five lines.  Print these out."
     ]
    },
    {
     "cell_type": "code",
     "collapsed": false,
     "input": [],
     "language": "python",
     "metadata": {},
     "outputs": []
    },
    {
     "cell_type": "markdown",
     "metadata": {},
     "source": [
      "Modify your code to print out the whole line (converted into a list) only if the gene is expressed in 'neuromast'"
     ]
    },
    {
     "cell_type": "code",
     "collapsed": false,
     "input": [],
     "language": "python",
     "metadata": {},
     "outputs": []
    },
    {
     "cell_type": "markdown",
     "metadata": {},
     "source": [
      "Modify your code to write out the lines for all genes expressed in neuromasts to your data folder. Use the CSV module to write out a list as tab-delimited.  You can open the file in Excel to see what it looks like."
     ]
    },
    {
     "cell_type": "code",
     "collapsed": false,
     "input": [],
     "language": "python",
     "metadata": {},
     "outputs": []
    },
    {
     "cell_type": "heading",
     "level": 3,
     "metadata": {},
     "source": [
      "Problem 3"
     ]
    },
    {
     "cell_type": "markdown",
     "metadata": {},
     "source": [
      "Annotate your expression file to include Ensembl gene names.\n",
      "\n",
      "* Get the file containing Ensembl identifiers for zebrafish genes at 'http://zfin.org/downloads/ensembl_1_to_1.txt'"
     ]
    },
    {
     "cell_type": "markdown",
     "metadata": {},
     "source": [
      "First write some code to get the Ensembl identifier file.  Check that you have the right information."
     ]
    },
    {
     "cell_type": "code",
     "collapsed": false,
     "input": [
      "import csv\n",
      "import os\n",
      "import urllib2\n",
      "\n",
      "zfin = 'http://zfin.org/downloads/ensembl_1_to_1.txt'\n"
     ],
     "language": "python",
     "metadata": {},
     "outputs": []
    },
    {
     "cell_type": "markdown",
     "metadata": {},
     "source": [
      "You want to look up the Ensembl identifier for a given ZDB GENE name.  What data structure do you want to construct?\n",
      "\n",
      "Write some code to generate a dictionary from the Ensembl identifier file."
     ]
    },
    {
     "cell_type": "code",
     "collapsed": false,
     "input": [],
     "language": "python",
     "metadata": {},
     "outputs": []
    },
    {
     "cell_type": "markdown",
     "metadata": {},
     "source": [
      "Next write some code to open your expression file that you generated in Problem 2.  Print out the first 5 ZDB GENE identifiers."
     ]
    },
    {
     "cell_type": "code",
     "collapsed": false,
     "input": [],
     "language": "python",
     "metadata": {},
     "outputs": []
    },
    {
     "cell_type": "markdown",
     "metadata": {},
     "source": [
      "Modify your code to look up the ZDB GENE in your dictionary, and append the Ensembl identifier. Print out the first five lines. \n",
      "* Note that if a key is not in a dictionary there will be an error.  The evaluation statement 'key in dict' is true if a key is in a dictionary."
     ]
    },
    {
     "cell_type": "code",
     "collapsed": false,
     "input": [],
     "language": "python",
     "metadata": {},
     "outputs": []
    },
    {
     "cell_type": "markdown",
     "metadata": {},
     "source": [
      "Finally include code to write the data as a new file."
     ]
    },
    {
     "cell_type": "code",
     "collapsed": false,
     "input": [],
     "language": "python",
     "metadata": {},
     "outputs": []
    }
   ],
   "metadata": {}
  }
 ]
}