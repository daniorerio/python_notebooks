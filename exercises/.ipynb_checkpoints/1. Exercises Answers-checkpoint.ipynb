{
 "metadata": {
  "name": "",
  "signature": "sha256:79fa0f8ab6d2bef7ee5cabcfde1e1b3c013e769f03fc8bbc4f96a0267abceb18"
 },
 "nbformat": 3,
 "nbformat_minor": 0,
 "worksheets": [
  {
   "cells": [
    {
     "cell_type": "heading",
     "level": 1,
     "metadata": {},
     "source": [
      "Exercises Week 1"
     ]
    },
    {
     "cell_type": "markdown",
     "metadata": {},
     "source": [
      "String functions are useful for organizing and changing file names.  We will examine opening and closing files next week.\n",
      "\n",
      "Modify the given file names to indicate the file has been processed in same way, keeping the extension.\n",
      "Print a formatted string with the input and output file names.\n",
      "\n",
      "Try it using find.  Try using split.  Try again using replace.  Remember how to get help for str methods. "
     ]
    },
    {
     "cell_type": "code",
     "collapsed": false,
     "input": [
      "file_1 = 'image1.jpg'\n",
      "file_2 = 'data1.txt'"
     ],
     "language": "python",
     "metadata": {},
     "outputs": []
    },
    {
     "cell_type": "code",
     "collapsed": false,
     "input": [
      "file_1 = 'image1.jpg'\n",
      "file_2 = 'data1.txt'\n",
      "processed = '.processed'\n",
      "#with find\n",
      "file_1_out = file_1[:file_1.find('.')] + processed + file_1[file_1.find('.'):]\n",
      "print file_1_out\n",
      "\n",
      "#with split\n",
      "processed = '.processed.'\n",
      "name,ext = file_1.split('.')\n",
      "file_1_out = name + processed + ext\n",
      "print file_1_out\n",
      "\n",
      "#with replace\n",
      "processed = '.processed.'\n",
      "file_1_out = file_1.replace('.',processed)\n",
      "print file_1_out"
     ],
     "language": "python",
     "metadata": {},
     "outputs": [
      {
       "output_type": "stream",
       "stream": "stdout",
       "text": [
        "image1.processed.jpg\n",
        "image1.processed.jpg\n",
        "image1.processed.jpg\n"
       ]
      }
     ],
     "prompt_number": 1
    },
    {
     "cell_type": "code",
     "collapsed": false,
     "input": [
      "str.find?"
     ],
     "language": "python",
     "metadata": {},
     "outputs": [],
     "prompt_number": 2
    },
    {
     "cell_type": "markdown",
     "metadata": {},
     "source": [
      "Find PstI sites in the atoh1a sequence.  Print out the sequence with the restriction sites in lower case."
     ]
    },
    {
     "cell_type": "code",
     "collapsed": false,
     "input": [
      "atoh1a = 'GAGACATCAGTAAAGAAATCCCCTTCACCACAGGTGTAAGAAGAGAAATCTTCCCAGGCAAAATATCCGTCCCTGTATCCATAGCCACAAACTTTCCTCCCAAAAGCACAAACCAACAGAATGGATGGAATGAGCACGGATACAAGAGAGGTGGTTGAACTCGACGTCCAGCATTCGAGCTTGGGGCGGGGGGAGCAGAGCGAGTACCCACCAGCCTTGGCACTCATGGCCAGCAGTGACCCACGCGCCTGGCTGGCTCCCGTGCAGGCTGGCACCTGCGCGGCACACGCCGAATACCTGCTGCACTCGCCCGGCTCGAGCGCGGAAGGCGTGTCCTCTGCCTCCAACTTCAGGAAGAGCAGCAAGAGTCCTGTCAAAGTACGCGAGCTCTGCCGGCTTAAAGGAGCTGTGGGGGCAGATGAGGGCAGACAGCGGGCCCCATCCAGCAAATCCACCAACGTCGTGCAGAAACAGAGGCGAATGGCTGCCAATGCCCGGGAGAGGCGAAGAATGCACGGATTGAACCACGCGTTCGACGAGCTGCGCAGTGTCATCCCAGCCTTTGACAACGACAAGAAACTCTCCAAGTACGAAACCCTGCAGATGGCCCAGATCTACATCAACGCCCTGTCCGACTTACTACAGGGCCCCGGTGCTAAAGCCGACCCGCCAAACTGCGACCTGCTGCATGCCAACGTGTTAGAAACGGACCGATCTCCCAGAGGATCACCGGGCGTCTGTCGGAGAGGCACGGGCGTGGGTTACCCGTACCAGTACGAGGACGGAACATTCAACTCTTTCATGGAGCAAGACCTCCAGTCGCCCTCTGGAACGAGCAAGTCTGGTTCGGAGGCCAGTAAAGACTCGCCTCGGTCGAACCGGAGTGATGGAGAGTTCTCGCCTCACTCGCACTTCAGTGACTCAGACGAAACGCACTTGGAGCTGCAGAGTGAAGACGAGCTGTCGGAACTGAAACTGGCCAAGCGCCGCGCTTTTTAAGAAAACACACCGCCGGACTGTCCCTCAATCGTGTCAATCGCATATCTGGGCTTTGTAATGGGTTGCTTTATTTATCCATTTGTTTTATGATCTTTTGACAATGCTGTTGTTGTGTCTGACGCCAATAGATTTTAGTTGCCTTCTCGTGACATTGACCAGACCCCTACGCCATGAGAACTGCCGCGAGCAGCAGTGCCATGGGCTCGAATGTCATGCATAAAACTGTCTTCCGCAAACTGTTTTGAGACTATTCATTCACACATGATTGTCATGGACCTATTTCACAGATACGATTGATTTTGAACCCTGTAACAATTTGCGACTTCTAAAGTTTACTTGCACTTTAAAAAACGGGCCGTAGGCTTGAGAAATATTCTTTTTTTCATGGAACAAGAAATGATGTGTTTATGTAGAAGTAATGCCAATTTGATGAATATATTTAATATAGCCATTAGATTTTGTACATCCGTTCATTTTTAATATTTGATTTCAATGCAAAGAAGTTGTGTTCTGCTTCTGTAGCTGAAGTAAGCTATTTATTCGTTTGCCTTGTCAATTTTTGTGTTACATTGGAAATGAGCTGTTTTGTTACTCTTATGATTTGTTTTATTGTAGGAATAAAAGAAAAAACAAACATGA'\n",
      "pst1 = 'CTGCAG'\n",
      "\n",
      "pst_loc1 = atoh1a.find(pst1)\n",
      "print pst_loc1\n",
      "pst_loc2 = atoh1a.find(pst1,pst_loc1+1)\n",
      "print pst_loc2\n",
      "pst_loc3 = atoh1a.find(pst1,pst_loc2+1)\n",
      "print pst_loc3"
     ],
     "language": "python",
     "metadata": {},
     "outputs": [
      {
       "output_type": "stream",
       "stream": "stdout",
       "text": [
        "597\n",
        "942\n",
        "-1\n"
       ]
      }
     ],
     "prompt_number": 3
    },
    {
     "cell_type": "code",
     "collapsed": false,
     "input": [
      "pst1_lower = pst1.lower()\n",
      "atoh1a_cut = atoh1a.replace(pst1,pst1_lower)\n",
      "print atoh1a_cut"
     ],
     "language": "python",
     "metadata": {},
     "outputs": [
      {
       "output_type": "stream",
       "stream": "stdout",
       "text": [
        "GAGACATCAGTAAAGAAATCCCCTTCACCACAGGTGTAAGAAGAGAAATCTTCCCAGGCAAAATATCCGTCCCTGTATCCATAGCCACAAACTTTCCTCCCAAAAGCACAAACCAACAGAATGGATGGAATGAGCACGGATACAAGAGAGGTGGTTGAACTCGACGTCCAGCATTCGAGCTTGGGGCGGGGGGAGCAGAGCGAGTACCCACCAGCCTTGGCACTCATGGCCAGCAGTGACCCACGCGCCTGGCTGGCTCCCGTGCAGGCTGGCACCTGCGCGGCACACGCCGAATACCTGCTGCACTCGCCCGGCTCGAGCGCGGAAGGCGTGTCCTCTGCCTCCAACTTCAGGAAGAGCAGCAAGAGTCCTGTCAAAGTACGCGAGCTCTGCCGGCTTAAAGGAGCTGTGGGGGCAGATGAGGGCAGACAGCGGGCCCCATCCAGCAAATCCACCAACGTCGTGCAGAAACAGAGGCGAATGGCTGCCAATGCCCGGGAGAGGCGAAGAATGCACGGATTGAACCACGCGTTCGACGAGCTGCGCAGTGTCATCCCAGCCTTTGACAACGACAAGAAACTCTCCAAGTACGAAACCctgcagATGGCCCAGATCTACATCAACGCCCTGTCCGACTTACTACAGGGCCCCGGTGCTAAAGCCGACCCGCCAAACTGCGACCTGCTGCATGCCAACGTGTTAGAAACGGACCGATCTCCCAGAGGATCACCGGGCGTCTGTCGGAGAGGCACGGGCGTGGGTTACCCGTACCAGTACGAGGACGGAACATTCAACTCTTTCATGGAGCAAGACCTCCAGTCGCCCTCTGGAACGAGCAAGTCTGGTTCGGAGGCCAGTAAAGACTCGCCTCGGTCGAACCGGAGTGATGGAGAGTTCTCGCCTCACTCGCACTTCAGTGACTCAGACGAAACGCACTTGGAGctgcagAGTGAAGACGAGCTGTCGGAACTGAAACTGGCCAAGCGCCGCGCTTTTTAAGAAAACACACCGCCGGACTGTCCCTCAATCGTGTCAATCGCATATCTGGGCTTTGTAATGGGTTGCTTTATTTATCCATTTGTTTTATGATCTTTTGACAATGCTGTTGTTGTGTCTGACGCCAATAGATTTTAGTTGCCTTCTCGTGACATTGACCAGACCCCTACGCCATGAGAACTGCCGCGAGCAGCAGTGCCATGGGCTCGAATGTCATGCATAAAACTGTCTTCCGCAAACTGTTTTGAGACTATTCATTCACACATGATTGTCATGGACCTATTTCACAGATACGATTGATTTTGAACCCTGTAACAATTTGCGACTTCTAAAGTTTACTTGCACTTTAAAAAACGGGCCGTAGGCTTGAGAAATATTCTTTTTTTCATGGAACAAGAAATGATGTGTTTATGTAGAAGTAATGCCAATTTGATGAATATATTTAATATAGCCATTAGATTTTGTACATCCGTTCATTTTTAATATTTGATTTCAATGCAAAGAAGTTGTGTTCTGCTTCTGTAGCTGAAGTAAGCTATTTATTCGTTTGCCTTGTCAATTTTTGTGTTACATTGGAAATGAGCTGTTTTGTTACTCTTATGATTTGTTTTATTGTAGGAATAAAAGAAAAAACAAACATGA\n"
       ]
      }
     ],
     "prompt_number": 4
    },
    {
     "cell_type": "markdown",
     "metadata": {},
     "source": [
      "(Modified from Enthought exercises)\n",
      "\n",
      "A [Caesar cypher](http://en.wikipedia.org/wiki/Caesar_cipher), also called shift-cypher is one of the simplest (and therefore most easily cracked) encryption methods. It is known to have been used by the Romans. It is a simple substitution cypher, where each letter of a document is replaced by the letter shifted some fixed distance down the alphabet, wrapping around when you reach Z.\n",
      "\n",
      "Using the letters variable below, slicing and string concatenation, build a string of all letters in the alphabet with the upper case letters shifted by 10. \n",
      "\n",
      "Make a translation table, and then use it to encode (translate) the message.  Look at  string.maketrans and string.translate for help.\n",
      "\n",
      "Make another translation table for decoding and decode the secret message."
     ]
    },
    {
     "cell_type": "code",
     "collapsed": false,
     "input": [
      "import string\n",
      "\n",
      "letters = \"ABCDEFGHIJKLMNOPQRSTUVWXYZ\"\n",
      "message = \"I CAME I SAW I CONQUERED\"\n",
      "secret_message = \"OD DE, LBEDO?\"\n"
     ],
     "language": "python",
     "metadata": {},
     "outputs": []
    },
    {
     "cell_type": "code",
     "collapsed": false,
     "input": [
      "coded_letters = letters[16:]+letters[:16]\n",
      "print coded_letters"
     ],
     "language": "python",
     "metadata": {},
     "outputs": []
    },
    {
     "cell_type": "code",
     "collapsed": false,
     "input": [
      "table = string.maketrans(letters,coded_letters)\n",
      "coded_message = string.translate(message,table)\n",
      "print coded_message"
     ],
     "language": "python",
     "metadata": {},
     "outputs": []
    },
    {
     "cell_type": "code",
     "collapsed": false,
     "input": [
      "uncoded = string.translate(secret_message,table)\n",
      "print uncoded"
     ],
     "language": "python",
     "metadata": {},
     "outputs": []
    },
    {
     "cell_type": "code",
     "collapsed": false,
     "input": [],
     "language": "python",
     "metadata": {},
     "outputs": []
    }
   ],
   "metadata": {}
  }
 ]
}